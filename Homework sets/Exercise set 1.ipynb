{
 "cells": [
  {
   "cell_type": "markdown",
   "metadata": {},
   "source": [
    "<h3><b>Introduction to Data Analytics - Exercise set 1 - Python and NumPy Basics</b></h3>"
   ]
  },
  {
   "cell_type": "markdown",
   "metadata": {},
   "source": [
    "Put all your exercises (Jupyter Notebooks or Python-files) in your course Git-project.\n",
    "Use either code comments or Jupyter Notebook markdown (text) to document which exercise you are doing and what a certain code section does! \n",
    "You can return all of these exercises in a single Jupyter Notebook, if you wish.\n",
    "\n",
    "<img src=\"http://srv.plab.fi/~tuomasv/data_analytics_2023_images/exercise_set_1/numpylogo.png\" width=\"250\"/>"
   ]
  },
  {
   "cell_type": "code",
   "execution_count": 27,
   "metadata": {},
   "outputs": [],
   "source": [
    "# setup all needed modules and configurations\n",
    "import numpy as np"
   ]
  },
  {
   "cell_type": "code",
   "execution_count": 29,
   "metadata": {},
   "outputs": [],
   "source": [
    "# re-style the NumPy arrays\n",
    "# remember to install needed module first:\n",
    "# pip3 install numpy-html\n",
    "%reload_ext numpy_html"
   ]
  },
  {
   "cell_type": "markdown",
   "metadata": {},
   "source": [
    "Run the cell below to enable custom style for NumPy arrays:"
   ]
  },
  {
   "cell_type": "code",
   "execution_count": 30,
   "metadata": {},
   "outputs": [
    {
     "data": {
      "text/html": [
       "<style>\n",
       "table {margin-top: 16pt;}\n",
       "td {font-family: Arial, Helvetica, sans-serif !important; font-weight: 600; white-space: normal !important;}\n",
       "tr:nth-child(even) {background: #b0d9eb !important; color: black}\n",
       "tr:nth-child(odd) {background: #8fb1bf !important; color: black}\n",
       "</style>\n"
      ],
      "text/plain": [
       "<IPython.core.display.HTML object>"
      ]
     },
     "metadata": {},
     "output_type": "display_data"
    }
   ],
   "source": [
    "%%html\n",
    "<style>\n",
    "table {margin-top: 16pt;}\n",
    "td {font-family: Arial, Helvetica, sans-serif !important; font-weight: 600; white-space: normal !important;}\n",
    "tr:nth-child(even) {background: #b0d9eb !important; color: black}\n",
    "tr:nth-child(odd) {background: #8fb1bf !important; color: black}\n",
    "</style>"
   ]
  },
  {
   "cell_type": "markdown",
   "metadata": {},
   "source": [
    "<h4><b>1. Create these lists without NumPy:</b></h4>\n",
    "\n",
    "- List of 15 ones\n",
    "\n",
    "- List of 15 number 7's\n",
    "\n",
    "- List of numbers from 100 to 150\n",
    "\n",
    "- List of even numbers between 0 and 100\n",
    "\n",
    "- List of years that are divisible by 4 between 1950 and 2020\n",
    "\n",
    "<br>\n",
    "\n",
    "<b>Tip: creating a list with Python code is usually something like this:</b>\n",
    "\n",
    "<pre>\n",
    "numbers = []\n",
    "\n",
    "for x in range(0, 5):\n",
    "    numbers.append(x)\n",
    "</pre>"
   ]
  },
  {
   "cell_type": "code",
   "execution_count": 45,
   "metadata": {},
   "outputs": [
    {
     "data": {
      "text/plain": [
       "[100,\n",
       " 101,\n",
       " 102,\n",
       " 103,\n",
       " 104,\n",
       " 105,\n",
       " 106,\n",
       " 107,\n",
       " 108,\n",
       " 109,\n",
       " 110,\n",
       " 111,\n",
       " 112,\n",
       " 113,\n",
       " 114,\n",
       " 115,\n",
       " 116,\n",
       " 117,\n",
       " 118,\n",
       " 119,\n",
       " 120,\n",
       " 121,\n",
       " 122,\n",
       " 123,\n",
       " 124,\n",
       " 125,\n",
       " 126,\n",
       " 127,\n",
       " 128,\n",
       " 129,\n",
       " 130,\n",
       " 131,\n",
       " 132,\n",
       " 133,\n",
       " 134,\n",
       " 135,\n",
       " 136,\n",
       " 137,\n",
       " 138,\n",
       " 139,\n",
       " 140,\n",
       " 141,\n",
       " 142,\n",
       " 143,\n",
       " 144,\n",
       " 145,\n",
       " 146,\n",
       " 147,\n",
       " 148,\n",
       " 149,\n",
       " 150]"
      ]
     },
     "execution_count": 45,
     "metadata": {},
     "output_type": "execute_result"
    }
   ],
   "source": [
    "# exercise 1.1 List of 15 ones\n",
    "numbers = []\n",
    "\n",
    "for x in range(0, 15):\n",
    "    numbers.append(x)  \n",
    "    \n",
    "numbers\n",
    "\n",
    "# exercise 1.2 List of 15 number 7's\n",
    "numbers = []\n",
    "\n",
    "# exercise 1.3 List of numbers from 100 to 150\n",
    "numbers = []\n",
    "\n",
    "# exercise 1.4 List of even numbers between 0 and 100\n",
    "numbers = []\n",
    "\n",
    "for x in range(100, 151):\n",
    "    numbers.append(x)\n",
    "    \n",
    "numbers\n",
    "\n",
    "# exercise 1.5 List of years that are divisible by 4 between 1950 and 2020\n",
    "numbers = []\n",
    "\n"
   ]
  },
  {
   "cell_type": "markdown",
   "metadata": {},
   "source": [
    "<h4><b>2.\tNow, create these arrays with NumPy!</b></h4>\n",
    "\n",
    "- Array of 15 zeroes\n",
    "\n",
    "- Array of 15 ones\n",
    "\n",
    "- Array of 15 number 7's\n",
    "\n",
    "- Array of numbers from 100 to 150\n",
    "\n",
    "- Array of numbers from 1900 to 2021\n",
    "\n",
    "- Array of even numbers between 0 and 100\n",
    "\n",
    "- Array of years that are divisible by 4 between 1950 and 2020\n",
    "\n"
   ]
  },
  {
   "cell_type": "code",
   "execution_count": 47,
   "metadata": {},
   "outputs": [
    {
     "ename": "NameError",
     "evalue": "name 'a' is not defined",
     "output_type": "error",
     "traceback": [
      "\u001b[0;31m---------------------------------------------------------------------------\u001b[0m",
      "\u001b[0;31mNameError\u001b[0m                                 Traceback (most recent call last)",
      "\u001b[0;32m/var/folders/20/hrkxfm3x44z9qt9zqv_zchj00000gn/T/ipykernel_2575/914397066.py\u001b[0m in \u001b[0;36m<module>\u001b[0;34m\u001b[0m\n\u001b[1;32m     18\u001b[0m \u001b[0;34m\u001b[0m\u001b[0m\n\u001b[1;32m     19\u001b[0m \u001b[0mdata\u001b[0m \u001b[0;34m=\u001b[0m \u001b[0mnp\u001b[0m\u001b[0;34m.\u001b[0m\u001b[0marange\u001b[0m\u001b[0;34m(\u001b[0m\u001b[0;36m0\u001b[0m\u001b[0;34m,\u001b[0m \u001b[0;36m100\u001b[0m\u001b[0;34m)\u001b[0m\u001b[0;34m\u001b[0m\u001b[0;34m\u001b[0m\u001b[0m\n\u001b[0;32m---> 20\u001b[0;31m \u001b[0;32mif\u001b[0m \u001b[0ma\u001b[0m\u001b[0;34m.\u001b[0m\u001b[0mall\u001b[0m\u001b[0;34m(\u001b[0m\u001b[0;34m)\u001b[0m \u001b[0;34m%\u001b[0m \u001b[0;36m2\u001b[0m \u001b[0;34m==\u001b[0m \u001b[0;36m0\u001b[0m\u001b[0;34m:\u001b[0m\u001b[0;34m\u001b[0m\u001b[0;34m\u001b[0m\u001b[0m\n\u001b[0m\u001b[1;32m     21\u001b[0m     \u001b[0mdata\u001b[0m\u001b[0;34m\u001b[0m\u001b[0;34m\u001b[0m\u001b[0m\n\u001b[1;32m     22\u001b[0m \u001b[0;34m\u001b[0m\u001b[0m\n",
      "\u001b[0;31mNameError\u001b[0m: name 'a' is not defined"
     ]
    }
   ],
   "source": [
    "# exercise 2.1 Array of 15 zeroes\n",
    "data = np.zeros(15)\n",
    "data\n",
    "\n",
    "# exercise 2.2 Array of 15 ones\n",
    "data = np.ones(15)\n",
    "data\n",
    "\n",
    "# exercise 2.3 Array of 15 number 7's\n",
    "data = np.ones(15)\n",
    "data = data * 7\n",
    "data\n",
    "\n",
    "# exercise 2.4 Array of numbers from 100 to 150\n",
    "data = np.arange(100, 151)\n",
    "data\n",
    "\n",
    "# exercise 2.5 Array of numbers from 1900 to 2021\n",
    "data = np.arange(1900, 2022)\n",
    "data\n",
    "\n",
    "# exercise 2.6 Array of even numbers between 0 and 100\n",
    "data = np.arange(0, 100)\n",
    "if a.all() % 2 == 0:\n",
    "    data\n",
    "\n",
    "# exercise 2.7 Array of years that are divisible by 4 between 1950 and 2020\n",
    "\n",
    "\n",
    "# It was more difficult to create lists without NumPy because I did not remember how to do it :)"
   ]
  },
  {
   "cell_type": "markdown",
   "metadata": {},
   "source": [
    "<h4><b style=\"color: red\">Note: compare the NumPy code to the plain Python code after doing the exercises. Easier or more difficult? :) \n",
    "(answer in code comments or as text in Jupyter Notebook)</b></h4>"
   ]
  },
  {
   "cell_type": "markdown",
   "metadata": {},
   "source": [
    "<h3><b>3. Let's try out NumPy matrices:</b></h3>\n",
    "\n",
    "- Create a 7x7 matrix, with values from 1 to 49\n",
    "\n",
    "    - Extra task: Create this matrix (list of lists) without NumPy in Python!\n",
    "\n",
    "<br>\n",
    "\n",
    "- Generate 8x8 random number matrix, values between 0 and 5\n",
    "\n",
    "- Generate 8x8 random number matrix, using standard normal distribution values (= values are between -3 and 3)\n"
   ]
  },
  {
   "cell_type": "code",
   "execution_count": 52,
   "metadata": {},
   "outputs": [
    {
     "data": {
      "text/html": [
       "<table style='border-style:solid;border-width:1px;'>\n",
       "<tr>\n",
       "<td style=\"font-family:monospace;white-space: pre;\" title=\"(0, 0)\"><center>2 </center></td>\n",
       "<td style=\"font-family:monospace;white-space: pre;\" title=\"(0, 1)\"><center>2 </center></td>\n",
       "<td style=\"font-family:monospace;white-space: pre;\" title=\"(0, 2)\"><center>-3</center></td>\n",
       "<td style=\"font-family:monospace;white-space: pre;\" title=\"(0, 3)\"><center>0 </center></td>\n",
       "<td style=\"font-family:monospace;white-space: pre;\" title=\"(0, 4)\"><center>-1</center></td>\n",
       "<td style=\"font-family:monospace;white-space: pre;\" title=\"(0, 5)\"><center>-2</center></td>\n",
       "<td style=\"font-family:monospace;white-space: pre;\" title=\"(0, 6)\"><center>1 </center></td>\n",
       "<td style=\"font-family:monospace;white-space: pre;\" title=\"(0, 7)\"><center>-3</center></td>\n",
       "</tr>\n",
       "<tr>\n",
       "<td style=\"font-family:monospace;white-space: pre;\" title=\"(1, 0)\"><center>1 </center></td>\n",
       "<td style=\"font-family:monospace;white-space: pre;\" title=\"(1, 1)\"><center>-1</center></td>\n",
       "<td style=\"font-family:monospace;white-space: pre;\" title=\"(1, 2)\"><center>-2</center></td>\n",
       "<td style=\"font-family:monospace;white-space: pre;\" title=\"(1, 3)\"><center>2 </center></td>\n",
       "<td style=\"font-family:monospace;white-space: pre;\" title=\"(1, 4)\"><center>2 </center></td>\n",
       "<td style=\"font-family:monospace;white-space: pre;\" title=\"(1, 5)\"><center>-3</center></td>\n",
       "<td style=\"font-family:monospace;white-space: pre;\" title=\"(1, 6)\"><center>-1</center></td>\n",
       "<td style=\"font-family:monospace;white-space: pre;\" title=\"(1, 7)\"><center>-1</center></td>\n",
       "</tr>\n",
       "<tr>\n",
       "<td style=\"font-family:monospace;white-space: pre;\" title=\"(2, 0)\"><center>-2</center></td>\n",
       "<td style=\"font-family:monospace;white-space: pre;\" title=\"(2, 1)\"><center>-2</center></td>\n",
       "<td style=\"font-family:monospace;white-space: pre;\" title=\"(2, 2)\"><center>0 </center></td>\n",
       "<td style=\"font-family:monospace;white-space: pre;\" title=\"(2, 3)\"><center>-2</center></td>\n",
       "<td style=\"font-family:monospace;white-space: pre;\" title=\"(2, 4)\"><center>0 </center></td>\n",
       "<td style=\"font-family:monospace;white-space: pre;\" title=\"(2, 5)\"><center>1 </center></td>\n",
       "<td style=\"font-family:monospace;white-space: pre;\" title=\"(2, 6)\"><center>1 </center></td>\n",
       "<td style=\"font-family:monospace;white-space: pre;\" title=\"(2, 7)\"><center>2 </center></td>\n",
       "</tr>\n",
       "<tr>\n",
       "<td style=\"font-family:monospace;white-space: pre;\" title=\"(3, 0)\"><center>0 </center></td>\n",
       "<td style=\"font-family:monospace;white-space: pre;\" title=\"(3, 1)\"><center>-2</center></td>\n",
       "<td style=\"font-family:monospace;white-space: pre;\" title=\"(3, 2)\"><center>1 </center></td>\n",
       "<td style=\"font-family:monospace;white-space: pre;\" title=\"(3, 3)\"><center>-2</center></td>\n",
       "<td style=\"font-family:monospace;white-space: pre;\" title=\"(3, 4)\"><center>0 </center></td>\n",
       "<td style=\"font-family:monospace;white-space: pre;\" title=\"(3, 5)\"><center>1 </center></td>\n",
       "<td style=\"font-family:monospace;white-space: pre;\" title=\"(3, 6)\"><center>-3</center></td>\n",
       "<td style=\"font-family:monospace;white-space: pre;\" title=\"(3, 7)\"><center>2 </center></td>\n",
       "</tr>\n",
       "<tr>\n",
       "<td style=\"font-family:monospace;white-space: pre;\" title=\"(4, 0)\"><center>0 </center></td>\n",
       "<td style=\"font-family:monospace;white-space: pre;\" title=\"(4, 1)\"><center>1 </center></td>\n",
       "<td style=\"font-family:monospace;white-space: pre;\" title=\"(4, 2)\"><center>-2</center></td>\n",
       "<td style=\"font-family:monospace;white-space: pre;\" title=\"(4, 3)\"><center>0 </center></td>\n",
       "<td style=\"font-family:monospace;white-space: pre;\" title=\"(4, 4)\"><center>1 </center></td>\n",
       "<td style=\"font-family:monospace;white-space: pre;\" title=\"(4, 5)\"><center>-2</center></td>\n",
       "<td style=\"font-family:monospace;white-space: pre;\" title=\"(4, 6)\"><center>1 </center></td>\n",
       "<td style=\"font-family:monospace;white-space: pre;\" title=\"(4, 7)\"><center>1 </center></td>\n",
       "</tr>\n",
       "<tr>\n",
       "<td style=\"font-family:monospace;white-space: pre;\" title=\"(5, 0)\"><center>1 </center></td>\n",
       "<td style=\"font-family:monospace;white-space: pre;\" title=\"(5, 1)\"><center>-3</center></td>\n",
       "<td style=\"font-family:monospace;white-space: pre;\" title=\"(5, 2)\"><center>1 </center></td>\n",
       "<td style=\"font-family:monospace;white-space: pre;\" title=\"(5, 3)\"><center>-1</center></td>\n",
       "<td style=\"font-family:monospace;white-space: pre;\" title=\"(5, 4)\"><center>1 </center></td>\n",
       "<td style=\"font-family:monospace;white-space: pre;\" title=\"(5, 5)\"><center>-1</center></td>\n",
       "<td style=\"font-family:monospace;white-space: pre;\" title=\"(5, 6)\"><center>2 </center></td>\n",
       "<td style=\"font-family:monospace;white-space: pre;\" title=\"(5, 7)\"><center>-2</center></td>\n",
       "</tr>\n",
       "<tr>\n",
       "<td style=\"font-family:monospace;white-space: pre;\" title=\"(6, 0)\"><center>2 </center></td>\n",
       "<td style=\"font-family:monospace;white-space: pre;\" title=\"(6, 1)\"><center>-2</center></td>\n",
       "<td style=\"font-family:monospace;white-space: pre;\" title=\"(6, 2)\"><center>-2</center></td>\n",
       "<td style=\"font-family:monospace;white-space: pre;\" title=\"(6, 3)\"><center>-2</center></td>\n",
       "<td style=\"font-family:monospace;white-space: pre;\" title=\"(6, 4)\"><center>2 </center></td>\n",
       "<td style=\"font-family:monospace;white-space: pre;\" title=\"(6, 5)\"><center>1 </center></td>\n",
       "<td style=\"font-family:monospace;white-space: pre;\" title=\"(6, 6)\"><center>-3</center></td>\n",
       "<td style=\"font-family:monospace;white-space: pre;\" title=\"(6, 7)\"><center>2 </center></td>\n",
       "</tr>\n",
       "<tr>\n",
       "<td style=\"font-family:monospace;white-space: pre;\" title=\"(7, 0)\"><center>-2</center></td>\n",
       "<td style=\"font-family:monospace;white-space: pre;\" title=\"(7, 1)\"><center>0 </center></td>\n",
       "<td style=\"font-family:monospace;white-space: pre;\" title=\"(7, 2)\"><center>-2</center></td>\n",
       "<td style=\"font-family:monospace;white-space: pre;\" title=\"(7, 3)\"><center>2 </center></td>\n",
       "<td style=\"font-family:monospace;white-space: pre;\" title=\"(7, 4)\"><center>2 </center></td>\n",
       "<td style=\"font-family:monospace;white-space: pre;\" title=\"(7, 5)\"><center>0 </center></td>\n",
       "<td style=\"font-family:monospace;white-space: pre;\" title=\"(7, 6)\"><center>1 </center></td>\n",
       "<td style=\"font-family:monospace;white-space: pre;\" title=\"(7, 7)\"><center>-1</center></td>\n",
       "</tr>\n",
       "</table>"
      ],
      "text/plain": [
       "array([[ 2,  2, -3,  0, -1, -2,  1, -3],\n",
       "       [ 1, -1, -2,  2,  2, -3, -1, -1],\n",
       "       [-2, -2,  0, -2,  0,  1,  1,  2],\n",
       "       [ 0, -2,  1, -2,  0,  1, -3,  2],\n",
       "       [ 0,  1, -2,  0,  1, -2,  1,  1],\n",
       "       [ 1, -3,  1, -1,  1, -1,  2, -2],\n",
       "       [ 2, -2, -2, -2,  2,  1, -3,  2],\n",
       "       [-2,  0, -2,  2,  2,  0,  1, -1]])"
      ]
     },
     "execution_count": 52,
     "metadata": {},
     "output_type": "execute_result"
    }
   ],
   "source": [
    "# exercise 3: create a 7x7 matrix, with values from 1 to 49\n",
    "data = np.arange(1, 50).reshape(7, 7)\n",
    "data\n",
    "\n",
    "# Generate 8x8 random number matrix, values between 0 and 5\n",
    "data = np.random.randint(0, 5, 64).reshape(8, 8) # There is no info how many values should be. I did 64, is it correct?\n",
    "data\n",
    "\n",
    "# Generate 8x8 random number matrix, using standard normal distribution values (= values are between -3 and 3)\n",
    "data = np.random.randint(-3, 3, 64).reshape(8, 8)\n",
    "data"
   ]
  },
  {
   "cell_type": "markdown",
   "metadata": {},
   "source": [
    "<h3><b>4. Create a linearly spaced… </b></h3>\n",
    "\n",
    "- array (list/vector) of 10 values between value 0 and 1\n",
    "\n",
    "- 10x10 matrix between values 0 and 5\n",
    "\n",
    "    - Extra task: create this matrix without NumPy as well!\n",
    "\n",
    "\n",
    "<img src=\"http://srv.plab.fi/~tuomasv/data_analytics_2023_images/exercise_set_1/cubes.png\"/>\n"
   ]
  },
  {
   "cell_type": "code",
   "execution_count": 64,
   "metadata": {},
   "outputs": [
    {
     "ename": "ValueError",
     "evalue": "cannot reshape array of size 6 into shape (10,10)",
     "output_type": "error",
     "traceback": [
      "\u001b[0;31m---------------------------------------------------------------------------\u001b[0m",
      "\u001b[0;31mValueError\u001b[0m                                Traceback (most recent call last)",
      "\u001b[0;32m/var/folders/20/hrkxfm3x44z9qt9zqv_zchj00000gn/T/ipykernel_2575/3943448421.py\u001b[0m in \u001b[0;36m<module>\u001b[0;34m\u001b[0m\n\u001b[1;32m      4\u001b[0m \u001b[0;34m\u001b[0m\u001b[0m\n\u001b[1;32m      5\u001b[0m \u001b[0;31m# 10x10 matrix between values 0 and 5\u001b[0m\u001b[0;34m\u001b[0m\u001b[0;34m\u001b[0m\u001b[0m\n\u001b[0;32m----> 6\u001b[0;31m \u001b[0mdata\u001b[0m \u001b[0;34m=\u001b[0m \u001b[0mnp\u001b[0m\u001b[0;34m.\u001b[0m\u001b[0marange\u001b[0m\u001b[0;34m(\u001b[0m\u001b[0;36m0\u001b[0m\u001b[0;34m,\u001b[0m \u001b[0;36m6\u001b[0m\u001b[0;34m)\u001b[0m\u001b[0;34m.\u001b[0m\u001b[0mreshape\u001b[0m\u001b[0;34m(\u001b[0m\u001b[0;36m10\u001b[0m\u001b[0;34m,\u001b[0m \u001b[0;36m10\u001b[0m\u001b[0;34m)\u001b[0m\u001b[0;34m\u001b[0m\u001b[0;34m\u001b[0m\u001b[0m\n\u001b[0m\u001b[1;32m      7\u001b[0m \u001b[0mdata\u001b[0m\u001b[0;34m\u001b[0m\u001b[0;34m\u001b[0m\u001b[0m\n",
      "\u001b[0;31mValueError\u001b[0m: cannot reshape array of size 6 into shape (10,10)"
     ]
    }
   ],
   "source": [
    "# exercise 4: create a linearly spaced array (list/vector) of 10 values between value 0 and 1\n",
    "data = np.linspace(0, 1, 10)\n",
    "data\n",
    "\n",
    "# 10x10 matrix between values 0 and 5\n",
    "data = np.arange(0, 6).reshape(10, 10)\n",
    "data"
   ]
  },
  {
   "cell_type": "markdown",
   "metadata": {},
   "source": [
    "<h3><b>5. Recreate the matrices in code based on the pictures.</b></h3>\n",
    "\n",
    "- Create this 3x5 matrix with NumPy:\n",
    "\n",
    "<img src=\"http://srv.plab.fi/~tuomasv/data_analytics_2023_images/exercise_set_1/matrix1.png\"/>\n",
    "\n",
    "\n",
    "Note: The values above have no logic, you'll have to feed basic Python lists to NumPy for this result\n"
   ]
  },
  {
   "cell_type": "code",
   "execution_count": 6,
   "metadata": {},
   "outputs": [],
   "source": [
    "# exercise 5: Create this 3x5 matrix with NumPy\n"
   ]
  },
  {
   "cell_type": "markdown",
   "metadata": {},
   "source": [
    "- Generate this NumPy array:\n",
    "\n",
    "<img src=\"http://srv.plab.fi/~tuomasv/data_analytics_2023_images/exercise_set_1/matrix2.png\" width=\"800\"/>"
   ]
  },
  {
   "cell_type": "code",
   "execution_count": 7,
   "metadata": {},
   "outputs": [],
   "source": [
    "# exercise 1.5b, generate NumPy array / matrix\n"
   ]
  },
  {
   "cell_type": "markdown",
   "metadata": {},
   "source": [
    "- Generate this NumPy array:\n",
    "\n",
    "<img src=\"http://srv.plab.fi/~tuomasv/data_analytics_2023_images/exercise_set_1/matrix3.png\" width=\"500\"/>\n",
    "\n",
    "<b>Tips:</b> arange-function (and step-parameter) + reshape is recommended. Alternatively you can use broadcasting and division if you like."
   ]
  },
  {
   "cell_type": "code",
   "execution_count": 8,
   "metadata": {},
   "outputs": [],
   "source": [
    "# exercise 1.5c, generate NumPy array / matrix\n"
   ]
  },
  {
   "cell_type": "markdown",
   "metadata": {},
   "source": [
    "<h3><b>6. Use this matrix in your code:</b></h3>\n",
    "\n",
    "dataset = np.arange(1, 37).reshape(6, 6)\n",
    "\n",
    "<img src=\"http://srv.plab.fi/~tuomasv/data_analytics_2023_images/exercise_set_1/matrix4.png\"/>\n"
   ]
  },
  {
   "cell_type": "code",
   "execution_count": 9,
   "metadata": {},
   "outputs": [
    {
     "ename": "NameError",
     "evalue": "name 'np' is not defined",
     "output_type": "error",
     "traceback": [
      "\u001b[0;31m---------------------------------------------------------------------------\u001b[0m",
      "\u001b[0;31mNameError\u001b[0m                                 Traceback (most recent call last)",
      "\u001b[0;32m/var/folders/20/hrkxfm3x44z9qt9zqv_zchj00000gn/T/ipykernel_2575/1830287719.py\u001b[0m in \u001b[0;36m<module>\u001b[0;34m\u001b[0m\n\u001b[1;32m      1\u001b[0m \u001b[0;31m# exercise 1.6a, matrix slicing\u001b[0m\u001b[0;34m\u001b[0m\u001b[0;34m\u001b[0m\u001b[0m\n\u001b[0;32m----> 2\u001b[0;31m \u001b[0mdataset\u001b[0m \u001b[0;34m=\u001b[0m \u001b[0mnp\u001b[0m\u001b[0;34m.\u001b[0m\u001b[0marange\u001b[0m\u001b[0;34m(\u001b[0m\u001b[0;36m1\u001b[0m\u001b[0;34m,\u001b[0m \u001b[0;36m37\u001b[0m\u001b[0;34m)\u001b[0m\u001b[0;34m.\u001b[0m\u001b[0mreshape\u001b[0m\u001b[0;34m(\u001b[0m\u001b[0;36m6\u001b[0m\u001b[0;34m,\u001b[0m \u001b[0;36m6\u001b[0m\u001b[0;34m)\u001b[0m\u001b[0;34m\u001b[0m\u001b[0;34m\u001b[0m\u001b[0m\n\u001b[0m\u001b[1;32m      3\u001b[0m \u001b[0mdataset\u001b[0m\u001b[0;34m\u001b[0m\u001b[0;34m\u001b[0m\u001b[0m\n",
      "\u001b[0;31mNameError\u001b[0m: name 'np' is not defined"
     ]
    }
   ],
   "source": [
    "# exercise 1.6a, matrix slicing\n",
    "dataset = np.arange(1, 37).reshape(6, 6)\n",
    "dataset"
   ]
  },
  {
   "cell_type": "markdown",
   "metadata": {},
   "source": [
    "- Create a slice of the matrix that contains this part of the matrix:\n",
    "\n",
    "<img src=\"http://srv.plab.fi/~tuomasv/data_analytics_2023_images/exercise_set_1/matrix5.png\"/>"
   ]
  },
  {
   "cell_type": "code",
   "execution_count": 10,
   "metadata": {},
   "outputs": [],
   "source": [
    "# exercise 1.6b, matrix slicing\n"
   ]
  },
  {
   "cell_type": "markdown",
   "metadata": {},
   "source": [
    "- Pick out this column slice from data\n",
    "\n",
    "<img src=\"http://srv.plab.fi/~tuomasv/data_analytics_2023_images/exercise_set_1/series1.png\"/>"
   ]
  },
  {
   "cell_type": "code",
   "execution_count": 11,
   "metadata": {},
   "outputs": [],
   "source": [
    "# exercise 1.6c, matrix slicing\n"
   ]
  },
  {
   "cell_type": "markdown",
   "metadata": {},
   "source": [
    "- Pick out this row from the data\n",
    "\n",
    "<img src=\"http://srv.plab.fi/~tuomasv/data_analytics_2023_images/exercise_set_1/series2.png\"/>"
   ]
  },
  {
   "cell_type": "code",
   "execution_count": 12,
   "metadata": {},
   "outputs": [],
   "source": [
    "# exercise 1.6d, matrix slicing"
   ]
  },
  {
   "cell_type": "markdown",
   "metadata": {},
   "source": [
    "- Pick out these three rows from data:\n",
    "\n",
    "<img src=\"http://srv.plab.fi/~tuomasv/data_analytics_2023_images/exercise_set_1/matrix6.png\"/>"
   ]
  },
  {
   "cell_type": "code",
   "execution_count": 13,
   "metadata": {},
   "outputs": [],
   "source": [
    "# exercise 1.6e, matrix slicing"
   ]
  },
  {
   "cell_type": "markdown",
   "metadata": {},
   "source": [
    "<h3><b>7. Use this matrix:</b></h3>\n",
    "\n",
    "<b>dataset_2 = np.arange(1, 50).reshape(7, 7)</b>\n",
    "\n",
    "- Add 50 to all values in the array (use broadcasting)\n",
    "\n",
    "- Get the sum of all values in the dataset\n",
    "\n",
    "- Get sum of only odd numbers in the dataset\n",
    "\n",
    "- Get the standard deviation of the values in the dataset\n",
    "\n",
    "- Get the sum of all values by ROW in the dataset\n",
    "\n",
    "- Get the sum of all values by COLUMN in the dataset (tip, use the axis –parameter)\n",
    "\n",
    "<br>\n",
    "\n",
    "- <b>Extra task:</b> Do the total sum, row sum and column sum exercises< <b>without</b> NumPy in Python!\n",
    "\n",
    "<br><br>\n",
    "<img src=\"http://srv.plab.fi/~tuomasv/data_analytics_2023_images/exercise_set_1/desktopcomputer.png\"/>\n"
   ]
  },
  {
   "cell_type": "code",
   "execution_count": 14,
   "metadata": {},
   "outputs": [
    {
     "ename": "NameError",
     "evalue": "name 'np' is not defined",
     "output_type": "error",
     "traceback": [
      "\u001b[0;31m---------------------------------------------------------------------------\u001b[0m",
      "\u001b[0;31mNameError\u001b[0m                                 Traceback (most recent call last)",
      "\u001b[0;32m/var/folders/20/hrkxfm3x44z9qt9zqv_zchj00000gn/T/ipykernel_2575/252888996.py\u001b[0m in \u001b[0;36m<module>\u001b[0;34m\u001b[0m\n\u001b[1;32m      1\u001b[0m \u001b[0;31m# exercise 1.7, NumPy -operations on a matrix\u001b[0m\u001b[0;34m\u001b[0m\u001b[0;34m\u001b[0m\u001b[0m\n\u001b[0;32m----> 2\u001b[0;31m \u001b[0mdataset_2\u001b[0m \u001b[0;34m=\u001b[0m \u001b[0mnp\u001b[0m\u001b[0;34m.\u001b[0m\u001b[0marange\u001b[0m\u001b[0;34m(\u001b[0m\u001b[0;36m1\u001b[0m\u001b[0;34m,\u001b[0m \u001b[0;36m50\u001b[0m\u001b[0;34m)\u001b[0m\u001b[0;34m.\u001b[0m\u001b[0mreshape\u001b[0m\u001b[0;34m(\u001b[0m\u001b[0;36m7\u001b[0m\u001b[0;34m,\u001b[0m \u001b[0;36m7\u001b[0m\u001b[0;34m)\u001b[0m\u001b[0;34m\u001b[0m\u001b[0;34m\u001b[0m\u001b[0m\n\u001b[0m",
      "\u001b[0;31mNameError\u001b[0m: name 'np' is not defined"
     ]
    }
   ],
   "source": [
    "# exercise 1.7, NumPy -operations on a matrix\n",
    "dataset_2 = np.arange(1, 50).reshape(7, 7)\n"
   ]
  },
  {
   "cell_type": "markdown",
   "metadata": {},
   "source": [
    "<br><br>\n",
    "<h2><b>Advanced extra tasks for extra points (varying challenges, some require Googling):</b></h2>"
   ]
  },
  {
   "cell_type": "markdown",
   "metadata": {},
   "source": [
    "<h3><b>1. Create two files for this exercise: save_matrix.py and read_matrix.py</b></h3>\n",
    "\n",
    "- in save_matrix.py: create a 15x15 matrix, and save it to a file (matrix.txt)\n",
    " - in read_matrix.py, read matrix.txt, and convert it back to a NumPy matrix\n",
    "\n",
    "NumPy has loadtxt() and savetxt()-functions for these purposes.\n"
   ]
  },
  {
   "cell_type": "code",
   "execution_count": 15,
   "metadata": {},
   "outputs": [],
   "source": [
    "# advanced extra exercise 1\n"
   ]
  },
  {
   "cell_type": "markdown",
   "metadata": {},
   "source": [
    "<h3><b>2. Masked arrays are a feature of NumPy that allow us to deal with pieces data that are incorrect or missing in a dataset (for example, faulty measurements from equipment etc.).</b></h3>\n",
    "\n",
    "Create a NumPy matrix, that contains numbers between 0 to 50, and put some faulty numbers in a 10 different spots \n",
    "(for example: -100)\n",
    "\n",
    "Use a masked array to handle the -100 values in your matrix. Replace every -100 with 0.\n"
   ]
  },
  {
   "cell_type": "code",
   "execution_count": 16,
   "metadata": {},
   "outputs": [],
   "source": [
    "# advanced extra exercise 2\n"
   ]
  },
  {
   "cell_type": "markdown",
   "metadata": {},
   "source": [
    "<h3><b>3. argsort is a feature of NumPy  that allows you to sort a NumPy array based on another NumPy array. </b></h3>\n",
    "\n",
    "This is useful if you have two separate arrays, but their data  should be in sync even if order of data is changed. For example, one array contains the prices of cars, and another contains the manufacturing years. If we wish to sort the data by manufacturing years, and keep the prices in sync as well, argsort will be handy.\n",
    "\n",
    "Useful link:\n",
    "http://arogozhnikov.github.io/2015/09/29/NumpyTipsAndTricks1.html\n",
    "\n",
    "Create two random datasets:\n",
    "\n",
    "- Manufacturing years of 10 cars, values between 2010 and 2020\n",
    "\n",
    "- Selling price of 10 cars, prices between 2000€ and 60000€\n",
    "\n",
    "Use argsort to sort both datasets according to manufacturing years.\n"
   ]
  },
  {
   "cell_type": "code",
   "execution_count": 17,
   "metadata": {},
   "outputs": [],
   "source": [
    "# advanced extra exercise 3\n"
   ]
  },
  {
   "cell_type": "markdown",
   "metadata": {},
   "source": [
    "<h3><b>4. Try out the following additional NumPy features, and discuss in your code comments or in Jupyter Notebook text where they could be useful. You can also Google and search for ideas where these could be used. </b></h3>\n",
    "\n",
    "You can write your thoughts as comments in the code or Jupyter text as you try out each feature.\n",
    "\n",
    "- np.repeat()\n",
    "\n",
    "- np.ravel()\n",
    "\n",
    "- np.hsplit(), np.vsplit(), np.hstack, np.vstack()\n",
    "\n",
    "- np.transpose()\n",
    "\n",
    "- np.round()\n",
    "\n",
    "- np.expand_dims(), np.squeeze()\n",
    "\n",
    "- np.digitize()\n",
    "\n",
    "\n"
   ]
  },
  {
   "cell_type": "code",
   "execution_count": 18,
   "metadata": {},
   "outputs": [],
   "source": [
    "# advanced extra exercise 4\n"
   ]
  },
  {
   "cell_type": "code",
   "execution_count": null,
   "metadata": {},
   "outputs": [],
   "source": []
  }
 ],
 "metadata": {
  "kernelspec": {
   "display_name": "Python 3 (ipykernel)",
   "language": "python",
   "name": "python3"
  },
  "language_info": {
   "codemirror_mode": {
    "name": "ipython",
    "version": 3
   },
   "file_extension": ".py",
   "mimetype": "text/x-python",
   "name": "python",
   "nbconvert_exporter": "python",
   "pygments_lexer": "ipython3",
   "version": "3.9.13"
  },
  "vscode": {
   "interpreter": {
    "hash": "1a156f90a5470c91589eb6933e5684e25ad9385425853320b76214373e8d592f"
   }
  }
 },
 "nbformat": 4,
 "nbformat_minor": 2
}
