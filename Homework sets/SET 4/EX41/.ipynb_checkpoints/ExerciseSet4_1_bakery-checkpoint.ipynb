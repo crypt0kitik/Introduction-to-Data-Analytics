{
 "cells": [
  {
   "attachments": {},
   "cell_type": "markdown",
   "metadata": {},
   "source": [
    "<h3><b>Introduction to Data Analytics - Exercise set 4, exercise 1</b></h3>\n",
    "<h4><b>Bakery dataset</b></h4>\n",
    "<img src=\"http://srv.plab.fi/~tuomasv/data_analytics_2023_images/exercise_set_4/bakery.png\" />"
   ]
  },
  {
   "attachments": {},
   "cell_type": "markdown",
   "metadata": {},
   "source": [
    "<b>Tip:</b> You can just click \"Run All\" to see the results of this notebook. Some of these exercises have some heavy plots that can take even 1 minute to produce."
   ]
  },
  {
   "attachments": {},
   "cell_type": "markdown",
   "metadata": {},
   "source": [
    "<b>Remember:</b> not every dataset has interesting correlations and/or features (too much randomness or variance usually, or not enough data). Also, not each correlation implies there's a causation. Finally, not every plot is useful, that's why it's important to try multiple plots in order to \"see under the hood\". Typically pair plots, joint plots, regression plots, heatmaps and box plots are most useful, but there are some exceptions too."
   ]
  },
  {
   "attachments": {},
   "cell_type": "markdown",
   "metadata": {},
   "source": [
    "<h3><b>Quick summary of data:</b></h3>\n",
    "\n",
    "<p>This data contains a sample of a French bakery sales data from years 2021 and 2022. The data for 2022 is not complete for the last part of the year. The data is also separated by the time of day the bakery product (article) was sold as well the name of the product.</p>\n",
    "<p>If you want to inspect the data seaborn mostly uses, check the DataFrame called \"values\" in the code. Please note there is a helper column called \"article-time_of_day\", whose only purpose is to allow use to do some extra analysis with seaborn later.</p>\n",
    "\n",
    "<p>Kaggle page: <a href=\"https://www.kaggle.com/datasets/matthieugimbert/french-bakery-daily-sales\">https://www.kaggle.com/datasets/matthieugimbert/french-bakery-daily-sales</a></p>"
   ]
  },
  {
   "attachments": {},
   "cell_type": "markdown",
   "metadata": {},
   "source": [
    "<h3><b>Questions for this exercise:</b></h3>\n",
    "<b>Answer the questions either as code comments or as markdown. Use separate cells to write your answers.</b><br/><br/>\n",
    "<li>There is one article (bakery product) that clearly stands out, and it also applies to a certain time of day. <br /><b>What is this article, and what could possibly be the reason for this?</b> (You might need Google and/or cultural knowledge to think about this question).</li>\n",
    "<li>There is also another product that has increased in popularity more than others, what is this article? (you can also Google what it actually is if you're unfamiliar with it)</li>\n",
    "<li>Which seaborn plots are useful in this notebook, and which are not? Why? (you can remove the unnecessary plots from this notebook if you wish too)</li>\n",
    "<li>Which are more useful in this case, correlations or plots? Or are they both useful?</li>\n",
    "\n",
    "<b>Extra questions/tasks for extra points:</b>\n",
    "<li>If you find new insight or features in this dataset by using some other plots and/or pandas tricks, you can do so. In that case, please create a new section for the needed code cells you created accompanied with either code comments or markdown.  </li>\n",
    "<li>Any other ideas about this dataset? Any ways to expand or improve the dataset and the analysis?</li>\n",
    "<li>This notebook mostly concentrates on top 20% articles in the dataset. You can also inspect different regions of data, for example articles that are midrange in the dataset (quantile 20-50%). </li>\n"
   ]
  },
  {
   "attachments": {},
   "cell_type": "markdown",
   "metadata": {},
   "source": [
    "<hr />"
   ]
  },
  {
   "attachments": {},
   "cell_type": "markdown",
   "metadata": {},
   "source": [
    "<h4><b>Imports and load the original dataset</b></h4>"
   ]
  },
  {
   "cell_type": "code",
   "execution_count": null,
   "metadata": {},
   "outputs": [],
   "source": [
    "# import the common data analytics modules\n",
    "import numpy as np\n",
    "import pandas as pd\n",
    "import seaborn as sns\n",
    "import matplotlib.pyplot as plt"
   ]
  },
  {
   "attachments": {},
   "cell_type": "markdown",
   "metadata": {},
   "source": [
    "<h4><b>Helper functions for dataset cleaning</b></h4>"
   ]
  },
  {
   "cell_type": "code",
   "execution_count": null,
   "metadata": {},
   "outputs": [],
   "source": [
    "# helper function for pandas, that allows changing the time\n",
    "# column into nominal category (Morning, Afternoon, Evening)\n",
    "def assign_day_time(row):\n",
    "    # get the hour\n",
    "    time = row['time'].split(\":\")\n",
    "    hour = int(time[0])\n",
    "    \n",
    "    # due to common acknowledgments on what \n",
    "    # defines a Morning, Afternoon or Evening\n",
    "    if 5 <= hour <= 12:\n",
    "        return \"Morning\"\n",
    "    elif 12 < hour <= 17:\n",
    "        return \"Afternoon\"\n",
    "    else:\n",
    "        return \"Evening\""
   ]
  },
  {
   "attachments": {},
   "cell_type": "markdown",
   "metadata": {},
   "source": [
    "<h4><b>Load the dataset and clean up data</b></h4>"
   ]
  },
  {
   "cell_type": "code",
   "execution_count": null,
   "metadata": {},
   "outputs": [],
   "source": [
    "# load the dataset and remove first column (some old index column)\n",
    "df = pd.read_csv(\"bakery_dataset.csv\")\n",
    "df.pop(df.columns[0])\n",
    "\n",
    "# we can see that some of the articles (type of bakery product)\n",
    "# are very rare, we can focus on the more popular alternatives\n",
    "article_counts = df['article'].value_counts()\n",
    "\n",
    "# let's see the most common articles\n",
    "print(\"Most common articles:\")\n",
    "print(article_counts)\n",
    "\n",
    "# let's cut off at 1500. if there are articles sold less than that -> leave it out \n",
    "df = df[df['article'].map(df['article'].value_counts()) > 1500]\n",
    "\n",
    "# this is a very common operation, split the date-column so\n",
    "# that we can have months and years separately (much more useful for analysis)\n",
    "df['year'] = df['date'].str.slice(0, 4).astype(int)\n",
    "df['month'] = df['date'].str.slice(5, 7).astype(int)\n",
    "df = df.drop('date', axis=1)\n",
    "\n",
    "# drop also the ticket number, it's a reference/id -type of column\n",
    "# and therefore not useful for analysis purposes\n",
    "# the only case when an id-column is useful in data analytics is when\n",
    "# you want to combine multiple datasets into one dataset, and the only data\n",
    "# that connects one data to another is the id (for example product has a category id, \n",
    "# but the actual category data is stored in another dataset)\n",
    "df = df.drop('ticket_number', axis=1)\n",
    "\n",
    "# the price of the article/product is usable, but we have to clean it a little bit\n",
    "# first of all, change comma (,) to period (.) as decimal separator\n",
    "# and remove the €-sign, and finally convert the column into float-format\n",
    "df['unit_price'] = df['unit_price'].str.replace(\",\", \".\")\n",
    "df['unit_price'] = df['unit_price'].str.replace(\"€\", \"\").astype(float)\n",
    "\n",
    "# create new column, the time of day (see function above)\n",
    "# remove original time column after that \n",
    "df[\"time_of_day\"] = df.apply(assign_day_time, axis=1)\n",
    "df = df.drop(\"time\", axis=1)\n",
    "\n",
    "# let's see how balanced the years are\n",
    "# more or less balanced, ~113000 for year 2021 and ~90000 for year 2022 \n",
    "year_items = df['year'].value_counts()\n",
    "print(\"\\nYear distribution:\")\n",
    "print(year_items)"
   ]
  },
  {
   "cell_type": "code",
   "execution_count": null,
   "metadata": {},
   "outputs": [],
   "source": [
    "# calculate total price based on quantity multiplied by price of single unit\n",
    "# remove quantity and unit price columns after this\n",
    "df['TotalPrice'] = df['Quantity'] * df['unit_price']\n",
    "df = df.drop('Quantity', axis=1)\n",
    "df = df.drop('unit_price', axis=1)\n",
    "\n",
    "##################################################\n",
    "## MORE ADVANCED PANDAS PREPARATION FOR SEABORN ##\n",
    "##################################################\n",
    "\n",
    "# even if we have reduced our articles to the cut off of 1500 pieces\n",
    "# we still have quite too many article options in our data to do anything \n",
    "\n",
    "# one option is to use a feature called quantile with query\n",
    "# quantile allows us to take a portion of the data based on the value distribution\n",
    "# for example, top 10% or the values between 50-70% of the distribution.\n",
    "# most commonly we are interested into highest values, mid-range values and lowest values\n",
    "\n",
    "# first, take a copy of the dataframe, so we can preserve the original data\n",
    "df_temp = df.copy()\n",
    "\n",
    "# we need to drop the time of day so that we can find out the most common articles\n",
    "df_temp = df_temp.drop('time_of_day', axis=1)\n",
    "\n",
    "# group by articles and their total sums (quantity * units), and only take top 20% articles (quantile=0.8)\n",
    "values = df_temp.groupby('article').sum().sort_values(by=['TotalPrice'], ascending=False)\n",
    "df_highest = list(values.query('TotalPrice >= TotalPrice.quantile(q=0.80)').index)\n",
    "\n",
    "# only filter the most common articles into a new dataframe\n",
    "df_top = df[df['article'].isin(df_highest)]\n",
    "\n",
    "# correlation matrices, one for all data and one for only top articles\n",
    "correlations_original = df.corr(numeric_only=True)\n",
    "correlations_top = df_top.corr(numeric_only=True)\n",
    "\n",
    "# regroup data to article, time of day, year, month ... => grouped target value is TotalPrice\n",
    "values = df_top.groupby(['article', 'time_of_day', 'year', 'month']).sum().sort_values(by=['TotalPrice'], ascending=False)\n",
    "values = values.reset_index()\n",
    "\n",
    "# new helper column with article name + time of day sold\n",
    "# you'll notice later with seaborn why this is useful\n",
    "# also rename the column so it doesn't confuse so much\n",
    "values['article-time_of_day'] = values['article'] + \"-\" + values['time_of_day']\n",
    "values = values.rename(columns={\"TotalPrice\": \"TotalSales\"})"
   ]
  },
  {
   "attachments": {},
   "cell_type": "markdown",
   "metadata": {},
   "source": [
    "<h4><b>seaborn plotting - pair plots</b></h4>"
   ]
  },
  {
   "cell_type": "code",
   "execution_count": null,
   "metadata": {},
   "outputs": [],
   "source": [
    "# basic pair plot\n",
    "sns.pairplot(values)"
   ]
  },
  {
   "cell_type": "code",
   "execution_count": null,
   "metadata": {},
   "outputs": [],
   "source": [
    "# pair plot, hue on article\n",
    "sns.pairplot(values, hue=\"article\")"
   ]
  },
  {
   "cell_type": "code",
   "execution_count": null,
   "metadata": {},
   "outputs": [],
   "source": [
    "# pair plot, hue on article + time of day -combination\n",
    "sns.pairplot(values, hue=\"article-time_of_day\")"
   ]
  },
  {
   "attachments": {},
   "cell_type": "markdown",
   "metadata": {},
   "source": [
    "<h4><b>seaborn plotting - heatmaps</b></h4>"
   ]
  },
  {
   "cell_type": "code",
   "execution_count": null,
   "metadata": {},
   "outputs": [],
   "source": [
    "# heatmap for the whole dataset correlations\n",
    "sns.heatmap(correlations_original, annot=True)"
   ]
  },
  {
   "cell_type": "code",
   "execution_count": null,
   "metadata": {},
   "outputs": [],
   "source": [
    "# heatmap for the top 20% articles correlations\n",
    "sns.heatmap(correlations_top, annot=True)"
   ]
  },
  {
   "cell_type": "code",
   "execution_count": null,
   "metadata": {},
   "outputs": [],
   "source": [
    "# heatmap for most popular article and its TotalSales\n",
    "df_snippet = values[values['article-time_of_day'] == \"TRADITIONAL BAGUETTE-Morning\"]\n",
    "pt = df_snippet.pivot_table(index='month', columns='year', values='TotalSales')\n",
    "sns.heatmap(pt)"
   ]
  },
  {
   "cell_type": "code",
   "execution_count": null,
   "metadata": {},
   "outputs": [],
   "source": [
    "# heatmap for second most popular article and its TotalSales\n",
    "df_snippet = values[values['article-time_of_day'] == \"CROISSANT-Morning\"]\n",
    "pt = df_snippet.pivot_table(index='month', columns='year', values='TotalSales')\n",
    "sns.heatmap(pt)"
   ]
  },
  {
   "cell_type": "code",
   "execution_count": null,
   "metadata": {},
   "outputs": [],
   "source": [
    "# heatmap for third most popular article and its TotalSales\n",
    "df_snippet = values[values['article-time_of_day'] == \"PAIN AU CHOCOLAT-Morning\"]\n",
    "pt = df_snippet.pivot_table(index='month', columns='year', values='TotalSales')\n",
    "sns.heatmap(pt)"
   ]
  },
  {
   "cell_type": "code",
   "execution_count": null,
   "metadata": {},
   "outputs": [],
   "source": [
    "# heatmap for fourth most popular article and its TotalSales\n",
    "df_snippet = values[values['article-time_of_day'] == \"FORMULE SANDWICH-Morning\"]\n",
    "pt = df_snippet.pivot_table(index='month', columns='year', values='TotalSales')\n",
    "sns.heatmap(pt)"
   ]
  },
  {
   "cell_type": "code",
   "execution_count": null,
   "metadata": {},
   "outputs": [],
   "source": [
    "# heatmap for fifth most popular article and its TotalSales\n",
    "df_snippet = values[values['article-time_of_day'] == \"BANETTE-Morning\"]\n",
    "pt = df_snippet.pivot_table(index='month', columns='year', values='TotalSales')\n",
    "sns.heatmap(pt)"
   ]
  },
  {
   "attachments": {},
   "cell_type": "markdown",
   "metadata": {},
   "source": [
    "<h4><b>seaborn plotting - regression plots</b></h4>"
   ]
  },
  {
   "cell_type": "code",
   "execution_count": null,
   "metadata": {},
   "outputs": [],
   "source": [
    "# regression plot for TotalSales\n",
    "sns.lmplot(x='month', y='TotalSales', data=values)"
   ]
  },
  {
   "cell_type": "code",
   "execution_count": null,
   "metadata": {},
   "outputs": [],
   "source": [
    "# regression plot for TotalSales, hue on article\n",
    "sns.lmplot(x='month', y='TotalSales', data=values, hue='article')"
   ]
  },
  {
   "cell_type": "code",
   "execution_count": null,
   "metadata": {},
   "outputs": [],
   "source": [
    "# regression plot for TotalSales, hue on time of day\n",
    "sns.lmplot(x='month', y='TotalSales', data=values, hue='time_of_day')"
   ]
  },
  {
   "cell_type": "code",
   "execution_count": null,
   "metadata": {},
   "outputs": [],
   "source": [
    "# regression plot for TotalSales, hue on article + time of day\n",
    "sns.lmplot(x='month', y='TotalSales', data=values, hue='article-time_of_day')"
   ]
  },
  {
   "attachments": {},
   "cell_type": "markdown",
   "metadata": {},
   "source": [
    "<h4><b>seaborn plotting - box plots</b></h4>"
   ]
  },
  {
   "cell_type": "code",
   "execution_count": null,
   "metadata": {},
   "outputs": [],
   "source": [
    "# box plot for TotalSales, hue on article\n",
    "sns.boxplot(x='year', y='TotalSales', data=values, hue='article')"
   ]
  },
  {
   "cell_type": "code",
   "execution_count": null,
   "metadata": {},
   "outputs": [],
   "source": [
    "# box plot for TotalSales, hue on article\n",
    "sns.boxplot(x='month', y='TotalSales', data=values, hue='article')"
   ]
  },
  {
   "cell_type": "code",
   "execution_count": null,
   "metadata": {},
   "outputs": [],
   "source": [
    "# box plot for TotalSales, hue on time of day\n",
    "sns.boxplot(x='year', y='TotalSales', data=values, hue='time_of_day')"
   ]
  },
  {
   "cell_type": "code",
   "execution_count": null,
   "metadata": {},
   "outputs": [],
   "source": [
    "# box plot for TotalSales, hue on time of day\n",
    "sns.boxplot(x='month', y='TotalSales', data=values, hue='time_of_day')"
   ]
  },
  {
   "cell_type": "code",
   "execution_count": null,
   "metadata": {},
   "outputs": [],
   "source": [
    "# box plot for TotalSales, hue on article + time of day\n",
    "# move_legend is a nifty tool that moves the legend to other side\n",
    "# if you have so many categories on hue that it hovers on data, making it difficult to see anything\n",
    "ax = sns.boxplot(x='year', y='TotalSales', data=values, hue='article-time_of_day')\n",
    "sns.move_legend(ax, \"upper left\", bbox_to_anchor=(1, 1))"
   ]
  }
 ],
 "metadata": {
  "kernelspec": {
   "display_name": ".venv",
   "language": "python",
   "name": "python3"
  },
  "language_info": {
   "codemirror_mode": {
    "name": "ipython",
    "version": 3
   },
   "file_extension": ".py",
   "mimetype": "text/x-python",
   "name": "python",
   "nbconvert_exporter": "python",
   "pygments_lexer": "ipython3",
   "version": "3.9.13"
  },
  "orig_nbformat": 4
 },
 "nbformat": 4,
 "nbformat_minor": 2
}
