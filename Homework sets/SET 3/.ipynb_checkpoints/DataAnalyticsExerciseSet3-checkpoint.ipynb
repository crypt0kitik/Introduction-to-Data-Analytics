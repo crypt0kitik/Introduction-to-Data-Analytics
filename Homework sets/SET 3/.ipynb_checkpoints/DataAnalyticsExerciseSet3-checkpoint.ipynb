{
 "cells": [
  {
   "cell_type": "markdown",
   "metadata": {},
   "source": [
    "<h3><b>Introduction to Data Analytics - Exercise set 3 - seaborn-module and data exploration</b></h3>"
   ]
  },
  {
   "cell_type": "markdown",
   "metadata": {},
   "source": [
    "Put all your exercises (Jupyter Notebooks or Python-files) in your course Git-project.\n",
    "Use either code comments or Jupyter Notebook markdown (text) to document which exercise you are doing and what a certain code section does! \n",
    "You can return all of these exercises in a single Jupyter Notebook, if you wish."
   ]
  },
  {
   "cell_type": "markdown",
   "metadata": {},
   "source": [
    "<h4><b>1.In this exercise, use the 'penguins' dataset from seaborn! </b></h4>\n",
    "<b>-> sns.load_dataset('penguins')\n",
    "</b>\n"
   ]
  },
  {
   "cell_type": "code",
   "execution_count": 3,
   "metadata": {},
   "outputs": [
    {
     "data": {
      "text/html": [
       "<div>\n",
       "<style scoped>\n",
       "    .dataframe tbody tr th:only-of-type {\n",
       "        vertical-align: middle;\n",
       "    }\n",
       "\n",
       "    .dataframe tbody tr th {\n",
       "        vertical-align: top;\n",
       "    }\n",
       "\n",
       "    .dataframe thead th {\n",
       "        text-align: right;\n",
       "    }\n",
       "</style>\n",
       "<table border=\"1\" class=\"dataframe\">\n",
       "  <thead>\n",
       "    <tr style=\"text-align: right;\">\n",
       "      <th></th>\n",
       "      <th>species</th>\n",
       "      <th>island</th>\n",
       "      <th>bill_length_mm</th>\n",
       "      <th>bill_depth_mm</th>\n",
       "      <th>flipper_length_mm</th>\n",
       "      <th>body_mass_g</th>\n",
       "      <th>sex</th>\n",
       "    </tr>\n",
       "  </thead>\n",
       "  <tbody>\n",
       "    <tr>\n",
       "      <th>0</th>\n",
       "      <td>Adelie</td>\n",
       "      <td>Torgersen</td>\n",
       "      <td>39.1</td>\n",
       "      <td>18.7</td>\n",
       "      <td>181.0</td>\n",
       "      <td>3750.0</td>\n",
       "      <td>Male</td>\n",
       "    </tr>\n",
       "    <tr>\n",
       "      <th>1</th>\n",
       "      <td>Adelie</td>\n",
       "      <td>Torgersen</td>\n",
       "      <td>39.5</td>\n",
       "      <td>17.4</td>\n",
       "      <td>186.0</td>\n",
       "      <td>3800.0</td>\n",
       "      <td>Female</td>\n",
       "    </tr>\n",
       "    <tr>\n",
       "      <th>2</th>\n",
       "      <td>Adelie</td>\n",
       "      <td>Torgersen</td>\n",
       "      <td>40.3</td>\n",
       "      <td>18.0</td>\n",
       "      <td>195.0</td>\n",
       "      <td>3250.0</td>\n",
       "      <td>Female</td>\n",
       "    </tr>\n",
       "    <tr>\n",
       "      <th>3</th>\n",
       "      <td>Adelie</td>\n",
       "      <td>Torgersen</td>\n",
       "      <td>NaN</td>\n",
       "      <td>NaN</td>\n",
       "      <td>NaN</td>\n",
       "      <td>NaN</td>\n",
       "      <td>NaN</td>\n",
       "    </tr>\n",
       "    <tr>\n",
       "      <th>4</th>\n",
       "      <td>Adelie</td>\n",
       "      <td>Torgersen</td>\n",
       "      <td>36.7</td>\n",
       "      <td>19.3</td>\n",
       "      <td>193.0</td>\n",
       "      <td>3450.0</td>\n",
       "      <td>Female</td>\n",
       "    </tr>\n",
       "    <tr>\n",
       "      <th>...</th>\n",
       "      <td>...</td>\n",
       "      <td>...</td>\n",
       "      <td>...</td>\n",
       "      <td>...</td>\n",
       "      <td>...</td>\n",
       "      <td>...</td>\n",
       "      <td>...</td>\n",
       "    </tr>\n",
       "    <tr>\n",
       "      <th>339</th>\n",
       "      <td>Gentoo</td>\n",
       "      <td>Biscoe</td>\n",
       "      <td>NaN</td>\n",
       "      <td>NaN</td>\n",
       "      <td>NaN</td>\n",
       "      <td>NaN</td>\n",
       "      <td>NaN</td>\n",
       "    </tr>\n",
       "    <tr>\n",
       "      <th>340</th>\n",
       "      <td>Gentoo</td>\n",
       "      <td>Biscoe</td>\n",
       "      <td>46.8</td>\n",
       "      <td>14.3</td>\n",
       "      <td>215.0</td>\n",
       "      <td>4850.0</td>\n",
       "      <td>Female</td>\n",
       "    </tr>\n",
       "    <tr>\n",
       "      <th>341</th>\n",
       "      <td>Gentoo</td>\n",
       "      <td>Biscoe</td>\n",
       "      <td>50.4</td>\n",
       "      <td>15.7</td>\n",
       "      <td>222.0</td>\n",
       "      <td>5750.0</td>\n",
       "      <td>Male</td>\n",
       "    </tr>\n",
       "    <tr>\n",
       "      <th>342</th>\n",
       "      <td>Gentoo</td>\n",
       "      <td>Biscoe</td>\n",
       "      <td>45.2</td>\n",
       "      <td>14.8</td>\n",
       "      <td>212.0</td>\n",
       "      <td>5200.0</td>\n",
       "      <td>Female</td>\n",
       "    </tr>\n",
       "    <tr>\n",
       "      <th>343</th>\n",
       "      <td>Gentoo</td>\n",
       "      <td>Biscoe</td>\n",
       "      <td>49.9</td>\n",
       "      <td>16.1</td>\n",
       "      <td>213.0</td>\n",
       "      <td>5400.0</td>\n",
       "      <td>Male</td>\n",
       "    </tr>\n",
       "  </tbody>\n",
       "</table>\n",
       "<p>344 rows × 7 columns</p>\n",
       "</div>"
      ],
      "text/plain": [
       "    species     island  bill_length_mm  bill_depth_mm  flipper_length_mm  \\\n",
       "0    Adelie  Torgersen            39.1           18.7              181.0   \n",
       "1    Adelie  Torgersen            39.5           17.4              186.0   \n",
       "2    Adelie  Torgersen            40.3           18.0              195.0   \n",
       "3    Adelie  Torgersen             NaN            NaN                NaN   \n",
       "4    Adelie  Torgersen            36.7           19.3              193.0   \n",
       "..      ...        ...             ...            ...                ...   \n",
       "339  Gentoo     Biscoe             NaN            NaN                NaN   \n",
       "340  Gentoo     Biscoe            46.8           14.3              215.0   \n",
       "341  Gentoo     Biscoe            50.4           15.7              222.0   \n",
       "342  Gentoo     Biscoe            45.2           14.8              212.0   \n",
       "343  Gentoo     Biscoe            49.9           16.1              213.0   \n",
       "\n",
       "     body_mass_g     sex  \n",
       "0         3750.0    Male  \n",
       "1         3800.0  Female  \n",
       "2         3250.0  Female  \n",
       "3            NaN     NaN  \n",
       "4         3450.0  Female  \n",
       "..           ...     ...  \n",
       "339          NaN     NaN  \n",
       "340       4850.0  Female  \n",
       "341       5750.0    Male  \n",
       "342       5200.0  Female  \n",
       "343       5400.0    Male  \n",
       "\n",
       "[344 rows x 7 columns]"
      ]
     },
     "execution_count": 3,
     "metadata": {},
     "output_type": "execute_result"
    }
   ],
   "source": [
    "# you can import numpy and pandas here\n",
    "# and also load the needed dataset\n",
    "import numpy as np\n",
    "import pandas as pd\n",
    "import seaborn as sns\n",
    "import matplotlib.pyplot as plt\n",
    "sns.load_dataset('penguins')"
   ]
  },
  {
   "cell_type": "markdown",
   "metadata": {},
   "source": [
    "<ul>\n",
    "<li>Create a pair plot of the data</li>\n",
    "<ul>\n",
    "    <li>What correlations can you immediately see?</li>\n",
    "    <li><b>Bonus extra task:</b> check out the correlation matrix for this dataset too ?</li>\n",
    "</ul>\n",
    "</ul>"
   ]
  },
  {
   "cell_type": "code",
   "execution_count": null,
   "metadata": {},
   "outputs": [],
   "source": [
    "# code here\n",
    "sns.pairplot(flights)"
   ]
  },
  {
   "cell_type": "markdown",
   "metadata": {},
   "source": [
    "<li>Use hue for the \"island\" column, what do you learn from the data this way?</li>"
   ]
  },
  {
   "cell_type": "code",
   "execution_count": null,
   "metadata": {},
   "outputs": [],
   "source": [
    "# code here"
   ]
  },
  {
   "cell_type": "markdown",
   "metadata": {},
   "source": [
    "<ul>\n",
    "    <li>Find the amount of penguins on each island by using pandas (<b>value_counts()</b>). Which island does not belong in the group?</li>\n",
    "    <ul>\n",
    "        <li><b>Small extra task:</b> visualize the counts with a bar plot</li>\n",
    "    </ul>\n",
    "</ul>"
   ]
  },
  {
   "cell_type": "code",
   "execution_count": null,
   "metadata": {},
   "outputs": [],
   "source": [
    "# code here"
   ]
  },
  {
   "cell_type": "markdown",
   "metadata": {},
   "source": [
    "<ul>\n",
    "    <li>Create now another pair plot, and use hue for the \"species\" –column</li>\n",
    "    <ul>\n",
    "        <li>Is there a difference when compared to islands?</li>\n",
    "        <li><b>Bonus task:</b> How much does the \"sex\"-column affect the result ? (MALE / FEMALE)</li>\n",
    "    </ul>\n",
    "</ul>"
   ]
  },
  {
   "cell_type": "code",
   "execution_count": 1,
   "metadata": {},
   "outputs": [],
   "source": [
    "# code here"
   ]
  },
  {
   "cell_type": "markdown",
   "metadata": {},
   "source": [
    "<ul>\n",
    "    <li>Create a scatter plot for <b><i>bill_length_mm</i></b> and <b><i>flipper_length_mm</i></b>, use species as hue (try also island as hue)</li>\n",
    "    <ul>\n",
    "        <li>Which affects the result more, species or island?</li> \n",
    "    </ul>\n",
    "</ul>"
   ]
  },
  {
   "cell_type": "code",
   "execution_count": null,
   "metadata": {},
   "outputs": [],
   "source": [
    "# code here"
   ]
  },
  {
   "cell_type": "markdown",
   "metadata": {},
   "source": [
    "<ul>\n",
    "    <li>Use box plot, violin plot or swarm plot:</li>\n",
    "    <ul>\n",
    "        <li>inspect the following information:</li>\n",
    "        <ul>\n",
    "            <li><b></i>flipper_length_mm</i></b></li>\n",
    "            <li><b></i>bill_length_mm</i></b></li>\n",
    "            <li><b></i>body_mass_g</i></b></li>\n",
    "        </ul>\n",
    "        <li>hue = island,  x= species</li>\n",
    "        <li>What interesting features can you find this way?</li>\n",
    "    </ul>\n",
    "</ul>"
   ]
  },
  {
   "cell_type": "code",
   "execution_count": null,
   "metadata": {},
   "outputs": [],
   "source": [
    "# code here"
   ]
  },
  {
   "cell_type": "markdown",
   "metadata": {},
   "source": [
    "<img src=\"http://srv.plab.fi/~tuomasv/data_analytics_2023_images/exercise_set_3/penguins.png\" />\n"
   ]
  },
  {
   "cell_type": "markdown",
   "metadata": {},
   "source": [
    "<h4><b>2. In this exercise, use the 'mpg' dataset from seaborn! </b></h4>\n",
    "<b>-> sns.load_dataset('mpg')</b>\n",
    "<p>\n",
    "mpg stands for \"miles per gallon\", which is a common way to represent fuel consumption in USA.\n",
    "</p>\n"
   ]
  },
  {
   "cell_type": "markdown",
   "metadata": {},
   "source": [
    "<b>Clean up the data (instructions and tasks below)</b>"
   ]
  },
  {
   "cell_type": "markdown",
   "metadata": {},
   "source": [
    "<ul>\n",
    "<li>Create a new column: <b>\"liters_per_100km\"</b> , which converts the mpg to liters per 100 km</li>\n",
    "<ul>\n",
    "<li>you can Google the conversion formula easily: \"miles per gallon to liters per 100km\", or:<br />\n",
    "<a href=\"https://www.calculateme.com/gas-mileage/us-mpg-to-liters-per-100-km\">https://www.calculateme.com/gas-mileage/us-mpg-to-liters-per-100-km</a>\n",
    "</li>\n",
    "<li>remove the original mpg –column after this</li>\n",
    "</ul>\n",
    "\n",
    "</ul>"
   ]
  },
  {
   "cell_type": "code",
   "execution_count": null,
   "metadata": {},
   "outputs": [],
   "source": [
    "# code here"
   ]
  },
  {
   "cell_type": "markdown",
   "metadata": {},
   "source": [
    "<li>After this, create a correlation matrix. There are two\n",
    "columns that do not correlate as much as the others,\n",
    "remove these two from the dataset</li>"
   ]
  },
  {
   "cell_type": "code",
   "execution_count": 2,
   "metadata": {},
   "outputs": [],
   "source": [
    "# code here"
   ]
  },
  {
   "cell_type": "markdown",
   "metadata": {},
   "source": [
    "<ul>\n",
    "<li>There are three different columns that are strongly\n",
    "connected to the car's efficiency (both power and\n",
    "consumption), select one of them and remove the others\n",
    "from the dataset\n",
    "</li>\n",
    "<ul>\n",
    "<li>Which column is the best selection to indicate the\n",
    "car’s efficiency, and why? (cylinders, horsepower or\n",
    "displacement/engine size)</li>\n",
    "</ul>\n",
    "</ul>"
   ]
  },
  {
   "cell_type": "code",
   "execution_count": 1,
   "metadata": {},
   "outputs": [],
   "source": [
    "# code here"
   ]
  },
  {
   "cell_type": "markdown",
   "metadata": {},
   "source": [
    "<ul>\n",
    "    <li><b>Finally, use the pair plot and hue (origin)</b></li>\n",
    "    <ul>\n",
    "        <li>Which origin country tends have bigger fuel consumption in\n",
    "cars?</li>\n",
    "<li>Which is generally the origin with lowest consumption?\n",
    "(more specific plots might be a good idea here, for example:\n",
    "box plot, scatter plot etc., pandas functions are helpful too!)</li>\n",
    "<li>What other features the cars seem to have that result into\n",
    "bigger or lower consumption?</li>\n",
    "    </ul>\n",
    "</ul>"
   ]
  },
  {
   "cell_type": "code",
   "execution_count": null,
   "metadata": {},
   "outputs": [],
   "source": [
    "# code here"
   ]
  },
  {
   "cell_type": "markdown",
   "metadata": {},
   "source": [
    "<img src=\"http://srv.plab.fi/~tuomasv/data_analytics_2023_images/exercise_set_3/mpg.png\" />\n"
   ]
  },
  {
   "cell_type": "markdown",
   "metadata": {},
   "source": [
    "<h4><b>3. csv-data, pandas and seaborn</b></h4>\n"
   ]
  },
  {
   "cell_type": "markdown",
   "metadata": {},
   "source": [
    "<p>\n",
    "This dataset has been downloaded from <b><i>kaggle.com</i></b>.<br />\n",
    "Download the \"groceries.csv\" from Moodle.\n",
    "<br /><br />\n",
    "Load the data by using pandas. (read_csv() etc.)\n",
    "<br /><br />\n",
    "\n",
    "<b>Note:</b> since this is an actual dataset from the internet, the data is in quite a rough format.\n",
    "\n",
    "</p>"
   ]
  },
  {
   "cell_type": "markdown",
   "metadata": {},
   "source": [
    "<li>If you take a look at the data, you will notice three columns have NaN –\n",
    "values. You can either remove these columns all together, or you can fill\n",
    "the missing values with average values of that column. For example, for\n",
    "the Fish -column you could do something like this:<br /><br />\n",
    "\n",
    "<b>food['Fish'].fillna((food['Fish'].mean()), inplace=True)</b><br /><br />\n",
    "In this case, food is the name of the DataFrame we just got from the csv-file. Do this same operation to the two other columns with missing\n",
    "values.</li>"
   ]
  },
  {
   "cell_type": "code",
   "execution_count": null,
   "metadata": {},
   "outputs": [],
   "source": [
    "# handle incomplete rows here, justify your approach on how you handled them"
   ]
  },
  {
   "cell_type": "markdown",
   "metadata": {},
   "source": [
    "<ul>\n",
    "<li>In this data, the date column is a bit difficult to use, since it's not\n",
    "completely in numerical format. Split the Month-column so, that you\n",
    "have two different columns: Month and Year</li>\n",
    "<ul>\n",
    "<li>For month, use a numeric format 1-12</li>\n",
    "<li>For year, use the full year 1990-2020</li>\n",
    "<li>Check out the examples in Moodle, this one is a bit tricky, but\n",
    "very neat to know how it's done!</li>\n",
    "</ul>\n",
    "</ul>"
   ]
  },
  {
   "cell_type": "code",
   "execution_count": null,
   "metadata": {},
   "outputs": [],
   "source": [
    "# code here"
   ]
  },
  {
   "cell_type": "markdown",
   "metadata": {},
   "source": [
    "<li>After the cleanups, create a correlation matrix of the data. Create a heatmap on the correlations as well.\n",
    "<br /><br />\n",
    "Which grocery stands out? (i.e. there seems to be one grocery item\n",
    "whose price doesn't follow other groceries at all)\n",
    "</li>"
   ]
  },
  {
   "cell_type": "code",
   "execution_count": 2,
   "metadata": {},
   "outputs": [],
   "source": [
    "# code here"
   ]
  },
  {
   "cell_type": "markdown",
   "metadata": {},
   "source": [
    "<li>Which groceries seem to correlate to each other's prices? What do they have in common?</li>"
   ]
  },
  {
   "cell_type": "code",
   "execution_count": null,
   "metadata": {},
   "outputs": [],
   "source": [
    "# code here"
   ]
  },
  {
   "cell_type": "markdown",
   "metadata": {},
   "source": [
    "<b>Bonus task:</b>\n",
    "<p>Sometimes data can also reflect history! For example, \"Corn\" and some\n",
    "other foods seem to have a notable peak in its price in one of the years.\n",
    "Find this year, and Google if you can find a reason for the price peak (for\n",
    "example, search: \"us corn expensive XXXX\". Can you find any other food\n",
    "that has relation to a real world event in a similar in this dataset?</p>\n",
    "<p><b>Tip:</b> use pivot table and heatmap! Remember also, the first year in the\n",
    "dataset might show as blank white, that means there's no data. You\n",
    "should also split the date</p>\n",
    "<br />\n",
    "<img src=\"http://srv.plab.fi/~tuomasv/data_analytics_2023_images/exercise_set_3/food.png\" />\n"
   ]
  },
  {
   "cell_type": "markdown",
   "metadata": {},
   "source": [
    "\n",
    "<h2><b>Advanced extra tasks for extra points (varying challenges, some require Googling):</b></h2>"
   ]
  },
  {
   "cell_type": "markdown",
   "metadata": {},
   "source": [
    "<ul>\n",
    "<li>1. <b>seaborn:</b> Try out Boxenplot and/or Dendrogram in any of the previous\n",
    "dataset exercises. Do these plot types provide some interesting info on\n",
    "the data? (Google for examples on these plot types)</li>\n",
    "<ul>\n",
    "<li>You may also consider some other plots, for example:\n",
    "<b>displot, catplot, relplot</b></li>\n",
    "</ul>\n",
    "</ul>"
   ]
  },
  {
   "cell_type": "code",
   "execution_count": 3,
   "metadata": {},
   "outputs": [],
   "source": [
    "# code for the advanced extra task"
   ]
  },
  {
   "cell_type": "markdown",
   "metadata": {},
   "source": [
    "<ul>\n",
    "<li><b>2. Use the \"titanic\" dataset from the seaborn datasets\n",
    "(sns.load_dataset('titanic')).</b> Find out the features of a typical person\n",
    "that survived or did not survive the sinking of Titanic.</li>\n",
    "</ul>\n",
    "\n",
    "<img src=\"http://srv.plab.fi/~tuomasv/data_analytics_2023_images/exercise_set_3/titanic.png\"/>"
   ]
  },
  {
   "cell_type": "code",
   "execution_count": 1,
   "metadata": {},
   "outputs": [],
   "source": [
    "# code for the advanced extra task, you can also create a separate notebook for this \n",
    "# (might be a better idea, since a new dataset always adds quite much new code)"
   ]
  },
  {
   "cell_type": "markdown",
   "metadata": {},
   "source": [
    "<li><b>3. Use the \"taxis\" dataset from the seaborn datasets\n",
    "(sns.load_dataset('taxis')).</b> Find out any correlations or interesting\n",
    "behaviors based on any columns in the data (color, payment,\n",
    "pickup_borough, dropoff_borough etc.)\n",
    "<br /><br />\n",
    "\n",
    "<b>Notes and ideas to try out:</b><br />\n",
    "Consider removing the pickup_zone and dropoff_zone, since there are\n",
    "way too many alternatives. Borough is the larger area in question, which\n",
    "can be helpful while grouping data (hue!)<br /><br />\n",
    "How about pickup and dropoff times, should they be modified? From\n",
    "taxi point of view, is the weekday and time of day (morning, day,\n",
    "evening, night) more interesting than the actual dates?\n",
    "<br /><br />\n",
    "These are just ideas, you're free to come up with your own ideas\n",
    "regarding the data!</li>\n",
    "<br />\n",
    "<img src=\"http://srv.plab.fi/~tuomasv/data_analytics_2023_images/exercise_set_3/taxis.png\"/>\n"
   ]
  },
  {
   "cell_type": "code",
   "execution_count": null,
   "metadata": {},
   "outputs": [],
   "source": [
    "# code for the advanced extra task, you can also create a separate notebook for this \n",
    "# (might be a better idea, since a new dataset always adds quite much new code)"
   ]
  },
  {
   "cell_type": "markdown",
   "metadata": {},
   "source": [
    "<ul>\n",
    "<li><b>4. Try out any of the previous examples and exercises by using any or many\n",
    "of the following additional plotting libraries:<br /><br />\n",
    "</li>\n",
    "<ul>\n",
    "<li><b>Matplotlib (this is the most common in addition to seaborn,\n",
    "especially regarding machine learning, recommended to learn)</b><br />\n",
    "<a href=\"https://matplotlib.org/stable/tutorials/index.html#introductory\">https://matplotlib.org/stable/tutorials/index.html#introductory</a><br /><br /></li>\n",
    "<li><b>Plotly</b><br />\n",
    "<a href=\"https://plotly.com/python/getting-started/\">https://plotly.com/python/getting-started/</a><br /><br /></li>\n",
    "<li><b>Bokeh</b><br /><a href=\"https://docs.bokeh.org/en/latest/docs/user_guide.html\">https://docs.bokeh.org/en/latest/docs/user_guide.html</a>\n",
    "<br /><br /></li>\n",
    "</ul>\n",
    "</ul>\n",
    "<img src=\"http://srv.plab.fi/~tuomasv/data_analytics_2023_images/exercise_set_3/charts.png\" />"
   ]
  },
  {
   "cell_type": "code",
   "execution_count": null,
   "metadata": {},
   "outputs": [],
   "source": [
    "# code for the advanced extra task, you can also create a separate notebook for this \n",
    "# (might be a better idea, since a new dataset always adds quite much new code)"
   ]
  },
  {
   "cell_type": "markdown",
   "metadata": {},
   "source": [
    "<ul>\n",
    "<li><b>5. Try out any of the datasets below, or find yourself an interesting csvdataset from kaggle.com!  </b><br>\n",
    "\n",
    "Use all your skills in numpy, pandas and seaborn, and find out features in\n",
    "the data. <br ><br />\n",
    "<b>Was there something that is surprising in the dataset? What\n",
    "interesting correlations did you find?</b>\n",
    "<br><br>\n",
    "<b>Some interesting datasets, examples (you can find you own too!):</b>\n",
    "</li>\n",
    "<ul>\n",
    "<li><a href=\"https://www.kaggle.com/anamvillalpando/world-happiness-ranking\">https://www.kaggle.com/anamvillalpando/world-happiness-ranking</a></li>\n",
    "<li><a href=\"https://www.kaggle.com/sakshigoyal7/credit-card-customers\">https://www.kaggle.com/sakshigoyal7/credit-card-customers</a></li>\n",
    "<li><a href=\"https://www.kaggle.com/lucabasa/dutch-energy\">https://www.kaggle.com/lucabasa/dutch-energy</a></li>\n",
    "<li><a href=\"https://www.kaggle.com/yamaerenay/spotify-dataset-19212020-160k-tracks?select=data_w_genres.csv\">https://www.kaggle.com/yamaerenay/spotify-dataset-19212020-160k-tracks?select=data_w_genres.csv</a></li>\n",
    "<li><a href=\"https://www.kaggle.com/kboghe/android-apps-metadata?select=Android+apps+csv.csv\">https://www.kaggle.com/kboghe/android-apps-metadata?select=Android+apps+csv.csv</a></li>\n",
    "<li><a href=\"https://www.kaggle.com/sudalairajkumar/cryptocurrencypricehistory?select=coin_Bitcoin.csv\">https://www.kaggle.com/sudalairajkumar/cryptocurrencypricehistory?select=coin_Bitcoin.csv</a><br /><br /></li>\n",
    "</ul>\n",
    "<li><b>Note:</b> These datasets can be quite rough to handle at first, feel free to\n",
    "ask tips from your instructor if some dataset interests you!</li>\n",
    "</ul>\n",
    "\n",
    "<img src=\"http://srv.plab.fi/~tuomasv/data_analytics_2023_images/exercise_set_2/es2_5.png\" />"
   ]
  },
  {
   "cell_type": "code",
   "execution_count": null,
   "metadata": {},
   "outputs": [],
   "source": [
    "# do any Kaggle.com -related extra tasks in their own Jupyter notebooks for easier coding"
   ]
  },
  {
   "cell_type": "markdown",
   "metadata": {},
   "source": []
  }
 ],
 "metadata": {
  "kernelspec": {
   "display_name": "Python 3 (ipykernel)",
   "language": "python",
   "name": "python3"
  },
  "language_info": {
   "codemirror_mode": {
    "name": "ipython",
    "version": 3
   },
   "file_extension": ".py",
   "mimetype": "text/x-python",
   "name": "python",
   "nbconvert_exporter": "python",
   "pygments_lexer": "ipython3",
   "version": "3.9.13"
  },
  "vscode": {
   "interpreter": {
    "hash": "7b393597a1a01400f99fd0b0bd7e53e32f7c09a6c4e3f1d7dcfe73f5e3a50c61"
   }
  }
 },
 "nbformat": 4,
 "nbformat_minor": 2
}
