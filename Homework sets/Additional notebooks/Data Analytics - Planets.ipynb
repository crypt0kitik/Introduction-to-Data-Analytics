{
 "cells": [
  {
   "cell_type": "code",
   "execution_count": 1,
   "id": "8e76e405-f581-47b2-b7b6-1a133b5326db",
   "metadata": {},
   "outputs": [],
   "source": [
    "# import modules\n",
    "import numpy as np\n",
    "import pandas as pd\n",
    "import seaborn as sns"
   ]
  },
  {
   "cell_type": "code",
   "execution_count": 3,
   "id": "e8803a0c-c1d5-4a83-a8c7-7462554a96b8",
   "metadata": {},
   "outputs": [
    {
     "data": {
      "text/plain": [
       "['anagrams',\n",
       " 'anscombe',\n",
       " 'attention',\n",
       " 'brain_networks',\n",
       " 'car_crashes',\n",
       " 'diamonds',\n",
       " 'dots',\n",
       " 'dowjones',\n",
       " 'exercise',\n",
       " 'flights',\n",
       " 'fmri',\n",
       " 'geyser',\n",
       " 'glue',\n",
       " 'healthexp',\n",
       " 'iris',\n",
       " 'mpg',\n",
       " 'penguins',\n",
       " 'planets',\n",
       " 'seaice',\n",
       " 'taxis',\n",
       " 'tips',\n",
       " 'titanic']"
      ]
     },
     "execution_count": 3,
     "metadata": {},
     "output_type": "execute_result"
    }
   ],
   "source": [
    "# I decided to make an analysis of seaborn datasets\n",
    "# firstly, I need to get names of all datasets\n",
    "# to choose the mosr interesting for me\n",
    "sns.get_dataset_names()\n",
    "\n",
    "# I googled that \n",
    "# \"fmri\" - contains information about brain activity measured using functional magnetic resonance imaging (fMRI).\n",
    "# \"planets\" - contains information about planets discovered outside of our solar system.\n",
    "# both of them are interesting for me\n",
    "# I will take \"planets\" dataset"
   ]
  },
  {
   "cell_type": "code",
   "execution_count": 5,
   "id": "12020ea2-9a5f-4e5a-ba95-4e300cfa9aae",
   "metadata": {},
   "outputs": [
    {
     "data": {
      "text/html": [
       "<div>\n",
       "<style scoped>\n",
       "    .dataframe tbody tr th:only-of-type {\n",
       "        vertical-align: middle;\n",
       "    }\n",
       "\n",
       "    .dataframe tbody tr th {\n",
       "        vertical-align: top;\n",
       "    }\n",
       "\n",
       "    .dataframe thead th {\n",
       "        text-align: right;\n",
       "    }\n",
       "</style>\n",
       "<table border=\"1\" class=\"dataframe\">\n",
       "  <thead>\n",
       "    <tr style=\"text-align: right;\">\n",
       "      <th></th>\n",
       "      <th>method</th>\n",
       "      <th>number</th>\n",
       "      <th>orbital_period</th>\n",
       "      <th>mass</th>\n",
       "      <th>distance</th>\n",
       "      <th>year</th>\n",
       "    </tr>\n",
       "  </thead>\n",
       "  <tbody>\n",
       "    <tr>\n",
       "      <th>0</th>\n",
       "      <td>Radial Velocity</td>\n",
       "      <td>1</td>\n",
       "      <td>269.300000</td>\n",
       "      <td>7.10</td>\n",
       "      <td>77.40</td>\n",
       "      <td>2006</td>\n",
       "    </tr>\n",
       "    <tr>\n",
       "      <th>1</th>\n",
       "      <td>Radial Velocity</td>\n",
       "      <td>1</td>\n",
       "      <td>874.774000</td>\n",
       "      <td>2.21</td>\n",
       "      <td>56.95</td>\n",
       "      <td>2008</td>\n",
       "    </tr>\n",
       "    <tr>\n",
       "      <th>2</th>\n",
       "      <td>Radial Velocity</td>\n",
       "      <td>1</td>\n",
       "      <td>763.000000</td>\n",
       "      <td>2.60</td>\n",
       "      <td>19.84</td>\n",
       "      <td>2011</td>\n",
       "    </tr>\n",
       "    <tr>\n",
       "      <th>3</th>\n",
       "      <td>Radial Velocity</td>\n",
       "      <td>1</td>\n",
       "      <td>326.030000</td>\n",
       "      <td>19.40</td>\n",
       "      <td>110.62</td>\n",
       "      <td>2007</td>\n",
       "    </tr>\n",
       "    <tr>\n",
       "      <th>4</th>\n",
       "      <td>Radial Velocity</td>\n",
       "      <td>1</td>\n",
       "      <td>516.220000</td>\n",
       "      <td>10.50</td>\n",
       "      <td>119.47</td>\n",
       "      <td>2009</td>\n",
       "    </tr>\n",
       "    <tr>\n",
       "      <th>...</th>\n",
       "      <td>...</td>\n",
       "      <td>...</td>\n",
       "      <td>...</td>\n",
       "      <td>...</td>\n",
       "      <td>...</td>\n",
       "      <td>...</td>\n",
       "    </tr>\n",
       "    <tr>\n",
       "      <th>1030</th>\n",
       "      <td>Transit</td>\n",
       "      <td>1</td>\n",
       "      <td>3.941507</td>\n",
       "      <td>NaN</td>\n",
       "      <td>172.00</td>\n",
       "      <td>2006</td>\n",
       "    </tr>\n",
       "    <tr>\n",
       "      <th>1031</th>\n",
       "      <td>Transit</td>\n",
       "      <td>1</td>\n",
       "      <td>2.615864</td>\n",
       "      <td>NaN</td>\n",
       "      <td>148.00</td>\n",
       "      <td>2007</td>\n",
       "    </tr>\n",
       "    <tr>\n",
       "      <th>1032</th>\n",
       "      <td>Transit</td>\n",
       "      <td>1</td>\n",
       "      <td>3.191524</td>\n",
       "      <td>NaN</td>\n",
       "      <td>174.00</td>\n",
       "      <td>2007</td>\n",
       "    </tr>\n",
       "    <tr>\n",
       "      <th>1033</th>\n",
       "      <td>Transit</td>\n",
       "      <td>1</td>\n",
       "      <td>4.125083</td>\n",
       "      <td>NaN</td>\n",
       "      <td>293.00</td>\n",
       "      <td>2008</td>\n",
       "    </tr>\n",
       "    <tr>\n",
       "      <th>1034</th>\n",
       "      <td>Transit</td>\n",
       "      <td>1</td>\n",
       "      <td>4.187757</td>\n",
       "      <td>NaN</td>\n",
       "      <td>260.00</td>\n",
       "      <td>2008</td>\n",
       "    </tr>\n",
       "  </tbody>\n",
       "</table>\n",
       "<p>1035 rows × 6 columns</p>\n",
       "</div>"
      ],
      "text/plain": [
       "               method  number  orbital_period   mass  distance  year\n",
       "0     Radial Velocity       1      269.300000   7.10     77.40  2006\n",
       "1     Radial Velocity       1      874.774000   2.21     56.95  2008\n",
       "2     Radial Velocity       1      763.000000   2.60     19.84  2011\n",
       "3     Radial Velocity       1      326.030000  19.40    110.62  2007\n",
       "4     Radial Velocity       1      516.220000  10.50    119.47  2009\n",
       "...               ...     ...             ...    ...       ...   ...\n",
       "1030          Transit       1        3.941507    NaN    172.00  2006\n",
       "1031          Transit       1        2.615864    NaN    148.00  2007\n",
       "1032          Transit       1        3.191524    NaN    174.00  2007\n",
       "1033          Transit       1        4.125083    NaN    293.00  2008\n",
       "1034          Transit       1        4.187757    NaN    260.00  2008\n",
       "\n",
       "[1035 rows x 6 columns]"
      ]
     },
     "execution_count": 5,
     "metadata": {},
     "output_type": "execute_result"
    }
   ],
   "source": [
    "# load the dataset\n",
    "df = sns.load_dataset(\"planets\")\n",
    "df"
   ]
  },
  {
   "cell_type": "code",
   "execution_count": 6,
   "id": "1df51f29-ce36-4596-826a-598bb7396a27",
   "metadata": {},
   "outputs": [
    {
     "data": {
      "text/plain": [
       "Radial Velocity                  553\n",
       "Transit                          397\n",
       "Imaging                           38\n",
       "Microlensing                      23\n",
       "Eclipse Timing Variations          9\n",
       "Pulsar Timing                      5\n",
       "Transit Timing Variations          4\n",
       "Orbital Brightness Modulation      3\n",
       "Astrometry                         2\n",
       "Pulsation Timing Variations        1\n",
       "Name: method, dtype: int64"
      ]
     },
     "execution_count": 6,
     "metadata": {},
     "output_type": "execute_result"
    }
   ],
   "source": [
    "# we can see what was the most popular method to discover a planet\n",
    "df[\"method\"].value_counts()\n",
    "\n",
    "# there are two Radial Velocity and Transit"
   ]
  },
  {
   "cell_type": "code",
   "execution_count": 10,
   "id": "987ac05b-dd3d-4b05-81a3-027d7c38b81c",
   "metadata": {},
   "outputs": [
    {
     "data": {
      "text/plain": [
       "<Axes: >"
      ]
     },
     "execution_count": 10,
     "metadata": {},
     "output_type": "execute_result"
    },
    {
     "data": {
      "image/png": "[encoded data removed]",
      "text/plain": [
       "<Figure size 640x480 with 1 Axes>"
      ]
     },
     "metadata": {},
     "output_type": "display_data"
    }
   ],
   "source": [
    "# Counting the number of planets discovered with each discovery method\n",
    "method_counts = df[\"method\"].value_counts()\n",
    "\n",
    "# Creating a bar plot to visualize the number of planets discovered with each discovery method\n",
    "sns.barplot(x=method_counts.values, y=method_counts.index)\n",
    "\n",
    "# Setting the plot title and axis labels\n",
    "#plt.title(\"Number of planets discovered by method\")\n",
    "#plt.xlabel(\"Number of planets\")\n",
    "#plt.ylabel(\"Discovery method\")\n"
   ]
  },
  {
   "cell_type": "code",
   "execution_count": null,
   "id": "be71e772-1c4f-4615-940c-deffd22a61b7",
   "metadata": {},
   "outputs": [],
   "source": []
  }
 ],
 "metadata": {
  "kernelspec": {
   "display_name": "Python 3 (ipykernel)",
   "language": "python",
   "name": "python3"
  },
  "language_info": {
   "codemirror_mode": {
    "name": "ipython",
    "version": 3
   },
   "file_extension": ".py",
   "mimetype": "text/x-python",
   "name": "python",
   "nbconvert_exporter": "python",
   "pygments_lexer": "ipython3",
   "version": "3.10.9"
  }
 },
 "nbformat": 4,
 "nbformat_minor": 5
}
