{
 "cells": [
  {
   "cell_type": "code",
   "execution_count": 1,
   "id": "8e76e405-f581-47b2-b7b6-1a133b5326db",
   "metadata": {},
   "outputs": [],
   "source": [
    "# import modules\n",
    "import numpy as np\n",
    "import pandas as pd\n",
    "import seaborn as sns"
   ]
  },
  {
   "cell_type": "code",
   "execution_count": 3,
   "id": "e8803a0c-c1d5-4a83-a8c7-7462554a96b8",
   "metadata": {},
   "outputs": [
    {
     "data": {
      "text/plain": [
       "['anagrams',\n",
       " 'anscombe',\n",
       " 'attention',\n",
       " 'brain_networks',\n",
       " 'car_crashes',\n",
       " 'diamonds',\n",
       " 'dots',\n",
       " 'dowjones',\n",
       " 'exercise',\n",
       " 'flights',\n",
       " 'fmri',\n",
       " 'geyser',\n",
       " 'glue',\n",
       " 'healthexp',\n",
       " 'iris',\n",
       " 'mpg',\n",
       " 'penguins',\n",
       " 'planets',\n",
       " 'seaice',\n",
       " 'taxis',\n",
       " 'tips',\n",
       " 'titanic']"
      ]
     },
     "execution_count": 3,
     "metadata": {},
     "output_type": "execute_result"
    }
   ],
   "source": [
    "# I decided to make an analysis of seaborn datasets\n",
    "# firstly, I need to get names of all datasets\n",
    "# to choose the mosr interesting for me\n",
    "sns.get_dataset_names()\n",
    "\n",
    "# I googled that \n",
    "# \"fmri\" - contains information about brain activity measured using functional magnetic resonance imaging (fMRI).\n",
    "# \"planets\" - contains information about planets discovered outside of our solar system.\n",
    "# both of them are interesting for me\n",
    "# I will take \"planets\" dataset"
   ]
  },
  {
   "cell_type": "code",
   "execution_count": null,
   "id": "12020ea2-9a5f-4e5a-ba95-4e300cfa9aae",
   "metadata": {},
   "outputs": [],
   "source": []
  }
 ],
 "metadata": {
  "kernelspec": {
   "display_name": "Python 3 (ipykernel)",
   "language": "python",
   "name": "python3"
  },
  "language_info": {
   "codemirror_mode": {
    "name": "ipython",
    "version": 3
   },
   "file_extension": ".py",
   "mimetype": "text/x-python",
   "name": "python",
   "nbconvert_exporter": "python",
   "pygments_lexer": "ipython3",
   "version": "3.10.9"
  }
 },
 "nbformat": 4,
 "nbformat_minor": 5
}
