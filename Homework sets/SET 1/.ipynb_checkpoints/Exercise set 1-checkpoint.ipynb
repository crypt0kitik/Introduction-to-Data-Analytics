{
 "cells": [
  {
   "cell_type": "markdown",
   "metadata": {},
   "source": [
    "<h3><b>Introduction to Data Analytics - Exercise set 1 - Python and NumPy Basics</b></h3>"
   ]
  },
  {
   "cell_type": "markdown",
   "metadata": {},
   "source": [
    "Put all your exercises (Jupyter Notebooks or Python-files) in your course Git-project.\n",
    "Use either code comments or Jupyter Notebook markdown (text) to document which exercise you are doing and what a certain code section does! \n",
    "You can return all of these exercises in a single Jupyter Notebook, if you wish.\n",
    "\n",
    "<img src=\"http://srv.plab.fi/~tuomasv/data_analytics_2023_images/exercise_set_1/numpylogo.png\" width=\"250\"/>"
   ]
  },
  {
   "cell_type": "code",
   "execution_count": 72,
   "metadata": {},
   "outputs": [],
   "source": [
    "# setup all needed modules and configurations\n",
    "import numpy as np"
   ]
  },
  {
   "cell_type": "code",
   "execution_count": 73,
   "metadata": {},
   "outputs": [],
   "source": [
    "# re-style the NumPy arrays\n",
    "# remember to install needed module first:\n",
    "# pip3 install numpy-html\n",
    "%reload_ext numpy_html"
   ]
  },
  {
   "cell_type": "markdown",
   "metadata": {},
   "source": [
    "Run the cell below to enable custom style for NumPy arrays:"
   ]
  },
  {
   "cell_type": "code",
   "execution_count": 74,
   "metadata": {},
   "outputs": [
    {
     "data": {
      "text/html": [
       "<style>\n",
       "table {margin-top: 16pt;}\n",
       "td {font-family: Arial, Helvetica, sans-serif !important; font-weight: 600; white-space: normal !important;}\n",
       "tr:nth-child(even) {background: #b0d9eb !important; color: black}\n",
       "tr:nth-child(odd) {background: #8fb1bf !important; color: black}\n",
       "</style>\n"
      ],
      "text/plain": [
       "<IPython.core.display.HTML object>"
      ]
     },
     "metadata": {},
     "output_type": "display_data"
    }
   ],
   "source": [
    "%%html\n",
    "<style>\n",
    "table {margin-top: 16pt;}\n",
    "td {font-family: Arial, Helvetica, sans-serif !important; font-weight: 600; white-space: normal !important;}\n",
    "tr:nth-child(even) {background: #b0d9eb !important; color: black}\n",
    "tr:nth-child(odd) {background: #8fb1bf !important; color: black}\n",
    "</style>"
   ]
  },
  {
   "cell_type": "markdown",
   "metadata": {},
   "source": [
    "<h4><b>1. Create these lists without NumPy:</b></h4>\n",
    "\n",
    "- List of 15 ones\n",
    "\n",
    "- List of 15 number 7's\n",
    "\n",
    "- List of numbers from 100 to 150\n",
    "\n",
    "- List of even numbers between 0 and 100\n",
    "\n",
    "- List of years that are divisible by 4 between 1950 and 2020\n",
    "\n",
    "<br>\n",
    "\n",
    "<b>Tip: creating a list with Python code is usually something like this:</b>\n",
    "\n",
    "<pre>\n",
    "numbers = []\n",
    "\n",
    "for x in range(0, 5):\n",
    "    numbers.append(x)\n",
    "</pre>"
   ]
  },
  {
   "cell_type": "code",
   "execution_count": 75,
   "metadata": {},
   "outputs": [
    {
     "data": {
      "text/plain": [
       "[1952,\n",
       " 1956,\n",
       " 1960,\n",
       " 1964,\n",
       " 1968,\n",
       " 1972,\n",
       " 1976,\n",
       " 1980,\n",
       " 1984,\n",
       " 1988,\n",
       " 1992,\n",
       " 1996,\n",
       " 2000,\n",
       " 2004,\n",
       " 2008,\n",
       " 2012,\n",
       " 2016,\n",
       " 2020]"
      ]
     },
     "execution_count": 75,
     "metadata": {},
     "output_type": "execute_result"
    }
   ],
   "source": [
    "# exercise 1.1 List of 15 ones\n",
    "numbers = []\n",
    "\n",
    "for x in range(0, 15):\n",
    "    numbers.append(x)  \n",
    "    \n",
    "numbers"
   ]
  },
  {
   "cell_type": "code",
   "execution_count": null,
   "metadata": {},
   "outputs": [],
   "source": [
    "# exercise 1.2 List of 15 number 7's\n",
    "numbers = []\n",
    "\n",
    "for i in range(15):\n",
    "    numbers.append(7)\n",
    "    \n",
    "numbers"
   ]
  },
  {
   "cell_type": "code",
   "execution_count": null,
   "metadata": {},
   "outputs": [],
   "source": [
    "# exercise 1.3 List of numbers from 100 to 150\n",
    "numbers = []\n",
    "\n",
    "for i in range(100, 151):\n",
    "    numbers.append(i)\n",
    "\n",
    "numbers"
   ]
  },
  {
   "cell_type": "code",
   "execution_count": null,
   "metadata": {},
   "outputs": [],
   "source": [
    "# exercise 1.4 List of even numbers between 0 and 100\n",
    "even_numbers = []\n",
    "\n",
    "for i in range(0, 101, 2):\n",
    "    even_numbers.append(i)\n",
    "\n",
    "even_numbers"
   ]
  },
  {
   "cell_type": "code",
   "execution_count": null,
   "metadata": {},
   "outputs": [],
   "source": [
    "# exercise 1.5 List of years that are divisible by 4 between 1950 and 2020\n",
    "leap_years = []\n",
    "\n",
    "for year in range(1950, 2021):\n",
    "    if year % 4 == 0:\n",
    "        leap_years.append(year)\n",
    "\n",
    "leap_years"
   ]
  },
  {
   "cell_type": "markdown",
   "metadata": {},
   "source": [
    "<h4><b>2.\tNow, create these arrays with NumPy!</b></h4>\n",
    "\n",
    "- Array of 15 zeroes\n",
    "\n",
    "- Array of 15 ones\n",
    "\n",
    "- Array of 15 number 7's\n",
    "\n",
    "- Array of numbers from 100 to 150\n",
    "\n",
    "- Array of numbers from 1900 to 2021\n",
    "\n",
    "- Array of even numbers between 0 and 100\n",
    "\n",
    "- Array of years that are divisible by 4 between 1950 and 2020\n",
    "\n"
   ]
  },
  {
   "cell_type": "code",
   "execution_count": 76,
   "metadata": {},
   "outputs": [
    {
     "data": {
      "text/html": [
       "<table style='border-style:solid;border-width:1px;'>\n",
       "<tr><td style=\"font-family:monospace;white-space: pre;\" title=\"0\"><center>1952</center></td></tr>\n",
       "<tr><td style=\"font-family:monospace;white-space: pre;\" title=\"1\"><center>1956</center></td></tr>\n",
       "<tr><td style=\"font-family:monospace;white-space: pre;\" title=\"2\"><center>1960</center></td></tr>\n",
       "<tr><td style=\"font-family:monospace;white-space: pre;\" title=\"3\"><center>1964</center></td></tr>\n",
       "<tr><td style=\"font-family:monospace;white-space: pre;\" title=\"4\"><center>1968</center></td></tr>\n",
       "<tr><td style=\"font-family:monospace;white-space: pre;\" title=\"5\"><center>1972</center></td></tr>\n",
       "<tr><td style=\"font-family:monospace;white-space: pre;\" title=\"6\"><center>1976</center></td></tr>\n",
       "<tr><td style=\"font-family:monospace;white-space: pre;\" title=\"7\"><center>1980</center></td></tr>\n",
       "<tr><td style=\"font-family:monospace;white-space: pre;\" title=\"8\"><center>1984</center></td></tr>\n",
       "<tr><td style=\"font-family:monospace;white-space: pre;\" title=\"9\"><center>1988</center></td></tr>\n",
       "<tr><td style=\"font-family:monospace;white-space: pre;\" title=\"10\"><center>1992</center></td></tr>\n",
       "<tr><td style=\"font-family:monospace;white-space: pre;\" title=\"11\"><center>1996</center></td></tr>\n",
       "<tr><td style=\"font-family:monospace;white-space: pre;\" title=\"12\"><center>2000</center></td></tr>\n",
       "<tr><td style=\"font-family:monospace;white-space: pre;\" title=\"13\"><center>2004</center></td></tr>\n",
       "<tr><td style=\"font-family:monospace;white-space: pre;\" title=\"14\"><center>2008</center></td></tr>\n",
       "<tr><td style=\"font-family:monospace;white-space: pre;\" title=\"15\"><center>2012</center></td></tr>\n",
       "<tr><td style=\"font-family:monospace;white-space: pre;\" title=\"16\"><center>2016</center></td></tr>\n",
       "<tr><td style=\"font-family:monospace;white-space: pre;\" title=\"17\"><center>2020</center></td></tr>\n",
       "</table>"
      ],
      "text/plain": [
       "array([1952, 1956, 1960, 1964, 1968, 1972, 1976, 1980, 1984, 1988, 1992,\n",
       "       1996, 2000, 2004, 2008, 2012, 2016, 2020])"
      ]
     },
     "execution_count": 76,
     "metadata": {},
     "output_type": "execute_result"
    }
   ],
   "source": [
    "# exercise 2.1 \n",
    "\n",
    "Array of 15 zeroes\n",
    "data = np.zeros(15)\n",
    "data\n",
    "\n",
    "# exercise 2.2 Array of 15 ones\n",
    "data = np.ones(15)\n",
    "data\n",
    "\n",
    "# exercise 2.3 Array of 15 number 7's\n",
    "data = np.ones(15)\n",
    "data = data * 7\n",
    "data\n",
    "\n",
    "# exercise 2.4 Array of numbers from 100 to 150\n",
    "data = np.arange(100, 151)\n",
    "data\n",
    "\n",
    "# exercise 2.5 Array of numbers from 1900 to 2021\n",
    "data = np.arange(1900, 2022)\n",
    "data\n",
    "\n",
    "# exercise 2.6 Array of even numbers between 0 and 100\n",
    "even_numbers = []\n",
    "\n",
    "for i in range(0, 101, 2):\n",
    "    even_numbers.append(i)\n",
    "even_numbers_array = np.array(even_numbers)\n",
    "\n",
    "even_numbers_array\n",
    "\n",
    "# exercise 2.7 Array of years that are divisible by 4 between 1950 and 2020\n",
    "leap_years = []\n",
    "\n",
    "for year in range(1950, 2021):\n",
    "    if year % 4 == 0:\n",
    "        leap_years.append(year)\n",
    "leap_years_array = np.array(leap_years)\n",
    "\n",
    "leap_years_array\n",
    "\n",
    "# Creating lists without NumPy was more difficult because I did not remember how to do it :)"
   ]
  },
  {
   "cell_type": "code",
   "execution_count": null,
   "metadata": {},
   "outputs": [],
   "source": []
  },
  {
   "cell_type": "code",
   "execution_count": null,
   "metadata": {},
   "outputs": [],
   "source": []
  },
  {
   "cell_type": "code",
   "execution_count": null,
   "metadata": {},
   "outputs": [],
   "source": []
  },
  {
   "cell_type": "code",
   "execution_count": null,
   "metadata": {},
   "outputs": [],
   "source": []
  },
  {
   "cell_type": "code",
   "execution_count": null,
   "metadata": {},
   "outputs": [],
   "source": []
  },
  {
   "cell_type": "code",
   "execution_count": null,
   "metadata": {},
   "outputs": [],
   "source": []
  },
  {
   "cell_type": "markdown",
   "metadata": {},
   "source": [
    "<h4><b style=\"color: red\">Note: compare the NumPy code to the plain Python code after doing the exercises. Easier or more difficult? :) \n",
    "(answer in code comments or as text in Jupyter Notebook)</b></h4>"
   ]
  },
  {
   "cell_type": "markdown",
   "metadata": {},
   "source": [
    "<h3><b>3. Let's try out NumPy matrices:</b></h3>\n",
    "\n",
    "- Create a 7x7 matrix, with values from 1 to 49\n",
    "\n",
    "    - Extra task: Create this matrix (list of lists) without NumPy in Python!\n",
    "\n",
    "<br>\n",
    "\n",
    "- Generate 8x8 random number matrix, values between 0 and 5\n",
    "\n",
    "- Generate 8x8 random number matrix, using standard normal distribution values (= values are between -3 and 3)\n"
   ]
  },
  {
   "cell_type": "code",
   "execution_count": 77,
   "metadata": {},
   "outputs": [
    {
     "data": {
      "text/html": [
       "<table style='border-style:solid;border-width:1px;'>\n",
       "<tr>\n",
       "<td style=\"font-family:monospace;white-space: pre;\" title=\"(0, 0)\"><center>1 </center></td>\n",
       "<td style=\"font-family:monospace;white-space: pre;\" title=\"(0, 1)\"><center>1 </center></td>\n",
       "<td style=\"font-family:monospace;white-space: pre;\" title=\"(0, 2)\"><center>1 </center></td>\n",
       "<td style=\"font-family:monospace;white-space: pre;\" title=\"(0, 3)\"><center>-3</center></td>\n",
       "<td style=\"font-family:monospace;white-space: pre;\" title=\"(0, 4)\"><center>2 </center></td>\n",
       "<td style=\"font-family:monospace;white-space: pre;\" title=\"(0, 5)\"><center>-3</center></td>\n",
       "<td style=\"font-family:monospace;white-space: pre;\" title=\"(0, 6)\"><center>1 </center></td>\n",
       "<td style=\"font-family:monospace;white-space: pre;\" title=\"(0, 7)\"><center>-3</center></td>\n",
       "</tr>\n",
       "<tr>\n",
       "<td style=\"font-family:monospace;white-space: pre;\" title=\"(1, 0)\"><center>0 </center></td>\n",
       "<td style=\"font-family:monospace;white-space: pre;\" title=\"(1, 1)\"><center>-3</center></td>\n",
       "<td style=\"font-family:monospace;white-space: pre;\" title=\"(1, 2)\"><center>-3</center></td>\n",
       "<td style=\"font-family:monospace;white-space: pre;\" title=\"(1, 3)\"><center>1 </center></td>\n",
       "<td style=\"font-family:monospace;white-space: pre;\" title=\"(1, 4)\"><center>2 </center></td>\n",
       "<td style=\"font-family:monospace;white-space: pre;\" title=\"(1, 5)\"><center>2 </center></td>\n",
       "<td style=\"font-family:monospace;white-space: pre;\" title=\"(1, 6)\"><center>-3</center></td>\n",
       "<td style=\"font-family:monospace;white-space: pre;\" title=\"(1, 7)\"><center>-3</center></td>\n",
       "</tr>\n",
       "<tr>\n",
       "<td style=\"font-family:monospace;white-space: pre;\" title=\"(2, 0)\"><center>0 </center></td>\n",
       "<td style=\"font-family:monospace;white-space: pre;\" title=\"(2, 1)\"><center>0 </center></td>\n",
       "<td style=\"font-family:monospace;white-space: pre;\" title=\"(2, 2)\"><center>0 </center></td>\n",
       "<td style=\"font-family:monospace;white-space: pre;\" title=\"(2, 3)\"><center>-1</center></td>\n",
       "<td style=\"font-family:monospace;white-space: pre;\" title=\"(2, 4)\"><center>-3</center></td>\n",
       "<td style=\"font-family:monospace;white-space: pre;\" title=\"(2, 5)\"><center>-2</center></td>\n",
       "<td style=\"font-family:monospace;white-space: pre;\" title=\"(2, 6)\"><center>2 </center></td>\n",
       "<td style=\"font-family:monospace;white-space: pre;\" title=\"(2, 7)\"><center>0 </center></td>\n",
       "</tr>\n",
       "<tr>\n",
       "<td style=\"font-family:monospace;white-space: pre;\" title=\"(3, 0)\"><center>-2</center></td>\n",
       "<td style=\"font-family:monospace;white-space: pre;\" title=\"(3, 1)\"><center>0 </center></td>\n",
       "<td style=\"font-family:monospace;white-space: pre;\" title=\"(3, 2)\"><center>0 </center></td>\n",
       "<td style=\"font-family:monospace;white-space: pre;\" title=\"(3, 3)\"><center>-2</center></td>\n",
       "<td style=\"font-family:monospace;white-space: pre;\" title=\"(3, 4)\"><center>-2</center></td>\n",
       "<td style=\"font-family:monospace;white-space: pre;\" title=\"(3, 5)\"><center>0 </center></td>\n",
       "<td style=\"font-family:monospace;white-space: pre;\" title=\"(3, 6)\"><center>-3</center></td>\n",
       "<td style=\"font-family:monospace;white-space: pre;\" title=\"(3, 7)\"><center>-1</center></td>\n",
       "</tr>\n",
       "<tr>\n",
       "<td style=\"font-family:monospace;white-space: pre;\" title=\"(4, 0)\"><center>1 </center></td>\n",
       "<td style=\"font-family:monospace;white-space: pre;\" title=\"(4, 1)\"><center>1 </center></td>\n",
       "<td style=\"font-family:monospace;white-space: pre;\" title=\"(4, 2)\"><center>-1</center></td>\n",
       "<td style=\"font-family:monospace;white-space: pre;\" title=\"(4, 3)\"><center>-1</center></td>\n",
       "<td style=\"font-family:monospace;white-space: pre;\" title=\"(4, 4)\"><center>-2</center></td>\n",
       "<td style=\"font-family:monospace;white-space: pre;\" title=\"(4, 5)\"><center>0 </center></td>\n",
       "<td style=\"font-family:monospace;white-space: pre;\" title=\"(4, 6)\"><center>-1</center></td>\n",
       "<td style=\"font-family:monospace;white-space: pre;\" title=\"(4, 7)\"><center>2 </center></td>\n",
       "</tr>\n",
       "<tr>\n",
       "<td style=\"font-family:monospace;white-space: pre;\" title=\"(5, 0)\"><center>1 </center></td>\n",
       "<td style=\"font-family:monospace;white-space: pre;\" title=\"(5, 1)\"><center>2 </center></td>\n",
       "<td style=\"font-family:monospace;white-space: pre;\" title=\"(5, 2)\"><center>2 </center></td>\n",
       "<td style=\"font-family:monospace;white-space: pre;\" title=\"(5, 3)\"><center>1 </center></td>\n",
       "<td style=\"font-family:monospace;white-space: pre;\" title=\"(5, 4)\"><center>0 </center></td>\n",
       "<td style=\"font-family:monospace;white-space: pre;\" title=\"(5, 5)\"><center>1 </center></td>\n",
       "<td style=\"font-family:monospace;white-space: pre;\" title=\"(5, 6)\"><center>-2</center></td>\n",
       "<td style=\"font-family:monospace;white-space: pre;\" title=\"(5, 7)\"><center>2 </center></td>\n",
       "</tr>\n",
       "<tr>\n",
       "<td style=\"font-family:monospace;white-space: pre;\" title=\"(6, 0)\"><center>-1</center></td>\n",
       "<td style=\"font-family:monospace;white-space: pre;\" title=\"(6, 1)\"><center>-1</center></td>\n",
       "<td style=\"font-family:monospace;white-space: pre;\" title=\"(6, 2)\"><center>0 </center></td>\n",
       "<td style=\"font-family:monospace;white-space: pre;\" title=\"(6, 3)\"><center>0 </center></td>\n",
       "<td style=\"font-family:monospace;white-space: pre;\" title=\"(6, 4)\"><center>-2</center></td>\n",
       "<td style=\"font-family:monospace;white-space: pre;\" title=\"(6, 5)\"><center>2 </center></td>\n",
       "<td style=\"font-family:monospace;white-space: pre;\" title=\"(6, 6)\"><center>0 </center></td>\n",
       "<td style=\"font-family:monospace;white-space: pre;\" title=\"(6, 7)\"><center>1 </center></td>\n",
       "</tr>\n",
       "<tr>\n",
       "<td style=\"font-family:monospace;white-space: pre;\" title=\"(7, 0)\"><center>1 </center></td>\n",
       "<td style=\"font-family:monospace;white-space: pre;\" title=\"(7, 1)\"><center>-1</center></td>\n",
       "<td style=\"font-family:monospace;white-space: pre;\" title=\"(7, 2)\"><center>-2</center></td>\n",
       "<td style=\"font-family:monospace;white-space: pre;\" title=\"(7, 3)\"><center>-1</center></td>\n",
       "<td style=\"font-family:monospace;white-space: pre;\" title=\"(7, 4)\"><center>-3</center></td>\n",
       "<td style=\"font-family:monospace;white-space: pre;\" title=\"(7, 5)\"><center>1 </center></td>\n",
       "<td style=\"font-family:monospace;white-space: pre;\" title=\"(7, 6)\"><center>0 </center></td>\n",
       "<td style=\"font-family:monospace;white-space: pre;\" title=\"(7, 7)\"><center>1 </center></td>\n",
       "</tr>\n",
       "</table>"
      ],
      "text/plain": [
       "array([[ 1,  1,  1, -3,  2, -3,  1, -3],\n",
       "       [ 0, -3, -3,  1,  2,  2, -3, -3],\n",
       "       [ 0,  0,  0, -1, -3, -2,  2,  0],\n",
       "       [-2,  0,  0, -2, -2,  0, -3, -1],\n",
       "       [ 1,  1, -1, -1, -2,  0, -1,  2],\n",
       "       [ 1,  2,  2,  1,  0,  1, -2,  2],\n",
       "       [-1, -1,  0,  0, -2,  2,  0,  1],\n",
       "       [ 1, -1, -2, -1, -3,  1,  0,  1]])"
      ]
     },
     "execution_count": 77,
     "metadata": {},
     "output_type": "execute_result"
    }
   ],
   "source": [
    "# exercise 3: create a 7x7 matrix, with values from 1 to 49\n",
    "data = np.arange(1, 50).reshape(7, 7)\n",
    "data\n",
    "\n",
    "# extra task: create this matrix (list of lists) without NumPy in Python\n",
    "data = []\n",
    "\n",
    "value = 1\n",
    "for i in range(7):\n",
    "    row = []\n",
    "    for j in range(7):\n",
    "        row.append(value)\n",
    "        value = value + 1\n",
    "    data.append(row)\n",
    "\n",
    "data\n",
    "\n",
    "# Generate 8x8 random number matrix, values between 0 and 5\n",
    "data = np.random.randint(0, 5, 64).reshape(8, 8)\n",
    "data\n",
    "\n",
    "# Generate 8x8 random number matrix, using standard normal distribution values (= values are between -3 and 3)\n",
    "data = np.random.randint(-3, 3, 64).reshape(8, 8)\n",
    "data"
   ]
  },
  {
   "cell_type": "markdown",
   "metadata": {},
   "source": [
    "<h3><b>4. Create a linearly spaced… </b></h3>\n",
    "\n",
    "- array (list/vector) of 10 values between value 0 and 1\n",
    "\n",
    "- 10x10 matrix between values 0 and 5\n",
    "\n",
    "    - Extra task: create this matrix without NumPy as well!\n",
    "\n",
    "\n",
    "<img src=\"http://srv.plab.fi/~tuomasv/data_analytics_2023_images/exercise_set_1/cubes.png\"/>\n"
   ]
  },
  {
   "cell_type": "code",
   "execution_count": 78,
   "metadata": {},
   "outputs": [
    {
     "name": "stdout",
     "output_type": "stream",
     "text": [
      "[0, 0, 0, 0, 0, 0, 0, 0, 0, 0]\n",
      "[0, 0, 0, 0, 0, 0, 0, 0, 0, 0]\n",
      "[1, 1, 1, 1, 1, 1, 1, 1, 1, 1]\n",
      "[1, 1, 1, 1, 1, 1, 1, 1, 1, 1]\n",
      "[2, 2, 2, 2, 2, 2, 2, 2, 2, 2]\n",
      "[2, 2, 2, 2, 2, 2, 2, 2, 2, 2]\n",
      "[3, 3, 3, 3, 3, 3, 3, 3, 3, 3]\n",
      "[3, 3, 3, 3, 3, 3, 3, 3, 3, 3]\n",
      "[4, 4, 4, 4, 4, 4, 4, 4, 4, 4]\n",
      "[4, 4, 4, 4, 4, 4, 4, 4, 4, 4]\n"
     ]
    }
   ],
   "source": [
    "# exercise 4: create a linearly spaced array (list/vector) of 10 values between value 0 and 1\n",
    "data = np.linspace(0, 1, 10)\n",
    "data\n",
    "\n",
    "# 10x10 matrix between values 0 and 5\n",
    "data = np.random.randint(0, 6, size=(10, 10))\n",
    "data\n",
    "\n",
    "# 10x10 matrix between values 0 and 5. Extra task\n",
    "data = []\n",
    "\n",
    "for i in range(10):\n",
    "    row = []\n",
    "    for x in range(10):\n",
    "        row.append(int(5 * (x + i * 10) / 100))\n",
    "    data.append(row)\n",
    "\n",
    "for row in data:\n",
    "    print(row)"
   ]
  },
  {
   "cell_type": "markdown",
   "metadata": {},
   "source": [
    "<h3><b>5. Recreate the matrices in code based on the pictures.</b></h3>\n",
    "\n",
    "- Create this 3x5 matrix with NumPy:\n",
    "\n",
    "<img src=\"http://srv.plab.fi/~tuomasv/data_analytics_2023_images/exercise_set_1/matrix1.png\"/>\n",
    "\n",
    "\n",
    "Note: The values above have no logic, you'll have to feed basic Python lists to NumPy for this result\n"
   ]
  },
  {
   "cell_type": "code",
   "execution_count": 79,
   "metadata": {},
   "outputs": [
    {
     "data": {
      "text/html": [
       "<table style='border-style:solid;border-width:1px;'>\n",
       "<tr>\n",
       "<td style=\"font-family:monospace;white-space: pre;\" title=\"(0, 0)\"><center>26</center></td>\n",
       "<td style=\"font-family:monospace;white-space: pre;\" title=\"(0, 1)\"><center>40</center></td>\n",
       "<td style=\"font-family:monospace;white-space: pre;\" title=\"(0, 2)\"><center>29</center></td>\n",
       "<td style=\"font-family:monospace;white-space: pre;\" title=\"(0, 3)\"><center>46</center></td>\n",
       "<td style=\"font-family:monospace;white-space: pre;\" title=\"(0, 4)\"><center>28</center></td>\n",
       "</tr>\n",
       "<tr>\n",
       "<td style=\"font-family:monospace;white-space: pre;\" title=\"(1, 0)\"><center>31</center></td>\n",
       "<td style=\"font-family:monospace;white-space: pre;\" title=\"(1, 1)\"><center>49</center></td>\n",
       "<td style=\"font-family:monospace;white-space: pre;\" title=\"(1, 2)\"><center>31</center></td>\n",
       "<td style=\"font-family:monospace;white-space: pre;\" title=\"(1, 3)\"><center>37</center></td>\n",
       "<td style=\"font-family:monospace;white-space: pre;\" title=\"(1, 4)\"><center>33</center></td>\n",
       "</tr>\n",
       "<tr>\n",
       "<td style=\"font-family:monospace;white-space: pre;\" title=\"(2, 0)\"><center>28</center></td>\n",
       "<td style=\"font-family:monospace;white-space: pre;\" title=\"(2, 1)\"><center>44</center></td>\n",
       "<td style=\"font-family:monospace;white-space: pre;\" title=\"(2, 2)\"><center>38</center></td>\n",
       "<td style=\"font-family:monospace;white-space: pre;\" title=\"(2, 3)\"><center>31</center></td>\n",
       "<td style=\"font-family:monospace;white-space: pre;\" title=\"(2, 4)\"><center>30</center></td>\n",
       "</tr>\n",
       "</table>"
      ],
      "text/plain": [
       "array([[26, 40, 29, 46, 28],\n",
       "       [31, 49, 31, 37, 33],\n",
       "       [28, 44, 38, 31, 30]])"
      ]
     },
     "execution_count": 79,
     "metadata": {},
     "output_type": "execute_result"
    }
   ],
   "source": [
    "# exercise 5.1: Create this 3x5 matrix with NumPy\n",
    "data = np.random.randint(23, 51, 15).reshape(3, 5)\n",
    "data"
   ]
  },
  {
   "cell_type": "markdown",
   "metadata": {},
   "source": [
    "- Generate this NumPy array:\n",
    "\n",
    "<img src=\"http://srv.plab.fi/~tuomasv/data_analytics_2023_images/exercise_set_1/matrix2.png\" width=\"800\"/>"
   ]
  },
  {
   "cell_type": "code",
   "execution_count": 80,
   "metadata": {},
   "outputs": [
    {
     "data": {
      "text/html": [
       "<table style='border-style:solid;border-width:1px;'>\n",
       "<tr>\n",
       "<td style=\"font-family:monospace;white-space: pre;\" title=\"(0, 0)\"><center>128</center></td>\n",
       "<td style=\"font-family:monospace;white-space: pre;\" title=\"(0, 1)\"><center>129</center></td>\n",
       "<td style=\"font-family:monospace;white-space: pre;\" title=\"(0, 2)\"><center>130</center></td>\n",
       "<td style=\"font-family:monospace;white-space: pre;\" title=\"(0, 3)\"><center>131</center></td>\n",
       "<td style=\"font-family:monospace;white-space: pre;\" title=\"(0, 4)\"><center>132</center></td>\n",
       "<td style=\"font-family:monospace;white-space: pre;\" title=\"(0, 5)\"><center>133</center></td>\n",
       "<td style=\"font-family:monospace;white-space: pre;\" title=\"(0, 6)\"><center>134</center></td>\n",
       "<td style=\"font-family:monospace;white-space: pre;\" title=\"(0, 7)\"><center>135</center></td>\n",
       "<td style=\"font-family:monospace;white-space: pre;\" title=\"(0, 8)\"><center>136</center></td>\n",
       "<td style=\"font-family:monospace;white-space: pre;\" title=\"(0, 9)\"><center>137</center></td>\n",
       "<td style=\"font-family:monospace;white-space: pre;\" title=\"(0, 10)\"><center>138</center></td>\n",
       "<td style=\"font-family:monospace;white-space: pre;\" title=\"(0, 11)\"><center>139</center></td>\n",
       "<td style=\"font-family:monospace;white-space: pre;\" title=\"(0, 12)\"><center>140</center></td>\n",
       "<td style=\"font-family:monospace;white-space: pre;\" title=\"(0, 13)\"><center>141</center></td>\n",
       "<td style=\"font-family:monospace;white-space: pre;\" title=\"(0, 14)\"><center>142</center></td>\n",
       "<td style=\"font-family:monospace;white-space: pre;\" title=\"(0, 15)\"><center>143</center></td>\n",
       "</tr>\n",
       "<tr>\n",
       "<td style=\"font-family:monospace;white-space: pre;\" title=\"(1, 0)\"><center>144</center></td>\n",
       "<td style=\"font-family:monospace;white-space: pre;\" title=\"(1, 1)\"><center>145</center></td>\n",
       "<td style=\"font-family:monospace;white-space: pre;\" title=\"(1, 2)\"><center>146</center></td>\n",
       "<td style=\"font-family:monospace;white-space: pre;\" title=\"(1, 3)\"><center>147</center></td>\n",
       "<td style=\"font-family:monospace;white-space: pre;\" title=\"(1, 4)\"><center>148</center></td>\n",
       "<td style=\"font-family:monospace;white-space: pre;\" title=\"(1, 5)\"><center>149</center></td>\n",
       "<td style=\"font-family:monospace;white-space: pre;\" title=\"(1, 6)\"><center>150</center></td>\n",
       "<td style=\"font-family:monospace;white-space: pre;\" title=\"(1, 7)\"><center>151</center></td>\n",
       "<td style=\"font-family:monospace;white-space: pre;\" title=\"(1, 8)\"><center>152</center></td>\n",
       "<td style=\"font-family:monospace;white-space: pre;\" title=\"(1, 9)\"><center>153</center></td>\n",
       "<td style=\"font-family:monospace;white-space: pre;\" title=\"(1, 10)\"><center>154</center></td>\n",
       "<td style=\"font-family:monospace;white-space: pre;\" title=\"(1, 11)\"><center>155</center></td>\n",
       "<td style=\"font-family:monospace;white-space: pre;\" title=\"(1, 12)\"><center>156</center></td>\n",
       "<td style=\"font-family:monospace;white-space: pre;\" title=\"(1, 13)\"><center>157</center></td>\n",
       "<td style=\"font-family:monospace;white-space: pre;\" title=\"(1, 14)\"><center>158</center></td>\n",
       "<td style=\"font-family:monospace;white-space: pre;\" title=\"(1, 15)\"><center>159</center></td>\n",
       "</tr>\n",
       "<tr>\n",
       "<td style=\"font-family:monospace;white-space: pre;\" title=\"(2, 0)\"><center>160</center></td>\n",
       "<td style=\"font-family:monospace;white-space: pre;\" title=\"(2, 1)\"><center>161</center></td>\n",
       "<td style=\"font-family:monospace;white-space: pre;\" title=\"(2, 2)\"><center>162</center></td>\n",
       "<td style=\"font-family:monospace;white-space: pre;\" title=\"(2, 3)\"><center>163</center></td>\n",
       "<td style=\"font-family:monospace;white-space: pre;\" title=\"(2, 4)\"><center>164</center></td>\n",
       "<td style=\"font-family:monospace;white-space: pre;\" title=\"(2, 5)\"><center>165</center></td>\n",
       "<td style=\"font-family:monospace;white-space: pre;\" title=\"(2, 6)\"><center>166</center></td>\n",
       "<td style=\"font-family:monospace;white-space: pre;\" title=\"(2, 7)\"><center>167</center></td>\n",
       "<td style=\"font-family:monospace;white-space: pre;\" title=\"(2, 8)\"><center>168</center></td>\n",
       "<td style=\"font-family:monospace;white-space: pre;\" title=\"(2, 9)\"><center>169</center></td>\n",
       "<td style=\"font-family:monospace;white-space: pre;\" title=\"(2, 10)\"><center>170</center></td>\n",
       "<td style=\"font-family:monospace;white-space: pre;\" title=\"(2, 11)\"><center>171</center></td>\n",
       "<td style=\"font-family:monospace;white-space: pre;\" title=\"(2, 12)\"><center>172</center></td>\n",
       "<td style=\"font-family:monospace;white-space: pre;\" title=\"(2, 13)\"><center>173</center></td>\n",
       "<td style=\"font-family:monospace;white-space: pre;\" title=\"(2, 14)\"><center>174</center></td>\n",
       "<td style=\"font-family:monospace;white-space: pre;\" title=\"(2, 15)\"><center>175</center></td>\n",
       "</tr>\n",
       "<tr>\n",
       "<td style=\"font-family:monospace;white-space: pre;\" title=\"(3, 0)\"><center>176</center></td>\n",
       "<td style=\"font-family:monospace;white-space: pre;\" title=\"(3, 1)\"><center>177</center></td>\n",
       "<td style=\"font-family:monospace;white-space: pre;\" title=\"(3, 2)\"><center>178</center></td>\n",
       "<td style=\"font-family:monospace;white-space: pre;\" title=\"(3, 3)\"><center>179</center></td>\n",
       "<td style=\"font-family:monospace;white-space: pre;\" title=\"(3, 4)\"><center>180</center></td>\n",
       "<td style=\"font-family:monospace;white-space: pre;\" title=\"(3, 5)\"><center>181</center></td>\n",
       "<td style=\"font-family:monospace;white-space: pre;\" title=\"(3, 6)\"><center>182</center></td>\n",
       "<td style=\"font-family:monospace;white-space: pre;\" title=\"(3, 7)\"><center>183</center></td>\n",
       "<td style=\"font-family:monospace;white-space: pre;\" title=\"(3, 8)\"><center>184</center></td>\n",
       "<td style=\"font-family:monospace;white-space: pre;\" title=\"(3, 9)\"><center>185</center></td>\n",
       "<td style=\"font-family:monospace;white-space: pre;\" title=\"(3, 10)\"><center>186</center></td>\n",
       "<td style=\"font-family:monospace;white-space: pre;\" title=\"(3, 11)\"><center>187</center></td>\n",
       "<td style=\"font-family:monospace;white-space: pre;\" title=\"(3, 12)\"><center>188</center></td>\n",
       "<td style=\"font-family:monospace;white-space: pre;\" title=\"(3, 13)\"><center>189</center></td>\n",
       "<td style=\"font-family:monospace;white-space: pre;\" title=\"(3, 14)\"><center>190</center></td>\n",
       "<td style=\"font-family:monospace;white-space: pre;\" title=\"(3, 15)\"><center>191</center></td>\n",
       "</tr>\n",
       "<tr>\n",
       "<td style=\"font-family:monospace;white-space: pre;\" title=\"(4, 0)\"><center>192</center></td>\n",
       "<td style=\"font-family:monospace;white-space: pre;\" title=\"(4, 1)\"><center>193</center></td>\n",
       "<td style=\"font-family:monospace;white-space: pre;\" title=\"(4, 2)\"><center>194</center></td>\n",
       "<td style=\"font-family:monospace;white-space: pre;\" title=\"(4, 3)\"><center>195</center></td>\n",
       "<td style=\"font-family:monospace;white-space: pre;\" title=\"(4, 4)\"><center>196</center></td>\n",
       "<td style=\"font-family:monospace;white-space: pre;\" title=\"(4, 5)\"><center>197</center></td>\n",
       "<td style=\"font-family:monospace;white-space: pre;\" title=\"(4, 6)\"><center>198</center></td>\n",
       "<td style=\"font-family:monospace;white-space: pre;\" title=\"(4, 7)\"><center>199</center></td>\n",
       "<td style=\"font-family:monospace;white-space: pre;\" title=\"(4, 8)\"><center>200</center></td>\n",
       "<td style=\"font-family:monospace;white-space: pre;\" title=\"(4, 9)\"><center>201</center></td>\n",
       "<td style=\"font-family:monospace;white-space: pre;\" title=\"(4, 10)\"><center>202</center></td>\n",
       "<td style=\"font-family:monospace;white-space: pre;\" title=\"(4, 11)\"><center>203</center></td>\n",
       "<td style=\"font-family:monospace;white-space: pre;\" title=\"(4, 12)\"><center>204</center></td>\n",
       "<td style=\"font-family:monospace;white-space: pre;\" title=\"(4, 13)\"><center>205</center></td>\n",
       "<td style=\"font-family:monospace;white-space: pre;\" title=\"(4, 14)\"><center>206</center></td>\n",
       "<td style=\"font-family:monospace;white-space: pre;\" title=\"(4, 15)\"><center>207</center></td>\n",
       "</tr>\n",
       "<tr>\n",
       "<td style=\"font-family:monospace;white-space: pre;\" title=\"(5, 0)\"><center>208</center></td>\n",
       "<td style=\"font-family:monospace;white-space: pre;\" title=\"(5, 1)\"><center>209</center></td>\n",
       "<td style=\"font-family:monospace;white-space: pre;\" title=\"(5, 2)\"><center>210</center></td>\n",
       "<td style=\"font-family:monospace;white-space: pre;\" title=\"(5, 3)\"><center>211</center></td>\n",
       "<td style=\"font-family:monospace;white-space: pre;\" title=\"(5, 4)\"><center>212</center></td>\n",
       "<td style=\"font-family:monospace;white-space: pre;\" title=\"(5, 5)\"><center>213</center></td>\n",
       "<td style=\"font-family:monospace;white-space: pre;\" title=\"(5, 6)\"><center>214</center></td>\n",
       "<td style=\"font-family:monospace;white-space: pre;\" title=\"(5, 7)\"><center>215</center></td>\n",
       "<td style=\"font-family:monospace;white-space: pre;\" title=\"(5, 8)\"><center>216</center></td>\n",
       "<td style=\"font-family:monospace;white-space: pre;\" title=\"(5, 9)\"><center>217</center></td>\n",
       "<td style=\"font-family:monospace;white-space: pre;\" title=\"(5, 10)\"><center>218</center></td>\n",
       "<td style=\"font-family:monospace;white-space: pre;\" title=\"(5, 11)\"><center>219</center></td>\n",
       "<td style=\"font-family:monospace;white-space: pre;\" title=\"(5, 12)\"><center>220</center></td>\n",
       "<td style=\"font-family:monospace;white-space: pre;\" title=\"(5, 13)\"><center>221</center></td>\n",
       "<td style=\"font-family:monospace;white-space: pre;\" title=\"(5, 14)\"><center>222</center></td>\n",
       "<td style=\"font-family:monospace;white-space: pre;\" title=\"(5, 15)\"><center>223</center></td>\n",
       "</tr>\n",
       "<tr>\n",
       "<td style=\"font-family:monospace;white-space: pre;\" title=\"(6, 0)\"><center>224</center></td>\n",
       "<td style=\"font-family:monospace;white-space: pre;\" title=\"(6, 1)\"><center>225</center></td>\n",
       "<td style=\"font-family:monospace;white-space: pre;\" title=\"(6, 2)\"><center>226</center></td>\n",
       "<td style=\"font-family:monospace;white-space: pre;\" title=\"(6, 3)\"><center>227</center></td>\n",
       "<td style=\"font-family:monospace;white-space: pre;\" title=\"(6, 4)\"><center>228</center></td>\n",
       "<td style=\"font-family:monospace;white-space: pre;\" title=\"(6, 5)\"><center>229</center></td>\n",
       "<td style=\"font-family:monospace;white-space: pre;\" title=\"(6, 6)\"><center>230</center></td>\n",
       "<td style=\"font-family:monospace;white-space: pre;\" title=\"(6, 7)\"><center>231</center></td>\n",
       "<td style=\"font-family:monospace;white-space: pre;\" title=\"(6, 8)\"><center>232</center></td>\n",
       "<td style=\"font-family:monospace;white-space: pre;\" title=\"(6, 9)\"><center>233</center></td>\n",
       "<td style=\"font-family:monospace;white-space: pre;\" title=\"(6, 10)\"><center>234</center></td>\n",
       "<td style=\"font-family:monospace;white-space: pre;\" title=\"(6, 11)\"><center>235</center></td>\n",
       "<td style=\"font-family:monospace;white-space: pre;\" title=\"(6, 12)\"><center>236</center></td>\n",
       "<td style=\"font-family:monospace;white-space: pre;\" title=\"(6, 13)\"><center>237</center></td>\n",
       "<td style=\"font-family:monospace;white-space: pre;\" title=\"(6, 14)\"><center>238</center></td>\n",
       "<td style=\"font-family:monospace;white-space: pre;\" title=\"(6, 15)\"><center>239</center></td>\n",
       "</tr>\n",
       "<tr>\n",
       "<td style=\"font-family:monospace;white-space: pre;\" title=\"(7, 0)\"><center>240</center></td>\n",
       "<td style=\"font-family:monospace;white-space: pre;\" title=\"(7, 1)\"><center>241</center></td>\n",
       "<td style=\"font-family:monospace;white-space: pre;\" title=\"(7, 2)\"><center>242</center></td>\n",
       "<td style=\"font-family:monospace;white-space: pre;\" title=\"(7, 3)\"><center>243</center></td>\n",
       "<td style=\"font-family:monospace;white-space: pre;\" title=\"(7, 4)\"><center>244</center></td>\n",
       "<td style=\"font-family:monospace;white-space: pre;\" title=\"(7, 5)\"><center>245</center></td>\n",
       "<td style=\"font-family:monospace;white-space: pre;\" title=\"(7, 6)\"><center>246</center></td>\n",
       "<td style=\"font-family:monospace;white-space: pre;\" title=\"(7, 7)\"><center>247</center></td>\n",
       "<td style=\"font-family:monospace;white-space: pre;\" title=\"(7, 8)\"><center>248</center></td>\n",
       "<td style=\"font-family:monospace;white-space: pre;\" title=\"(7, 9)\"><center>249</center></td>\n",
       "<td style=\"font-family:monospace;white-space: pre;\" title=\"(7, 10)\"><center>250</center></td>\n",
       "<td style=\"font-family:monospace;white-space: pre;\" title=\"(7, 11)\"><center>251</center></td>\n",
       "<td style=\"font-family:monospace;white-space: pre;\" title=\"(7, 12)\"><center>252</center></td>\n",
       "<td style=\"font-family:monospace;white-space: pre;\" title=\"(7, 13)\"><center>253</center></td>\n",
       "<td style=\"font-family:monospace;white-space: pre;\" title=\"(7, 14)\"><center>254</center></td>\n",
       "<td style=\"font-family:monospace;white-space: pre;\" title=\"(7, 15)\"><center>255</center></td>\n",
       "</tr>\n",
       "</table>"
      ],
      "text/plain": [
       "array([[128, 129, 130, 131, 132, 133, 134, 135, 136, 137, 138, 139, 140,\n",
       "        141, 142, 143],\n",
       "       [144, 145, 146, 147, 148, 149, 150, 151, 152, 153, 154, 155, 156,\n",
       "        157, 158, 159],\n",
       "       [160, 161, 162, 163, 164, 165, 166, 167, 168, 169, 170, 171, 172,\n",
       "        173, 174, 175],\n",
       "       [176, 177, 178, 179, 180, 181, 182, 183, 184, 185, 186, 187, 188,\n",
       "        189, 190, 191],\n",
       "       [192, 193, 194, 195, 196, 197, 198, 199, 200, 201, 202, 203, 204,\n",
       "        205, 206, 207],\n",
       "       [208, 209, 210, 211, 212, 213, 214, 215, 216, 217, 218, 219, 220,\n",
       "        221, 222, 223],\n",
       "       [224, 225, 226, 227, 228, 229, 230, 231, 232, 233, 234, 235, 236,\n",
       "        237, 238, 239],\n",
       "       [240, 241, 242, 243, 244, 245, 246, 247, 248, 249, 250, 251, 252,\n",
       "        253, 254, 255]])"
      ]
     },
     "execution_count": 80,
     "metadata": {},
     "output_type": "execute_result"
    }
   ],
   "source": [
    "# exercise 5.2, generate NumPy array / matrix\n",
    "data = np.arange(128, 256).reshape(8, 16)\n",
    "data"
   ]
  },
  {
   "cell_type": "markdown",
   "metadata": {},
   "source": [
    "- Generate this NumPy array:\n",
    "\n",
    "<img src=\"http://srv.plab.fi/~tuomasv/data_analytics_2023_images/exercise_set_1/matrix3.png\" width=\"500\"/>\n",
    "\n",
    "<b>Tips:</b> arange-function (and step-parameter) + reshape is recommended. Alternatively you can use broadcasting and division if you like."
   ]
  },
  {
   "cell_type": "code",
   "execution_count": 81,
   "metadata": {},
   "outputs": [
    {
     "data": {
      "text/html": [
       "<table style='border-style:solid;border-width:1px;'>\n",
       "<tr>\n",
       "<td style=\"font-family:monospace;white-space: pre;\" title=\"(0, 0)\"><center>0.05</center></td>\n",
       "<td style=\"font-family:monospace;white-space: pre;\" title=\"(0, 1)\"><center>0.1 </center></td>\n",
       "<td style=\"font-family:monospace;white-space: pre;\" title=\"(0, 2)\"><center>0.15</center></td>\n",
       "<td style=\"font-family:monospace;white-space: pre;\" title=\"(0, 3)\"><center>0.2 </center></td>\n",
       "<td style=\"font-family:monospace;white-space: pre;\" title=\"(0, 4)\"><center>0.25</center></td>\n",
       "<td style=\"font-family:monospace;white-space: pre;\" title=\"(0, 5)\"><center>0.3 </center></td>\n",
       "<td style=\"font-family:monospace;white-space: pre;\" title=\"(0, 6)\"><center>0.35</center></td>\n",
       "<td style=\"font-family:monospace;white-space: pre;\" title=\"(0, 7)\"><center>0.4 </center></td>\n",
       "<td style=\"font-family:monospace;white-space: pre;\" title=\"(0, 8)\"><center>0.45</center></td>\n",
       "<td style=\"font-family:monospace;white-space: pre;\" title=\"(0, 9)\"><center>0.5 </center></td>\n",
       "</tr>\n",
       "<tr>\n",
       "<td style=\"font-family:monospace;white-space: pre;\" title=\"(1, 0)\"><center>0.55</center></td>\n",
       "<td style=\"font-family:monospace;white-space: pre;\" title=\"(1, 1)\"><center>0.6 </center></td>\n",
       "<td style=\"font-family:monospace;white-space: pre;\" title=\"(1, 2)\"><center>0.65</center></td>\n",
       "<td style=\"font-family:monospace;white-space: pre;\" title=\"(1, 3)\"><center>0.7 </center></td>\n",
       "<td style=\"font-family:monospace;white-space: pre;\" title=\"(1, 4)\"><center>0.75</center></td>\n",
       "<td style=\"font-family:monospace;white-space: pre;\" title=\"(1, 5)\"><center>0.8 </center></td>\n",
       "<td style=\"font-family:monospace;white-space: pre;\" title=\"(1, 6)\"><center>0.85</center></td>\n",
       "<td style=\"font-family:monospace;white-space: pre;\" title=\"(1, 7)\"><center>0.9 </center></td>\n",
       "<td style=\"font-family:monospace;white-space: pre;\" title=\"(1, 8)\"><center>0.95</center></td>\n",
       "<td style=\"font-family:monospace;white-space: pre;\" title=\"(1, 9)\"><center>1.  </center></td>\n",
       "</tr>\n",
       "<tr>\n",
       "<td style=\"font-family:monospace;white-space: pre;\" title=\"(2, 0)\"><center>1.05</center></td>\n",
       "<td style=\"font-family:monospace;white-space: pre;\" title=\"(2, 1)\"><center>1.1 </center></td>\n",
       "<td style=\"font-family:monospace;white-space: pre;\" title=\"(2, 2)\"><center>1.15</center></td>\n",
       "<td style=\"font-family:monospace;white-space: pre;\" title=\"(2, 3)\"><center>1.2 </center></td>\n",
       "<td style=\"font-family:monospace;white-space: pre;\" title=\"(2, 4)\"><center>1.25</center></td>\n",
       "<td style=\"font-family:monospace;white-space: pre;\" title=\"(2, 5)\"><center>1.3 </center></td>\n",
       "<td style=\"font-family:monospace;white-space: pre;\" title=\"(2, 6)\"><center>1.35</center></td>\n",
       "<td style=\"font-family:monospace;white-space: pre;\" title=\"(2, 7)\"><center>1.4 </center></td>\n",
       "<td style=\"font-family:monospace;white-space: pre;\" title=\"(2, 8)\"><center>1.45</center></td>\n",
       "<td style=\"font-family:monospace;white-space: pre;\" title=\"(2, 9)\"><center>1.5 </center></td>\n",
       "</tr>\n",
       "<tr>\n",
       "<td style=\"font-family:monospace;white-space: pre;\" title=\"(3, 0)\"><center>1.55</center></td>\n",
       "<td style=\"font-family:monospace;white-space: pre;\" title=\"(3, 1)\"><center>1.6 </center></td>\n",
       "<td style=\"font-family:monospace;white-space: pre;\" title=\"(3, 2)\"><center>1.65</center></td>\n",
       "<td style=\"font-family:monospace;white-space: pre;\" title=\"(3, 3)\"><center>1.7 </center></td>\n",
       "<td style=\"font-family:monospace;white-space: pre;\" title=\"(3, 4)\"><center>1.75</center></td>\n",
       "<td style=\"font-family:monospace;white-space: pre;\" title=\"(3, 5)\"><center>1.8 </center></td>\n",
       "<td style=\"font-family:monospace;white-space: pre;\" title=\"(3, 6)\"><center>1.85</center></td>\n",
       "<td style=\"font-family:monospace;white-space: pre;\" title=\"(3, 7)\"><center>1.9 </center></td>\n",
       "<td style=\"font-family:monospace;white-space: pre;\" title=\"(3, 8)\"><center>1.95</center></td>\n",
       "<td style=\"font-family:monospace;white-space: pre;\" title=\"(3, 9)\"><center>2.  </center></td>\n",
       "</tr>\n",
       "<tr>\n",
       "<td style=\"font-family:monospace;white-space: pre;\" title=\"(4, 0)\"><center>2.05</center></td>\n",
       "<td style=\"font-family:monospace;white-space: pre;\" title=\"(4, 1)\"><center>2.1 </center></td>\n",
       "<td style=\"font-family:monospace;white-space: pre;\" title=\"(4, 2)\"><center>2.15</center></td>\n",
       "<td style=\"font-family:monospace;white-space: pre;\" title=\"(4, 3)\"><center>2.2 </center></td>\n",
       "<td style=\"font-family:monospace;white-space: pre;\" title=\"(4, 4)\"><center>2.25</center></td>\n",
       "<td style=\"font-family:monospace;white-space: pre;\" title=\"(4, 5)\"><center>2.3 </center></td>\n",
       "<td style=\"font-family:monospace;white-space: pre;\" title=\"(4, 6)\"><center>2.35</center></td>\n",
       "<td style=\"font-family:monospace;white-space: pre;\" title=\"(4, 7)\"><center>2.4 </center></td>\n",
       "<td style=\"font-family:monospace;white-space: pre;\" title=\"(4, 8)\"><center>2.45</center></td>\n",
       "<td style=\"font-family:monospace;white-space: pre;\" title=\"(4, 9)\"><center>2.5 </center></td>\n",
       "</tr>\n",
       "<tr>\n",
       "<td style=\"font-family:monospace;white-space: pre;\" title=\"(5, 0)\"><center>2.55</center></td>\n",
       "<td style=\"font-family:monospace;white-space: pre;\" title=\"(5, 1)\"><center>2.6 </center></td>\n",
       "<td style=\"font-family:monospace;white-space: pre;\" title=\"(5, 2)\"><center>2.65</center></td>\n",
       "<td style=\"font-family:monospace;white-space: pre;\" title=\"(5, 3)\"><center>2.7 </center></td>\n",
       "<td style=\"font-family:monospace;white-space: pre;\" title=\"(5, 4)\"><center>2.75</center></td>\n",
       "<td style=\"font-family:monospace;white-space: pre;\" title=\"(5, 5)\"><center>2.8 </center></td>\n",
       "<td style=\"font-family:monospace;white-space: pre;\" title=\"(5, 6)\"><center>2.85</center></td>\n",
       "<td style=\"font-family:monospace;white-space: pre;\" title=\"(5, 7)\"><center>2.9 </center></td>\n",
       "<td style=\"font-family:monospace;white-space: pre;\" title=\"(5, 8)\"><center>2.95</center></td>\n",
       "<td style=\"font-family:monospace;white-space: pre;\" title=\"(5, 9)\"><center>3.  </center></td>\n",
       "</tr>\n",
       "<tr>\n",
       "<td style=\"font-family:monospace;white-space: pre;\" title=\"(6, 0)\"><center>3.05</center></td>\n",
       "<td style=\"font-family:monospace;white-space: pre;\" title=\"(6, 1)\"><center>3.1 </center></td>\n",
       "<td style=\"font-family:monospace;white-space: pre;\" title=\"(6, 2)\"><center>3.15</center></td>\n",
       "<td style=\"font-family:monospace;white-space: pre;\" title=\"(6, 3)\"><center>3.2 </center></td>\n",
       "<td style=\"font-family:monospace;white-space: pre;\" title=\"(6, 4)\"><center>3.25</center></td>\n",
       "<td style=\"font-family:monospace;white-space: pre;\" title=\"(6, 5)\"><center>3.3 </center></td>\n",
       "<td style=\"font-family:monospace;white-space: pre;\" title=\"(6, 6)\"><center>3.35</center></td>\n",
       "<td style=\"font-family:monospace;white-space: pre;\" title=\"(6, 7)\"><center>3.4 </center></td>\n",
       "<td style=\"font-family:monospace;white-space: pre;\" title=\"(6, 8)\"><center>3.45</center></td>\n",
       "<td style=\"font-family:monospace;white-space: pre;\" title=\"(6, 9)\"><center>3.5 </center></td>\n",
       "</tr>\n",
       "<tr>\n",
       "<td style=\"font-family:monospace;white-space: pre;\" title=\"(7, 0)\"><center>3.55</center></td>\n",
       "<td style=\"font-family:monospace;white-space: pre;\" title=\"(7, 1)\"><center>3.6 </center></td>\n",
       "<td style=\"font-family:monospace;white-space: pre;\" title=\"(7, 2)\"><center>3.65</center></td>\n",
       "<td style=\"font-family:monospace;white-space: pre;\" title=\"(7, 3)\"><center>3.7 </center></td>\n",
       "<td style=\"font-family:monospace;white-space: pre;\" title=\"(7, 4)\"><center>3.75</center></td>\n",
       "<td style=\"font-family:monospace;white-space: pre;\" title=\"(7, 5)\"><center>3.8 </center></td>\n",
       "<td style=\"font-family:monospace;white-space: pre;\" title=\"(7, 6)\"><center>3.85</center></td>\n",
       "<td style=\"font-family:monospace;white-space: pre;\" title=\"(7, 7)\"><center>3.9 </center></td>\n",
       "<td style=\"font-family:monospace;white-space: pre;\" title=\"(7, 8)\"><center>3.95</center></td>\n",
       "<td style=\"font-family:monospace;white-space: pre;\" title=\"(7, 9)\"><center>4.  </center></td>\n",
       "</tr>\n",
       "<tr>\n",
       "<td style=\"font-family:monospace;white-space: pre;\" title=\"(8, 0)\"><center>4.05</center></td>\n",
       "<td style=\"font-family:monospace;white-space: pre;\" title=\"(8, 1)\"><center>4.1 </center></td>\n",
       "<td style=\"font-family:monospace;white-space: pre;\" title=\"(8, 2)\"><center>4.15</center></td>\n",
       "<td style=\"font-family:monospace;white-space: pre;\" title=\"(8, 3)\"><center>4.2 </center></td>\n",
       "<td style=\"font-family:monospace;white-space: pre;\" title=\"(8, 4)\"><center>4.25</center></td>\n",
       "<td style=\"font-family:monospace;white-space: pre;\" title=\"(8, 5)\"><center>4.3 </center></td>\n",
       "<td style=\"font-family:monospace;white-space: pre;\" title=\"(8, 6)\"><center>4.35</center></td>\n",
       "<td style=\"font-family:monospace;white-space: pre;\" title=\"(8, 7)\"><center>4.4 </center></td>\n",
       "<td style=\"font-family:monospace;white-space: pre;\" title=\"(8, 8)\"><center>4.45</center></td>\n",
       "<td style=\"font-family:monospace;white-space: pre;\" title=\"(8, 9)\"><center>4.5 </center></td>\n",
       "</tr>\n",
       "<tr>\n",
       "<td style=\"font-family:monospace;white-space: pre;\" title=\"(9, 0)\"><center>4.55</center></td>\n",
       "<td style=\"font-family:monospace;white-space: pre;\" title=\"(9, 1)\"><center>4.6 </center></td>\n",
       "<td style=\"font-family:monospace;white-space: pre;\" title=\"(9, 2)\"><center>4.65</center></td>\n",
       "<td style=\"font-family:monospace;white-space: pre;\" title=\"(9, 3)\"><center>4.7 </center></td>\n",
       "<td style=\"font-family:monospace;white-space: pre;\" title=\"(9, 4)\"><center>4.75</center></td>\n",
       "<td style=\"font-family:monospace;white-space: pre;\" title=\"(9, 5)\"><center>4.8 </center></td>\n",
       "<td style=\"font-family:monospace;white-space: pre;\" title=\"(9, 6)\"><center>4.85</center></td>\n",
       "<td style=\"font-family:monospace;white-space: pre;\" title=\"(9, 7)\"><center>4.9 </center></td>\n",
       "<td style=\"font-family:monospace;white-space: pre;\" title=\"(9, 8)\"><center>4.95</center></td>\n",
       "<td style=\"font-family:monospace;white-space: pre;\" title=\"(9, 9)\"><center>5.  </center></td>\n",
       "</tr>\n",
       "</table>"
      ],
      "text/plain": [
       "array([[0.05, 0.1 , 0.15, 0.2 , 0.25, 0.3 , 0.35, 0.4 , 0.45, 0.5 ],\n",
       "       [0.55, 0.6 , 0.65, 0.7 , 0.75, 0.8 , 0.85, 0.9 , 0.95, 1.  ],\n",
       "       [1.05, 1.1 , 1.15, 1.2 , 1.25, 1.3 , 1.35, 1.4 , 1.45, 1.5 ],\n",
       "       [1.55, 1.6 , 1.65, 1.7 , 1.75, 1.8 , 1.85, 1.9 , 1.95, 2.  ],\n",
       "       [2.05, 2.1 , 2.15, 2.2 , 2.25, 2.3 , 2.35, 2.4 , 2.45, 2.5 ],\n",
       "       [2.55, 2.6 , 2.65, 2.7 , 2.75, 2.8 , 2.85, 2.9 , 2.95, 3.  ],\n",
       "       [3.05, 3.1 , 3.15, 3.2 , 3.25, 3.3 , 3.35, 3.4 , 3.45, 3.5 ],\n",
       "       [3.55, 3.6 , 3.65, 3.7 , 3.75, 3.8 , 3.85, 3.9 , 3.95, 4.  ],\n",
       "       [4.05, 4.1 , 4.15, 4.2 , 4.25, 4.3 , 4.35, 4.4 , 4.45, 4.5 ],\n",
       "       [4.55, 4.6 , 4.65, 4.7 , 4.75, 4.8 , 4.85, 4.9 , 4.95, 5.  ]])"
      ]
     },
     "execution_count": 81,
     "metadata": {},
     "output_type": "execute_result"
    }
   ],
   "source": [
    "# exercise 5.3, generate NumPy array / matrix\n",
    "data = np.linspace(0.05, 5, 100).reshape(10, 10)\n",
    "data"
   ]
  },
  {
   "cell_type": "markdown",
   "metadata": {},
   "source": [
    "<h3><b>6. Use this matrix in your code:</b></h3>\n",
    "\n",
    "dataset = np.arange(1, 37).reshape(6, 6)\n",
    "\n",
    "<img src=\"http://srv.plab.fi/~tuomasv/data_analytics_2023_images/exercise_set_1/matrix4.png\"/>\n"
   ]
  },
  {
   "cell_type": "code",
   "execution_count": 82,
   "metadata": {},
   "outputs": [
    {
     "data": {
      "text/html": [
       "<table style='border-style:solid;border-width:1px;'>\n",
       "<tr>\n",
       "<td style=\"font-family:monospace;white-space: pre;\" title=\"(0, 0)\"><center>1 </center></td>\n",
       "<td style=\"font-family:monospace;white-space: pre;\" title=\"(0, 1)\"><center>2 </center></td>\n",
       "<td style=\"font-family:monospace;white-space: pre;\" title=\"(0, 2)\"><center>3 </center></td>\n",
       "<td style=\"font-family:monospace;white-space: pre;\" title=\"(0, 3)\"><center>4 </center></td>\n",
       "<td style=\"font-family:monospace;white-space: pre;\" title=\"(0, 4)\"><center>5 </center></td>\n",
       "<td style=\"font-family:monospace;white-space: pre;\" title=\"(0, 5)\"><center>6 </center></td>\n",
       "</tr>\n",
       "<tr>\n",
       "<td style=\"font-family:monospace;white-space: pre;\" title=\"(1, 0)\"><center>7 </center></td>\n",
       "<td style=\"font-family:monospace;white-space: pre;\" title=\"(1, 1)\"><center>8 </center></td>\n",
       "<td style=\"font-family:monospace;white-space: pre;\" title=\"(1, 2)\"><center>9 </center></td>\n",
       "<td style=\"font-family:monospace;white-space: pre;\" title=\"(1, 3)\"><center>10</center></td>\n",
       "<td style=\"font-family:monospace;white-space: pre;\" title=\"(1, 4)\"><center>11</center></td>\n",
       "<td style=\"font-family:monospace;white-space: pre;\" title=\"(1, 5)\"><center>12</center></td>\n",
       "</tr>\n",
       "<tr>\n",
       "<td style=\"font-family:monospace;white-space: pre;\" title=\"(2, 0)\"><center>13</center></td>\n",
       "<td style=\"font-family:monospace;white-space: pre;\" title=\"(2, 1)\"><center>14</center></td>\n",
       "<td style=\"font-family:monospace;white-space: pre;\" title=\"(2, 2)\"><center>15</center></td>\n",
       "<td style=\"font-family:monospace;white-space: pre;\" title=\"(2, 3)\"><center>16</center></td>\n",
       "<td style=\"font-family:monospace;white-space: pre;\" title=\"(2, 4)\"><center>17</center></td>\n",
       "<td style=\"font-family:monospace;white-space: pre;\" title=\"(2, 5)\"><center>18</center></td>\n",
       "</tr>\n",
       "<tr>\n",
       "<td style=\"font-family:monospace;white-space: pre;\" title=\"(3, 0)\"><center>19</center></td>\n",
       "<td style=\"font-family:monospace;white-space: pre;\" title=\"(3, 1)\"><center>20</center></td>\n",
       "<td style=\"font-family:monospace;white-space: pre;\" title=\"(3, 2)\"><center>21</center></td>\n",
       "<td style=\"font-family:monospace;white-space: pre;\" title=\"(3, 3)\"><center>22</center></td>\n",
       "<td style=\"font-family:monospace;white-space: pre;\" title=\"(3, 4)\"><center>23</center></td>\n",
       "<td style=\"font-family:monospace;white-space: pre;\" title=\"(3, 5)\"><center>24</center></td>\n",
       "</tr>\n",
       "<tr>\n",
       "<td style=\"font-family:monospace;white-space: pre;\" title=\"(4, 0)\"><center>25</center></td>\n",
       "<td style=\"font-family:monospace;white-space: pre;\" title=\"(4, 1)\"><center>26</center></td>\n",
       "<td style=\"font-family:monospace;white-space: pre;\" title=\"(4, 2)\"><center>27</center></td>\n",
       "<td style=\"font-family:monospace;white-space: pre;\" title=\"(4, 3)\"><center>28</center></td>\n",
       "<td style=\"font-family:monospace;white-space: pre;\" title=\"(4, 4)\"><center>29</center></td>\n",
       "<td style=\"font-family:monospace;white-space: pre;\" title=\"(4, 5)\"><center>30</center></td>\n",
       "</tr>\n",
       "<tr>\n",
       "<td style=\"font-family:monospace;white-space: pre;\" title=\"(5, 0)\"><center>31</center></td>\n",
       "<td style=\"font-family:monospace;white-space: pre;\" title=\"(5, 1)\"><center>32</center></td>\n",
       "<td style=\"font-family:monospace;white-space: pre;\" title=\"(5, 2)\"><center>33</center></td>\n",
       "<td style=\"font-family:monospace;white-space: pre;\" title=\"(5, 3)\"><center>34</center></td>\n",
       "<td style=\"font-family:monospace;white-space: pre;\" title=\"(5, 4)\"><center>35</center></td>\n",
       "<td style=\"font-family:monospace;white-space: pre;\" title=\"(5, 5)\"><center>36</center></td>\n",
       "</tr>\n",
       "</table>"
      ],
      "text/plain": [
       "array([[ 1,  2,  3,  4,  5,  6],\n",
       "       [ 7,  8,  9, 10, 11, 12],\n",
       "       [13, 14, 15, 16, 17, 18],\n",
       "       [19, 20, 21, 22, 23, 24],\n",
       "       [25, 26, 27, 28, 29, 30],\n",
       "       [31, 32, 33, 34, 35, 36]])"
      ]
     },
     "execution_count": 82,
     "metadata": {},
     "output_type": "execute_result"
    }
   ],
   "source": [
    "# exercise 6.1, matrix slicing\n",
    "dataset = np.arange(1, 37).reshape(6, 6)\n",
    "dataset"
   ]
  },
  {
   "cell_type": "markdown",
   "metadata": {},
   "source": [
    "- Create a slice of the matrix that contains this part of the matrix:\n",
    "\n",
    "<img src=\"http://srv.plab.fi/~tuomasv/data_analytics_2023_images/exercise_set_1/matrix5.png\"/>"
   ]
  },
  {
   "cell_type": "code",
   "execution_count": 83,
   "metadata": {},
   "outputs": [
    {
     "data": {
      "text/html": [
       "<table style='border-style:solid;border-width:1px;'>\n",
       "<tr>\n",
       "<td style=\"font-family:monospace;white-space: pre;\" title=\"(0, 0)\"><center>21</center></td>\n",
       "<td style=\"font-family:monospace;white-space: pre;\" title=\"(0, 1)\"><center>22</center></td>\n",
       "<td style=\"font-family:monospace;white-space: pre;\" title=\"(0, 2)\"><center>23</center></td>\n",
       "<td style=\"font-family:monospace;white-space: pre;\" title=\"(0, 3)\"><center>24</center></td>\n",
       "</tr>\n",
       "<tr>\n",
       "<td style=\"font-family:monospace;white-space: pre;\" title=\"(1, 0)\"><center>27</center></td>\n",
       "<td style=\"font-family:monospace;white-space: pre;\" title=\"(1, 1)\"><center>28</center></td>\n",
       "<td style=\"font-family:monospace;white-space: pre;\" title=\"(1, 2)\"><center>29</center></td>\n",
       "<td style=\"font-family:monospace;white-space: pre;\" title=\"(1, 3)\"><center>30</center></td>\n",
       "</tr>\n",
       "<tr>\n",
       "<td style=\"font-family:monospace;white-space: pre;\" title=\"(2, 0)\"><center>33</center></td>\n",
       "<td style=\"font-family:monospace;white-space: pre;\" title=\"(2, 1)\"><center>34</center></td>\n",
       "<td style=\"font-family:monospace;white-space: pre;\" title=\"(2, 2)\"><center>35</center></td>\n",
       "<td style=\"font-family:monospace;white-space: pre;\" title=\"(2, 3)\"><center>36</center></td>\n",
       "</tr>\n",
       "</table>"
      ],
      "text/plain": [
       "array([[21, 22, 23, 24],\n",
       "       [27, 28, 29, 30],\n",
       "       [33, 34, 35, 36]])"
      ]
     },
     "execution_count": 83,
     "metadata": {},
     "output_type": "execute_result"
    }
   ],
   "source": [
    "# exercise 6.2, matrix slicing\n",
    "# [row; column]\n",
    "section = dataset[3:,2:]\n",
    "section"
   ]
  },
  {
   "cell_type": "markdown",
   "metadata": {},
   "source": [
    "- Pick out this column slice from data\n",
    "\n",
    "<img src=\"http://srv.plab.fi/~tuomasv/data_analytics_2023_images/exercise_set_1/series1.png\"/>"
   ]
  },
  {
   "cell_type": "code",
   "execution_count": 84,
   "metadata": {},
   "outputs": [
    {
     "data": {
      "text/html": [
       "<table style='border-style:solid;border-width:1px;'>\n",
       "<tr><td style=\"font-family:monospace;white-space: pre;\" title=\"0\"><center>4 </center></td></tr>\n",
       "<tr><td style=\"font-family:monospace;white-space: pre;\" title=\"1\"><center>10</center></td></tr>\n",
       "<tr><td style=\"font-family:monospace;white-space: pre;\" title=\"2\"><center>16</center></td></tr>\n",
       "<tr><td style=\"font-family:monospace;white-space: pre;\" title=\"3\"><center>22</center></td></tr>\n",
       "</table>"
      ],
      "text/plain": [
       "array([ 4, 10, 16, 22])"
      ]
     },
     "execution_count": 84,
     "metadata": {},
     "output_type": "execute_result"
    }
   ],
   "source": [
    "# exercise 6.3, matrix slicing\n",
    "column = dataset[:4,3]\n",
    "column"
   ]
  },
  {
   "cell_type": "markdown",
   "metadata": {},
   "source": [
    "- Pick out this row from the data\n",
    "\n",
    "<img src=\"http://srv.plab.fi/~tuomasv/data_analytics_2023_images/exercise_set_1/series2.png\"/>"
   ]
  },
  {
   "cell_type": "code",
   "execution_count": 85,
   "metadata": {},
   "outputs": [
    {
     "data": {
      "text/html": [
       "<table style='border-style:solid;border-width:1px;'>\n",
       "<tr><td style=\"font-family:monospace;white-space: pre;\" title=\"0\"><center>13</center></td></tr>\n",
       "<tr><td style=\"font-family:monospace;white-space: pre;\" title=\"1\"><center>14</center></td></tr>\n",
       "<tr><td style=\"font-family:monospace;white-space: pre;\" title=\"2\"><center>15</center></td></tr>\n",
       "<tr><td style=\"font-family:monospace;white-space: pre;\" title=\"3\"><center>16</center></td></tr>\n",
       "<tr><td style=\"font-family:monospace;white-space: pre;\" title=\"4\"><center>17</center></td></tr>\n",
       "<tr><td style=\"font-family:monospace;white-space: pre;\" title=\"5\"><center>18</center></td></tr>\n",
       "</table>"
      ],
      "text/plain": [
       "array([13, 14, 15, 16, 17, 18])"
      ]
     },
     "execution_count": 85,
     "metadata": {},
     "output_type": "execute_result"
    }
   ],
   "source": [
    "# exercise 6.4, matrix slicing\n",
    "row = dataset[2]\n",
    "row"
   ]
  },
  {
   "cell_type": "markdown",
   "metadata": {},
   "source": [
    "- Pick out these three rows from data:\n",
    "\n",
    "<img src=\"http://srv.plab.fi/~tuomasv/data_analytics_2023_images/exercise_set_1/matrix6.png\"/>"
   ]
  },
  {
   "cell_type": "code",
   "execution_count": 86,
   "metadata": {},
   "outputs": [
    {
     "data": {
      "text/html": [
       "<table style='border-style:solid;border-width:1px;'>\n",
       "<tr>\n",
       "<td style=\"font-family:monospace;white-space: pre;\" title=\"(0, 0)\"><center>19</center></td>\n",
       "<td style=\"font-family:monospace;white-space: pre;\" title=\"(0, 1)\"><center>20</center></td>\n",
       "<td style=\"font-family:monospace;white-space: pre;\" title=\"(0, 2)\"><center>21</center></td>\n",
       "<td style=\"font-family:monospace;white-space: pre;\" title=\"(0, 3)\"><center>22</center></td>\n",
       "<td style=\"font-family:monospace;white-space: pre;\" title=\"(0, 4)\"><center>23</center></td>\n",
       "<td style=\"font-family:monospace;white-space: pre;\" title=\"(0, 5)\"><center>24</center></td>\n",
       "</tr>\n",
       "<tr>\n",
       "<td style=\"font-family:monospace;white-space: pre;\" title=\"(1, 0)\"><center>25</center></td>\n",
       "<td style=\"font-family:monospace;white-space: pre;\" title=\"(1, 1)\"><center>26</center></td>\n",
       "<td style=\"font-family:monospace;white-space: pre;\" title=\"(1, 2)\"><center>27</center></td>\n",
       "<td style=\"font-family:monospace;white-space: pre;\" title=\"(1, 3)\"><center>28</center></td>\n",
       "<td style=\"font-family:monospace;white-space: pre;\" title=\"(1, 4)\"><center>29</center></td>\n",
       "<td style=\"font-family:monospace;white-space: pre;\" title=\"(1, 5)\"><center>30</center></td>\n",
       "</tr>\n",
       "<tr>\n",
       "<td style=\"font-family:monospace;white-space: pre;\" title=\"(2, 0)\"><center>31</center></td>\n",
       "<td style=\"font-family:monospace;white-space: pre;\" title=\"(2, 1)\"><center>32</center></td>\n",
       "<td style=\"font-family:monospace;white-space: pre;\" title=\"(2, 2)\"><center>33</center></td>\n",
       "<td style=\"font-family:monospace;white-space: pre;\" title=\"(2, 3)\"><center>34</center></td>\n",
       "<td style=\"font-family:monospace;white-space: pre;\" title=\"(2, 4)\"><center>35</center></td>\n",
       "<td style=\"font-family:monospace;white-space: pre;\" title=\"(2, 5)\"><center>36</center></td>\n",
       "</tr>\n",
       "</table>"
      ],
      "text/plain": [
       "array([[19, 20, 21, 22, 23, 24],\n",
       "       [25, 26, 27, 28, 29, 30],\n",
       "       [31, 32, 33, 34, 35, 36]])"
      ]
     },
     "execution_count": 86,
     "metadata": {},
     "output_type": "execute_result"
    }
   ],
   "source": [
    "# exercise 6.5, matrix slicing\n",
    "# [row; column]\n",
    "section = dataset[3:,0:]\n",
    "section"
   ]
  },
  {
   "cell_type": "markdown",
   "metadata": {},
   "source": [
    "<h3><b>7. Use this matrix:</b></h3>\n",
    "\n",
    "<b>dataset_2 = np.arange(1, 50).reshape(7, 7)</b>\n",
    "\n",
    "- Add 50 to all values in the array (use broadcasting)\n",
    "\n",
    "- Get the sum of all values in the dataset\n",
    "\n",
    "- Get sum of only odd numbers in the dataset\n",
    "\n",
    "- Get the standard deviation of the values in the dataset\n",
    "\n",
    "- Get the sum of all values by ROW in the dataset\n",
    "\n",
    "- Get the sum of all values by COLUMN in the dataset (tip, use the axis –parameter)\n",
    "\n",
    "<br>\n",
    "\n",
    "- <b>Extra task:</b> Do the total sum, row sum and column sum exercises< <b>without</b> NumPy in Python!\n",
    "\n",
    "<br><br>\n",
    "<img src=\"http://srv.plab.fi/~tuomasv/data_analytics_2023_images/exercise_set_1/desktopcomputer.png\"/>\n"
   ]
  },
  {
   "cell_type": "code",
   "execution_count": 92,
   "metadata": {},
   "outputs": [
    {
     "data": {
      "text/plain": [
       "[154, 161, 168, 175, 182, 189, 196]"
      ]
     },
     "execution_count": 92,
     "metadata": {},
     "output_type": "execute_result"
    }
   ],
   "source": [
    "# exercise 7, NumPy -operations on a matrix\n",
    "dataset_2 = np.arange(1, 50).reshape(7, 7)\n",
    "dataset_2\n",
    "\n",
    "# Add 50 to all values in the array (use broadcasting)\n",
    "added = data + 50\n",
    "added\n",
    "\n",
    "# Get the sum of all values in the dataset\n",
    "sum = np.sum(dataset_2)\n",
    "sum\n",
    "\n",
    "# Get sum of only odd numbers in the dataset\n",
    "odd_numbers = dataset_2[dataset_2 % 2 != 0]\n",
    "sum_of_odd_numbers = np.sum(odd_numbers)\n",
    "sum_of_odd_numbers\n",
    "\n",
    "# Get the standard deviation of the values in the dataset\n",
    "standard_deviation = np.std(dataset_2)\n",
    "standard_deviation\n",
    "\n",
    "# Get the sum of all values by ROW in the dataset\n",
    "sum_of_values_by_row = np.sum(dataset_2, axis=1)\n",
    "sum_of_values_by_row\n",
    "\n",
    "# Get the sum of all values by COLUMN in the dataset (tip, use the axis –parameter)\n",
    "sum_of_values_by_column = np.sum(dataset_2, axis=0)\n",
    "sum_of_values_by_column\n",
    "\n",
    "# Extra task: total sum and column sum exercises without NumPy in Python!\n",
    "\n",
    "# Total sum\n",
    "total_sum = 0\n",
    "for row in dataset_2:\n",
    "    for value in row:\n",
    "        total_sum = total_sum + value\n",
    "\n",
    "total_sum\n",
    "\n",
    "# Column sum\n",
    "column_sum = [0] * len(dataset_2[0])\n",
    "for row in dataset_2:\n",
    "    for i, value in enumerate(row):\n",
    "        column_sum[i] = column_sum[i] + value\n",
    "\n",
    "column_sum"
   ]
  },
  {
   "cell_type": "markdown",
   "metadata": {},
   "source": [
    "<br><br>\n",
    "<h2><b>Advanced extra tasks for extra points (varying challenges, some require Googling):</b></h2>"
   ]
  },
  {
   "cell_type": "markdown",
   "metadata": {},
   "source": [
    "<h3><b>1. Create two files for this exercise: save_matrix.py and read_matrix.py</b></h3>\n",
    "\n",
    "- in save_matrix.py: create a 15x15 matrix, and save it to a file (matrix.txt)\n",
    " - in read_matrix.py, read matrix.txt, and convert it back to a NumPy matrix\n",
    "\n",
    "NumPy has loadtxt() and savetxt()-functions for these purposes.\n"
   ]
  },
  {
   "cell_type": "code",
   "execution_count": 88,
   "metadata": {},
   "outputs": [],
   "source": [
    "# advanced extra exercise 1\n",
    "\n",
    "# files are created in the same folders\n",
    "# everything is pushed to Git"
   ]
  },
  {
   "cell_type": "markdown",
   "metadata": {},
   "source": [
    "<h3><b>2. Masked arrays are a feature of NumPy that allow us to deal with pieces data that are incorrect or missing in a dataset (for example, faulty measurements from equipment etc.).</b></h3>\n",
    "\n",
    "Create a NumPy matrix, that contains numbers between 0 to 50, and put some faulty numbers in a 10 different spots \n",
    "(for example: -100)\n",
    "\n",
    "Use a masked array to handle the -100 values in your matrix. Replace every -100 with 0.\n"
   ]
  },
  {
   "cell_type": "code",
   "execution_count": 89,
   "metadata": {},
   "outputs": [],
   "source": [
    "# advanced extra exercise 2\n"
   ]
  },
  {
   "cell_type": "markdown",
   "metadata": {},
   "source": [
    "<h3><b>3. argsort is a feature of NumPy  that allows you to sort a NumPy array based on another NumPy array. </b></h3>\n",
    "\n",
    "This is useful if you have two separate arrays, but their data  should be in sync even if order of data is changed. For example, one array contains the prices of cars, and another contains the manufacturing years. If we wish to sort the data by manufacturing years, and keep the prices in sync as well, argsort will be handy.\n",
    "\n",
    "Useful link:\n",
    "http://arogozhnikov.github.io/2015/09/29/NumpyTipsAndTricks1.html\n",
    "\n",
    "Create two random datasets:\n",
    "\n",
    "- Manufacturing years of 10 cars, values between 2010 and 2020\n",
    "\n",
    "- Selling price of 10 cars, prices between 2000€ and 60000€\n",
    "\n",
    "Use argsort to sort both datasets according to manufacturing years.\n"
   ]
  },
  {
   "cell_type": "code",
   "execution_count": 90,
   "metadata": {},
   "outputs": [],
   "source": [
    "# advanced extra exercise 3\n"
   ]
  },
  {
   "cell_type": "markdown",
   "metadata": {},
   "source": [
    "<h3><b>4. Try out the following additional NumPy features, and discuss in your code comments or in Jupyter Notebook text where they could be useful. You can also Google and search for ideas where these could be used. </b></h3>\n",
    "\n",
    "You can write your thoughts as comments in the code or Jupyter text as you try out each feature.\n",
    "\n",
    "- np.repeat()\n",
    "\n",
    "- np.ravel()\n",
    "\n",
    "- np.hsplit(), np.vsplit(), np.hstack, np.vstack()\n",
    "\n",
    "- np.transpose()\n",
    "\n",
    "- np.round()\n",
    "\n",
    "- np.expand_dims(), np.squeeze()\n",
    "\n",
    "- np.digitize()\n",
    "\n",
    "\n"
   ]
  },
  {
   "cell_type": "code",
   "execution_count": 91,
   "metadata": {},
   "outputs": [],
   "source": [
    "# advanced extra exercise 4\n"
   ]
  },
  {
   "cell_type": "code",
   "execution_count": null,
   "metadata": {},
   "outputs": [],
   "source": []
  }
 ],
 "metadata": {
  "kernelspec": {
   "display_name": "Python 3 (ipykernel)",
   "language": "python",
   "name": "python3"
  },
  "language_info": {
   "codemirror_mode": {
    "name": "ipython",
    "version": 3
   },
   "file_extension": ".py",
   "mimetype": "text/x-python",
   "name": "python",
   "nbconvert_exporter": "python",
   "pygments_lexer": "ipython3",
   "version": "3.9.13"
  },
  "vscode": {
   "interpreter": {
    "hash": "1a156f90a5470c91589eb6933e5684e25ad9385425853320b76214373e8d592f"
   }
  }
 },
 "nbformat": 4,
 "nbformat_minor": 2
}
