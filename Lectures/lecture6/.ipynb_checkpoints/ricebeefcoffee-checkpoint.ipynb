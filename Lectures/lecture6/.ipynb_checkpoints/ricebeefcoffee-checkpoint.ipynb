{
 "cells": [
  {
   "cell_type": "code",
   "execution_count": 3,
   "metadata": {},
   "outputs": [],
   "source": [
    "import numpy as np\n",
    "import pandas as pd\n",
    "from scipy import stats\n",
    "import seaborn as sns\n",
    "import matplotlib.pyplot as plt"
   ]
  },
  {
   "cell_type": "code",
   "execution_count": 4,
   "metadata": {},
   "outputs": [],
   "source": [
    "# data explanations: \n",
    "# https://www.kaggle.com/code/akshayraman/eda-coffee-rice-and-beef-prices/data\n",
    "df = pd.read_csv(\"ricebeefcoffee.csv\")\n",
    "df = df.drop(\"Price_beef_kilo\", axis = 1)\n",
    "df = df.drop(\"Price_coffee_kilo\", axis = 1)\n",
    "df = df.drop(\"Price_rice_kilo\", axis = 1)\n",
    "df = df.drop(\"Inflation_rate\", axis = 1)"
   ]
  },
  {
   "cell_type": "code",
   "execution_count": 5,
   "metadata": {},
   "outputs": [
    {
     "data": {
      "text/plain": [
       "Index(['Year', 'Month', 'Price_rice_infl', 'Price_beef_infl',\n",
       "       'Price_coffee_infl'],\n",
       "      dtype='object')"
      ]
     },
     "execution_count": 5,
     "metadata": {},
     "output_type": "execute_result"
    }
   ],
   "source": [
    "df.columns"
   ]
  },
  {
   "cell_type": "code",
   "execution_count": null,
   "metadata": {},
   "outputs": [],
   "source": []
  }
 ],
 "metadata": {
  "kernelspec": {
   "display_name": "Python 3 (ipykernel)",
   "language": "python",
   "name": "python3"
  },
  "language_info": {
   "codemirror_mode": {
    "name": "ipython",
    "version": 3
   },
   "file_extension": ".py",
   "mimetype": "text/x-python",
   "name": "python",
   "nbconvert_exporter": "python",
   "pygments_lexer": "ipython3",
   "version": "3.9.13"
  },
  "vscode": {
   "interpreter": {
    "hash": "8544013bb5ee00a6b36145eaa8d717abd0f46e906ee65ff52dc2ec64e749734d"
   }
  }
 },
 "nbformat": 4,
 "nbformat_minor": 2
}
