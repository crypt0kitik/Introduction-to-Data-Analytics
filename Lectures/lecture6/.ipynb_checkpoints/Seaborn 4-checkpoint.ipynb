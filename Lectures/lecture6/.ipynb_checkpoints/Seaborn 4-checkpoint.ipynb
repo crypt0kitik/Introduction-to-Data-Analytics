{
 "cells": [
  {
   "cell_type": "code",
   "execution_count": 22,
   "id": "721fa793",
   "metadata": {},
   "outputs": [],
   "source": [
    "# the usual imports for data analytics\n",
    "import numpy as np\n",
    "import pandas as pd\n",
    "import seaborn as sns\n",
    "import matplotlib.pyplot as plt"
   ]
  },
  {
   "cell_type": "code",
   "execution_count": 23,
   "id": "4ccad2c8",
   "metadata": {},
   "outputs": [],
   "source": [
    "tips = sns.load_dataset('tips')\n",
    "tips['total_cost'] = tips['tip'] + tips['total_bill']"
   ]
  },
  {
   "cell_type": "code",
   "execution_count": 24,
   "id": "b9d9c7ff",
   "metadata": {},
   "outputs": [
    {
     "data": {
      "text/plain": [
       "<seaborn.axisgrid.FacetGrid at 0x7fc9b06c13a0>"
      ]
     },
     "execution_count": 24,
     "metadata": {},
     "output_type": "execute_result"
    }
   ],
   "source": [
    "sns.lmplot(x=\"total_bill\", y=\"tip\", data = tips)"
   ]
  },
  {
   "cell_type": "code",
   "execution_count": 26,
   "id": "e6f728af",
   "metadata": {},
   "outputs": [
    {
     "data": {
      "text/plain": [
       "<Figure size 640x480 with 0 Axes>"
      ]
     },
     "execution_count": 26,
     "metadata": {},
     "output_type": "execute_result"
    }
   ],
   "source": [
    "plt.clf()\n",
    "sns.lmplot(x=\"total_bill\", y=\"tip\", data = tips, hue = \"sex\")\n",
    "plt.figure()"
   ]
  },
  {
   "cell_type": "code",
   "execution_count": null,
   "id": "5f9ccf98",
   "metadata": {},
   "outputs": [],
   "source": []
  },
  {
   "cell_type": "code",
   "execution_count": null,
   "id": "7399920a",
   "metadata": {},
   "outputs": [],
   "source": []
  }
 ],
 "metadata": {
  "kernelspec": {
   "display_name": "Python 3 (ipykernel)",
   "language": "python",
   "name": "python3"
  },
  "language_info": {
   "codemirror_mode": {
    "name": "ipython",
    "version": 3
   },
   "file_extension": ".py",
   "mimetype": "text/x-python",
   "name": "python",
   "nbconvert_exporter": "python",
   "pygments_lexer": "ipython3",
   "version": "3.9.13"
  }
 },
 "nbformat": 4,
 "nbformat_minor": 5
}
