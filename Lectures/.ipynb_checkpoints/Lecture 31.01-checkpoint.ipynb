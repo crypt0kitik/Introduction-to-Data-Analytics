{
 "cells": [
  {
   "cell_type": "code",
   "execution_count": 42,
   "id": "2c5efd30",
   "metadata": {},
   "outputs": [],
   "source": [
    "import numpy as np\n",
    "import pandas as pd"
   ]
  },
  {
   "cell_type": "code",
   "execution_count": 43,
   "id": "0c9d540f",
   "metadata": {},
   "outputs": [
    {
     "data": {
      "text/html": [
       "<div>\n",
       "<style scoped>\n",
       "    .dataframe tbody tr th:only-of-type {\n",
       "        vertical-align: middle;\n",
       "    }\n",
       "\n",
       "    .dataframe tbody tr th {\n",
       "        vertical-align: top;\n",
       "    }\n",
       "\n",
       "    .dataframe thead th {\n",
       "        text-align: right;\n",
       "    }\n",
       "</style>\n",
       "<table border=\"1\" class=\"dataframe\">\n",
       "  <thead>\n",
       "    <tr style=\"text-align: right;\">\n",
       "      <th></th>\n",
       "      <th>0</th>\n",
       "    </tr>\n",
       "  </thead>\n",
       "  <tbody>\n",
       "    <tr>\n",
       "      <th>Dishwasher</th>\n",
       "      <td>399</td>\n",
       "    </tr>\n",
       "    <tr>\n",
       "      <th>Laptop</th>\n",
       "      <td>129</td>\n",
       "    </tr>\n",
       "    <tr>\n",
       "      <th>Iphone</th>\n",
       "      <td>123</td>\n",
       "    </tr>\n",
       "  </tbody>\n",
       "</table>\n",
       "</div>"
      ],
      "text/plain": [
       "              0\n",
       "Dishwasher  399\n",
       "Laptop      129\n",
       "Iphone      123"
      ]
     },
     "execution_count": 43,
     "metadata": {},
     "output_type": "execute_result"
    }
   ],
   "source": [
    "labels = [\"Dishwasher\", \"Laptop\", \"Iphone\"]\n",
    "prices = [399, 129, 123]\n",
    "\n",
    "# combine two lists into one using a pandas series\n",
    "ser1 = pd.Series(prices, labels)\n",
    "ser1.to_frame()"
   ]
  },
  {
   "cell_type": "code",
   "execution_count": 44,
   "id": "9b2ca78c",
   "metadata": {},
   "outputs": [
    {
     "data": {
      "text/html": [
       "<div>\n",
       "<style scoped>\n",
       "    .dataframe tbody tr th:only-of-type {\n",
       "        vertical-align: middle;\n",
       "    }\n",
       "\n",
       "    .dataframe tbody tr th {\n",
       "        vertical-align: top;\n",
       "    }\n",
       "\n",
       "    .dataframe thead th {\n",
       "        text-align: right;\n",
       "    }\n",
       "</style>\n",
       "<table border=\"1\" class=\"dataframe\">\n",
       "  <thead>\n",
       "    <tr style=\"text-align: right;\">\n",
       "      <th></th>\n",
       "      <th>0</th>\n",
       "    </tr>\n",
       "  </thead>\n",
       "  <tbody>\n",
       "    <tr>\n",
       "      <th>a</th>\n",
       "      <td>19</td>\n",
       "    </tr>\n",
       "    <tr>\n",
       "      <th>b</th>\n",
       "      <td>20</td>\n",
       "    </tr>\n",
       "    <tr>\n",
       "      <th>c</th>\n",
       "      <td>21</td>\n",
       "    </tr>\n",
       "  </tbody>\n",
       "</table>\n",
       "</div>"
      ],
      "text/plain": [
       "    0\n",
       "a  19\n",
       "b  20\n",
       "c  21"
      ]
     },
     "execution_count": 44,
     "metadata": {},
     "output_type": "execute_result"
    }
   ],
   "source": [
    "d = {\"a\": 19, \"b\": 20, \"c\": 21}\n",
    "ser1 = pd.Series(d)\n",
    "ser1.to_frame()"
   ]
  },
  {
   "cell_type": "code",
   "execution_count": 45,
   "id": "4191ecc7",
   "metadata": {},
   "outputs": [
    {
     "data": {
      "text/html": [
       "<div>\n",
       "<style scoped>\n",
       "    .dataframe tbody tr th:only-of-type {\n",
       "        vertical-align: middle;\n",
       "    }\n",
       "\n",
       "    .dataframe tbody tr th {\n",
       "        vertical-align: top;\n",
       "    }\n",
       "\n",
       "    .dataframe thead th {\n",
       "        text-align: right;\n",
       "    }\n",
       "</style>\n",
       "<table border=\"1\" class=\"dataframe\">\n",
       "  <thead>\n",
       "    <tr style=\"text-align: right;\">\n",
       "      <th></th>\n",
       "      <th>0</th>\n",
       "    </tr>\n",
       "  </thead>\n",
       "  <tbody>\n",
       "    <tr>\n",
       "      <th>Denmark</th>\n",
       "      <td>8.0</td>\n",
       "    </tr>\n",
       "    <tr>\n",
       "      <th>Finland</th>\n",
       "      <td>NaN</td>\n",
       "    </tr>\n",
       "    <tr>\n",
       "      <th>Lisbon</th>\n",
       "      <td>NaN</td>\n",
       "    </tr>\n",
       "    <tr>\n",
       "      <th>Norwegian</th>\n",
       "      <td>6.0</td>\n",
       "    </tr>\n",
       "    <tr>\n",
       "      <th>Oulu</th>\n",
       "      <td>NaN</td>\n",
       "    </tr>\n",
       "    <tr>\n",
       "      <th>Portugal</th>\n",
       "      <td>NaN</td>\n",
       "    </tr>\n",
       "  </tbody>\n",
       "</table>\n",
       "</div>"
      ],
      "text/plain": [
       "             0\n",
       "Denmark    8.0\n",
       "Finland    NaN\n",
       "Lisbon     NaN\n",
       "Norwegian  6.0\n",
       "Oulu       NaN\n",
       "Portugal   NaN"
      ]
     },
     "execution_count": 45,
     "metadata": {},
     "output_type": "execute_result"
    }
   ],
   "source": [
    "# combine 2 series\n",
    "ser1 = pd.Series([1, 2, 3, 4], [\"Finland\", \"Portugal\", \"Norwegian\", \"Denmark\"])\n",
    "ser2 = pd.Series([1, 2, 3, 4], [\"Oulu\", \"Lisbon\", \"Norwegian\", \"Denmark\"])\n",
    "combined = ser1 + ser2\n",
    "combined.to_frame()\n",
    "\n",
    "# we have NaN because text + number"
   ]
  },
  {
   "cell_type": "code",
   "execution_count": 46,
   "id": "a54de5c3",
   "metadata": {},
   "outputs": [],
   "source": [
    "from numpy.random import randint\n",
    "np.random.seed(321)"
   ]
  },
  {
   "cell_type": "code",
   "execution_count": 47,
   "id": "b2e8fb41",
   "metadata": {},
   "outputs": [
    {
     "data": {
      "text/html": [
       "<div>\n",
       "<style scoped>\n",
       "    .dataframe tbody tr th:only-of-type {\n",
       "        vertical-align: middle;\n",
       "    }\n",
       "\n",
       "    .dataframe tbody tr th {\n",
       "        vertical-align: top;\n",
       "    }\n",
       "\n",
       "    .dataframe thead th {\n",
       "        text-align: right;\n",
       "    }\n",
       "</style>\n",
       "<table border=\"1\" class=\"dataframe\">\n",
       "  <thead>\n",
       "    <tr style=\"text-align: right;\">\n",
       "      <th></th>\n",
       "      <th>Europe</th>\n",
       "      <th>North_America</th>\n",
       "      <th>South_America</th>\n",
       "      <th>Asia</th>\n",
       "      <th>Africa</th>\n",
       "      <th>Other</th>\n",
       "    </tr>\n",
       "  </thead>\n",
       "  <tbody>\n",
       "    <tr>\n",
       "      <th>Lazy</th>\n",
       "      <td>97268</td>\n",
       "      <td>6682</td>\n",
       "      <td>4220</td>\n",
       "      <td>43807</td>\n",
       "      <td>5929</td>\n",
       "      <td>91537</td>\n",
       "    </tr>\n",
       "    <tr>\n",
       "      <th>Piggy bank</th>\n",
       "      <td>24744</td>\n",
       "      <td>69018</td>\n",
       "      <td>99288</td>\n",
       "      <td>14068</td>\n",
       "      <td>90469</td>\n",
       "      <td>94536</td>\n",
       "    </tr>\n",
       "    <tr>\n",
       "      <th>Walmart</th>\n",
       "      <td>28243</td>\n",
       "      <td>44245</td>\n",
       "      <td>21633</td>\n",
       "      <td>78619</td>\n",
       "      <td>45594</td>\n",
       "      <td>37389</td>\n",
       "    </tr>\n",
       "    <tr>\n",
       "      <th>Lapin AMK Tequila</th>\n",
       "      <td>57643</td>\n",
       "      <td>46518</td>\n",
       "      <td>71742</td>\n",
       "      <td>99722</td>\n",
       "      <td>48613</td>\n",
       "      <td>97335</td>\n",
       "    </tr>\n",
       "  </tbody>\n",
       "</table>\n",
       "</div>"
      ],
      "text/plain": [
       "                   Europe  North_America  South_America   Asia  Africa  Other\n",
       "Lazy                97268           6682           4220  43807    5929  91537\n",
       "Piggy bank          24744          69018          99288  14068   90469  94536\n",
       "Walmart             28243          44245          21633  78619   45594  37389\n",
       "Lapin AMK Tequila   57643          46518          71742  99722   48613  97335"
      ]
     },
     "execution_count": 47,
     "metadata": {},
     "output_type": "execute_result"
    }
   ],
   "source": [
    "companies = [\"Lazy\", \"Piggy bank\", \"Walmart\", \"Lapin AMK Tequila\"]\n",
    "countries = [\"Europe\", \"North_America\", \"South_America\", \"Asia\", \"Africa\", \"Other\"]\n",
    "numbers = randint(99999, size = (4, 6))\n",
    "df = pd.DataFrame(numbers, companies, countries)\n",
    "df"
   ]
  },
  {
   "cell_type": "code",
   "execution_count": 48,
   "id": "b7cacb6b",
   "metadata": {},
   "outputs": [
    {
     "data": {
      "text/html": [
       "<div>\n",
       "<style scoped>\n",
       "    .dataframe tbody tr th:only-of-type {\n",
       "        vertical-align: middle;\n",
       "    }\n",
       "\n",
       "    .dataframe tbody tr th {\n",
       "        vertical-align: top;\n",
       "    }\n",
       "\n",
       "    .dataframe thead th {\n",
       "        text-align: right;\n",
       "    }\n",
       "</style>\n",
       "<table border=\"1\" class=\"dataframe\">\n",
       "  <thead>\n",
       "    <tr style=\"text-align: right;\">\n",
       "      <th></th>\n",
       "      <th>Europe</th>\n",
       "    </tr>\n",
       "  </thead>\n",
       "  <tbody>\n",
       "    <tr>\n",
       "      <th>Lazy</th>\n",
       "      <td>97268</td>\n",
       "    </tr>\n",
       "    <tr>\n",
       "      <th>Piggy bank</th>\n",
       "      <td>24744</td>\n",
       "    </tr>\n",
       "    <tr>\n",
       "      <th>Walmart</th>\n",
       "      <td>28243</td>\n",
       "    </tr>\n",
       "    <tr>\n",
       "      <th>Lapin AMK Tequila</th>\n",
       "      <td>57643</td>\n",
       "    </tr>\n",
       "  </tbody>\n",
       "</table>\n",
       "</div>"
      ],
      "text/plain": [
       "                   Europe\n",
       "Lazy                97268\n",
       "Piggy bank          24744\n",
       "Walmart             28243\n",
       "Lapin AMK Tequila   57643"
      ]
     },
     "execution_count": 48,
     "metadata": {},
     "output_type": "execute_result"
    }
   ],
   "source": [
    "col_df = df[\"Europe\"]\n",
    "col_df.to_frame()"
   ]
  },
  {
   "cell_type": "code",
   "execution_count": 49,
   "id": "6fc56ca8",
   "metadata": {},
   "outputs": [
    {
     "data": {
      "text/html": [
       "<div>\n",
       "<style scoped>\n",
       "    .dataframe tbody tr th:only-of-type {\n",
       "        vertical-align: middle;\n",
       "    }\n",
       "\n",
       "    .dataframe tbody tr th {\n",
       "        vertical-align: top;\n",
       "    }\n",
       "\n",
       "    .dataframe thead th {\n",
       "        text-align: right;\n",
       "    }\n",
       "</style>\n",
       "<table border=\"1\" class=\"dataframe\">\n",
       "  <thead>\n",
       "    <tr style=\"text-align: right;\">\n",
       "      <th></th>\n",
       "      <th>North_America</th>\n",
       "      <th>South_America</th>\n",
       "    </tr>\n",
       "  </thead>\n",
       "  <tbody>\n",
       "    <tr>\n",
       "      <th>Lazy</th>\n",
       "      <td>6682</td>\n",
       "      <td>4220</td>\n",
       "    </tr>\n",
       "    <tr>\n",
       "      <th>Piggy bank</th>\n",
       "      <td>69018</td>\n",
       "      <td>99288</td>\n",
       "    </tr>\n",
       "    <tr>\n",
       "      <th>Walmart</th>\n",
       "      <td>44245</td>\n",
       "      <td>21633</td>\n",
       "    </tr>\n",
       "    <tr>\n",
       "      <th>Lapin AMK Tequila</th>\n",
       "      <td>46518</td>\n",
       "      <td>71742</td>\n",
       "    </tr>\n",
       "  </tbody>\n",
       "</table>\n",
       "</div>"
      ],
      "text/plain": [
       "                   North_America  South_America\n",
       "Lazy                        6682           4220\n",
       "Piggy bank                 69018          99288\n",
       "Walmart                    44245          21633\n",
       "Lapin AMK Tequila          46518          71742"
      ]
     },
     "execution_count": 49,
     "metadata": {},
     "output_type": "execute_result"
    }
   ],
   "source": [
    "cols_df = df[[\"North_America\", \"South_America\"]]\n",
    "cols_df"
   ]
  },
  {
   "cell_type": "code",
   "execution_count": 50,
   "id": "f880a8b0",
   "metadata": {},
   "outputs": [
    {
     "ename": "AttributeError",
     "evalue": "'DataFrame' object has no attribute 'to_frame'",
     "output_type": "error",
     "traceback": [
      "\u001b[0;31m---------------------------------------------------------------------------\u001b[0m",
      "\u001b[0;31mAttributeError\u001b[0m                            Traceback (most recent call last)",
      "\u001b[0;32m/var/folders/20/hrkxfm3x44z9qt9zqv_zchj00000gn/T/ipykernel_2779/3407430900.py\u001b[0m in \u001b[0;36m<module>\u001b[0;34m\u001b[0m\n\u001b[1;32m      1\u001b[0m \u001b[0mdf\u001b[0m\u001b[0;34m[\u001b[0m\u001b[0;34m\"Both_Americas\"\u001b[0m\u001b[0;34m]\u001b[0m \u001b[0;34m=\u001b[0m \u001b[0mdf\u001b[0m\u001b[0;34m[\u001b[0m\u001b[0;34m\"North_America\"\u001b[0m\u001b[0;34m]\u001b[0m \u001b[0;34m+\u001b[0m \u001b[0mdf\u001b[0m\u001b[0;34m[\u001b[0m\u001b[0;34m\"South_America\"\u001b[0m\u001b[0;34m]\u001b[0m\u001b[0;34m\u001b[0m\u001b[0;34m\u001b[0m\u001b[0m\n\u001b[0;32m----> 2\u001b[0;31m \u001b[0mdf\u001b[0m\u001b[0;34m.\u001b[0m\u001b[0mto_frame\u001b[0m\u001b[0;34m(\u001b[0m\u001b[0;34m)\u001b[0m\u001b[0;34m\u001b[0m\u001b[0;34m\u001b[0m\u001b[0m\n\u001b[0m",
      "\u001b[0;32m~/opt/anaconda3/lib/python3.9/site-packages/pandas/core/generic.py\u001b[0m in \u001b[0;36m__getattr__\u001b[0;34m(self, name)\u001b[0m\n\u001b[1;32m   5900\u001b[0m         ):\n\u001b[1;32m   5901\u001b[0m             \u001b[0;32mreturn\u001b[0m \u001b[0mself\u001b[0m\u001b[0;34m[\u001b[0m\u001b[0mname\u001b[0m\u001b[0;34m]\u001b[0m\u001b[0;34m\u001b[0m\u001b[0;34m\u001b[0m\u001b[0m\n\u001b[0;32m-> 5902\u001b[0;31m         \u001b[0;32mreturn\u001b[0m \u001b[0mobject\u001b[0m\u001b[0;34m.\u001b[0m\u001b[0m__getattribute__\u001b[0m\u001b[0;34m(\u001b[0m\u001b[0mself\u001b[0m\u001b[0;34m,\u001b[0m \u001b[0mname\u001b[0m\u001b[0;34m)\u001b[0m\u001b[0;34m\u001b[0m\u001b[0;34m\u001b[0m\u001b[0m\n\u001b[0m\u001b[1;32m   5903\u001b[0m \u001b[0;34m\u001b[0m\u001b[0m\n\u001b[1;32m   5904\u001b[0m     \u001b[0;32mdef\u001b[0m \u001b[0m__setattr__\u001b[0m\u001b[0;34m(\u001b[0m\u001b[0mself\u001b[0m\u001b[0;34m,\u001b[0m \u001b[0mname\u001b[0m\u001b[0;34m:\u001b[0m \u001b[0mstr\u001b[0m\u001b[0;34m,\u001b[0m \u001b[0mvalue\u001b[0m\u001b[0;34m)\u001b[0m \u001b[0;34m->\u001b[0m \u001b[0;32mNone\u001b[0m\u001b[0;34m:\u001b[0m\u001b[0;34m\u001b[0m\u001b[0;34m\u001b[0m\u001b[0m\n",
      "\u001b[0;31mAttributeError\u001b[0m: 'DataFrame' object has no attribute 'to_frame'"
     ]
    }
   ],
   "source": [
    "df[\"Both_Americas\"] = df[\"North_America\"] + df[\"South_America\"]\n",
    "df.to_frame()"
   ]
  },
  {
   "cell_type": "code",
   "execution_count": null,
   "id": "352d6d4e",
   "metadata": {
    "scrolled": false
   },
   "outputs": [],
   "source": []
  },
  {
   "cell_type": "code",
   "execution_count": null,
   "id": "43c0c1b1",
   "metadata": {},
   "outputs": [],
   "source": []
  },
  {
   "cell_type": "code",
   "execution_count": null,
   "id": "02895104",
   "metadata": {},
   "outputs": [],
   "source": [
    "# axis = 0 or default is row, axis = 1 is column\n",
    "df = df.drop(\"Both_Americas\", axis = 1)"
   ]
  },
  {
   "cell_type": "code",
   "execution_count": null,
   "id": "f6ec9943",
   "metadata": {},
   "outputs": [],
   "source": [
    "df"
   ]
  },
  {
   "cell_type": "code",
   "execution_count": null,
   "id": "b8ca1f27",
   "metadata": {},
   "outputs": [],
   "source": [
    "df['Both_Americas'] = df['North_America'] + df['South_America']\n",
    "df"
   ]
  },
  {
   "cell_type": "code",
   "execution_count": null,
   "id": "93410f74",
   "metadata": {},
   "outputs": [],
   "source": [
    "# drop one of the columns\n",
    "df = df.drop(\"North_America\", axis=1)"
   ]
  },
  {
   "cell_type": "code",
   "execution_count": null,
   "id": "a68f4208",
   "metadata": {},
   "outputs": [],
   "source": [
    "# drop one of the columns\n",
    "df = df.drop(\"Lazy\")"
   ]
  },
  {
   "cell_type": "code",
   "execution_count": null,
   "id": "563cc188",
   "metadata": {},
   "outputs": [],
   "source": []
  },
  {
   "cell_type": "code",
   "execution_count": null,
   "id": "e27c75b7",
   "metadata": {},
   "outputs": [],
   "source": [
    "df = df.drop(\"Lazy\")"
   ]
  },
  {
   "cell_type": "code",
   "execution_count": null,
   "id": "29e0e06e",
   "metadata": {},
   "outputs": [],
   "source": [
    "df"
   ]
  },
  {
   "cell_type": "code",
   "execution_count": null,
   "id": "485ba411",
   "metadata": {},
   "outputs": [],
   "source": [
    "row = df.iloc[2]\n",
    "row.to_frame().transpose()"
   ]
  },
  {
   "cell_type": "code",
   "execution_count": null,
   "id": "ff19c6c9",
   "metadata": {},
   "outputs": [],
   "source": [
    "df"
   ]
  },
  {
   "cell_type": "code",
   "execution_count": null,
   "id": "ec5420bc",
   "metadata": {},
   "outputs": [],
   "source": [
    "df = df.drop(\"Both_Americas\", axis = 1)"
   ]
  },
  {
   "cell_type": "code",
   "execution_count": 53,
   "id": "ac3ab8cc",
   "metadata": {},
   "outputs": [
    {
     "data": {
      "text/html": [
       "<div>\n",
       "<style scoped>\n",
       "    .dataframe tbody tr th:only-of-type {\n",
       "        vertical-align: middle;\n",
       "    }\n",
       "\n",
       "    .dataframe tbody tr th {\n",
       "        vertical-align: top;\n",
       "    }\n",
       "\n",
       "    .dataframe thead th {\n",
       "        text-align: right;\n",
       "    }\n",
       "</style>\n",
       "<table border=\"1\" class=\"dataframe\">\n",
       "  <thead>\n",
       "    <tr style=\"text-align: right;\">\n",
       "      <th></th>\n",
       "      <th>Europe</th>\n",
       "      <th>North_America</th>\n",
       "      <th>South_America</th>\n",
       "      <th>Asia</th>\n",
       "      <th>Africa</th>\n",
       "      <th>Other</th>\n",
       "      <th>Both_Americas</th>\n",
       "    </tr>\n",
       "  </thead>\n",
       "  <tbody>\n",
       "    <tr>\n",
       "      <th>Lazy</th>\n",
       "      <td>97268</td>\n",
       "      <td>6682</td>\n",
       "      <td>4220</td>\n",
       "      <td>43807</td>\n",
       "      <td>5929</td>\n",
       "      <td>91537</td>\n",
       "      <td>10902</td>\n",
       "    </tr>\n",
       "    <tr>\n",
       "      <th>Piggy bank</th>\n",
       "      <td>24744</td>\n",
       "      <td>69018</td>\n",
       "      <td>99288</td>\n",
       "      <td>14068</td>\n",
       "      <td>90469</td>\n",
       "      <td>94536</td>\n",
       "      <td>168306</td>\n",
       "    </tr>\n",
       "    <tr>\n",
       "      <th>Walmart</th>\n",
       "      <td>28243</td>\n",
       "      <td>44245</td>\n",
       "      <td>21633</td>\n",
       "      <td>78619</td>\n",
       "      <td>45594</td>\n",
       "      <td>37389</td>\n",
       "      <td>65878</td>\n",
       "    </tr>\n",
       "    <tr>\n",
       "      <th>Lapin AMK Tequila</th>\n",
       "      <td>57643</td>\n",
       "      <td>46518</td>\n",
       "      <td>71742</td>\n",
       "      <td>99722</td>\n",
       "      <td>48613</td>\n",
       "      <td>97335</td>\n",
       "      <td>118260</td>\n",
       "    </tr>\n",
       "  </tbody>\n",
       "</table>\n",
       "</div>"
      ],
      "text/plain": [
       "                   Europe  North_America  South_America   Asia  Africa  Other  \\\n",
       "Lazy                97268           6682           4220  43807    5929  91537   \n",
       "Piggy bank          24744          69018          99288  14068   90469  94536   \n",
       "Walmart             28243          44245          21633  78619   45594  37389   \n",
       "Lapin AMK Tequila   57643          46518          71742  99722   48613  97335   \n",
       "\n",
       "                   Both_Americas  \n",
       "Lazy                       10902  \n",
       "Piggy bank                168306  \n",
       "Walmart                    65878  \n",
       "Lapin AMK Tequila         118260  "
      ]
     },
     "execution_count": 53,
     "metadata": {},
     "output_type": "execute_result"
    }
   ],
   "source": [
    "df"
   ]
  },
  {
   "cell_type": "code",
   "execution_count": null,
   "id": "90b3fce2",
   "metadata": {
    "scrolled": true
   },
   "outputs": [],
   "source": []
  },
  {
   "cell_type": "code",
   "execution_count": 52,
   "id": "e6738d3a",
   "metadata": {},
   "outputs": [
    {
     "data": {
      "text/html": [
       "<div>\n",
       "<style scoped>\n",
       "    .dataframe tbody tr th:only-of-type {\n",
       "        vertical-align: middle;\n",
       "    }\n",
       "\n",
       "    .dataframe tbody tr th {\n",
       "        vertical-align: top;\n",
       "    }\n",
       "\n",
       "    .dataframe thead th {\n",
       "        text-align: right;\n",
       "    }\n",
       "</style>\n",
       "<table border=\"1\" class=\"dataframe\">\n",
       "  <thead>\n",
       "    <tr style=\"text-align: right;\">\n",
       "      <th></th>\n",
       "      <th>Europe</th>\n",
       "      <th>North_America</th>\n",
       "      <th>South_America</th>\n",
       "      <th>Asia</th>\n",
       "      <th>Africa</th>\n",
       "      <th>Other</th>\n",
       "      <th>Both_Americas</th>\n",
       "    </tr>\n",
       "  </thead>\n",
       "  <tbody>\n",
       "    <tr>\n",
       "      <th>Lazy</th>\n",
       "      <td>97268</td>\n",
       "      <td>6682</td>\n",
       "      <td>4220</td>\n",
       "      <td>43807</td>\n",
       "      <td>5929</td>\n",
       "      <td>91537</td>\n",
       "      <td>10902</td>\n",
       "    </tr>\n",
       "    <tr>\n",
       "      <th>Lapin AMK Tequila</th>\n",
       "      <td>57643</td>\n",
       "      <td>46518</td>\n",
       "      <td>71742</td>\n",
       "      <td>99722</td>\n",
       "      <td>48613</td>\n",
       "      <td>97335</td>\n",
       "      <td>118260</td>\n",
       "    </tr>\n",
       "  </tbody>\n",
       "</table>\n",
       "</div>"
      ],
      "text/plain": [
       "                   Europe  North_America  South_America   Asia  Africa  Other  \\\n",
       "Lazy                97268           6682           4220  43807    5929  91537   \n",
       "Lapin AMK Tequila   57643          46518          71742  99722   48613  97335   \n",
       "\n",
       "                   Both_Americas  \n",
       "Lazy                       10902  \n",
       "Lapin AMK Tequila         118260  "
      ]
     },
     "execution_count": 52,
     "metadata": {},
     "output_type": "execute_result"
    }
   ],
   "source": [
    "# to filter info\n",
    "resultdf = df[df[\"Europe\"]>40000]\n",
    "resultdf"
   ]
  },
  {
   "cell_type": "code",
   "execution_count": 54,
   "id": "950462f0",
   "metadata": {},
   "outputs": [
    {
     "data": {
      "text/html": [
       "<div>\n",
       "<style scoped>\n",
       "    .dataframe tbody tr th:only-of-type {\n",
       "        vertical-align: middle;\n",
       "    }\n",
       "\n",
       "    .dataframe tbody tr th {\n",
       "        vertical-align: top;\n",
       "    }\n",
       "\n",
       "    .dataframe thead th {\n",
       "        text-align: right;\n",
       "    }\n",
       "</style>\n",
       "<table border=\"1\" class=\"dataframe\">\n",
       "  <thead>\n",
       "    <tr style=\"text-align: right;\">\n",
       "      <th></th>\n",
       "      <th>Asia</th>\n",
       "    </tr>\n",
       "  </thead>\n",
       "  <tbody>\n",
       "    <tr>\n",
       "      <th>Lazy</th>\n",
       "      <td>43807</td>\n",
       "    </tr>\n",
       "    <tr>\n",
       "      <th>Lapin AMK Tequila</th>\n",
       "      <td>99722</td>\n",
       "    </tr>\n",
       "  </tbody>\n",
       "</table>\n",
       "</div>"
      ],
      "text/plain": [
       "                    Asia\n",
       "Lazy               43807\n",
       "Lapin AMK Tequila  99722"
      ]
     },
     "execution_count": 54,
     "metadata": {},
     "output_type": "execute_result"
    }
   ],
   "source": [
    "filtered1 = resultdf[\"Asia\"]\n",
    "filtered1.to_frame()"
   ]
  },
  {
   "cell_type": "code",
   "execution_count": 55,
   "id": "ec9a3799",
   "metadata": {},
   "outputs": [
    {
     "data": {
      "text/html": [
       "<div>\n",
       "<style scoped>\n",
       "    .dataframe tbody tr th:only-of-type {\n",
       "        vertical-align: middle;\n",
       "    }\n",
       "\n",
       "    .dataframe tbody tr th {\n",
       "        vertical-align: top;\n",
       "    }\n",
       "\n",
       "    .dataframe thead th {\n",
       "        text-align: right;\n",
       "    }\n",
       "</style>\n",
       "<table border=\"1\" class=\"dataframe\">\n",
       "  <thead>\n",
       "    <tr style=\"text-align: right;\">\n",
       "      <th></th>\n",
       "      <th>Europe</th>\n",
       "      <th>North_America</th>\n",
       "      <th>South_America</th>\n",
       "      <th>Asia</th>\n",
       "      <th>Africa</th>\n",
       "      <th>Other</th>\n",
       "      <th>Both_Americas</th>\n",
       "    </tr>\n",
       "  </thead>\n",
       "  <tbody>\n",
       "    <tr>\n",
       "      <th>Lazy</th>\n",
       "      <td>97268</td>\n",
       "      <td>6682</td>\n",
       "      <td>4220</td>\n",
       "      <td>43807</td>\n",
       "      <td>5929</td>\n",
       "      <td>91537</td>\n",
       "      <td>10902</td>\n",
       "    </tr>\n",
       "    <tr>\n",
       "      <th>Piggy bank</th>\n",
       "      <td>24744</td>\n",
       "      <td>69018</td>\n",
       "      <td>99288</td>\n",
       "      <td>14068</td>\n",
       "      <td>90469</td>\n",
       "      <td>94536</td>\n",
       "      <td>168306</td>\n",
       "    </tr>\n",
       "    <tr>\n",
       "      <th>Walmart</th>\n",
       "      <td>28243</td>\n",
       "      <td>44245</td>\n",
       "      <td>21633</td>\n",
       "      <td>78619</td>\n",
       "      <td>45594</td>\n",
       "      <td>37389</td>\n",
       "      <td>65878</td>\n",
       "    </tr>\n",
       "    <tr>\n",
       "      <th>Lapin AMK Tequila</th>\n",
       "      <td>57643</td>\n",
       "      <td>46518</td>\n",
       "      <td>71742</td>\n",
       "      <td>99722</td>\n",
       "      <td>48613</td>\n",
       "      <td>97335</td>\n",
       "      <td>118260</td>\n",
       "    </tr>\n",
       "  </tbody>\n",
       "</table>\n",
       "</div>"
      ],
      "text/plain": [
       "                   Europe  North_America  South_America   Asia  Africa  Other  \\\n",
       "Lazy                97268           6682           4220  43807    5929  91537   \n",
       "Piggy bank          24744          69018          99288  14068   90469  94536   \n",
       "Walmart             28243          44245          21633  78619   45594  37389   \n",
       "Lapin AMK Tequila   57643          46518          71742  99722   48613  97335   \n",
       "\n",
       "                   Both_Americas  \n",
       "Lazy                       10902  \n",
       "Piggy bank                168306  \n",
       "Walmart                    65878  \n",
       "Lapin AMK Tequila         118260  "
      ]
     },
     "execution_count": 55,
     "metadata": {},
     "output_type": "execute_result"
    }
   ],
   "source": [
    "# to filter info\n",
    "resultdf = df[df[\"Europe\"]>4000]\n",
    "resultdf"
   ]
  },
  {
   "cell_type": "code",
   "execution_count": 56,
   "id": "5e1d17c5",
   "metadata": {},
   "outputs": [
    {
     "data": {
      "text/html": [
       "<div>\n",
       "<style scoped>\n",
       "    .dataframe tbody tr th:only-of-type {\n",
       "        vertical-align: middle;\n",
       "    }\n",
       "\n",
       "    .dataframe tbody tr th {\n",
       "        vertical-align: top;\n",
       "    }\n",
       "\n",
       "    .dataframe thead th {\n",
       "        text-align: right;\n",
       "    }\n",
       "</style>\n",
       "<table border=\"1\" class=\"dataframe\">\n",
       "  <thead>\n",
       "    <tr style=\"text-align: right;\">\n",
       "      <th></th>\n",
       "      <th>Europe</th>\n",
       "    </tr>\n",
       "  </thead>\n",
       "  <tbody>\n",
       "    <tr>\n",
       "      <th>Lazy</th>\n",
       "      <td>97268</td>\n",
       "    </tr>\n",
       "    <tr>\n",
       "      <th>Lapin AMK Tequila</th>\n",
       "      <td>57643</td>\n",
       "    </tr>\n",
       "  </tbody>\n",
       "</table>\n",
       "</div>"
      ],
      "text/plain": [
       "                   Europe\n",
       "Lazy                97268\n",
       "Lapin AMK Tequila   57643"
      ]
     },
     "execution_count": 56,
     "metadata": {},
     "output_type": "execute_result"
    }
   ],
   "source": [
    "# to filter info\n",
    "resultdf = df[df[\"Europe\"]>40000]\n",
    "resultdf[\"Europe\"].to_frame()"
   ]
  },
  {
   "cell_type": "code",
   "execution_count": 57,
   "id": "cbafe08e",
   "metadata": {},
   "outputs": [
    {
     "data": {
      "text/html": [
       "<div>\n",
       "<style scoped>\n",
       "    .dataframe tbody tr th:only-of-type {\n",
       "        vertical-align: middle;\n",
       "    }\n",
       "\n",
       "    .dataframe tbody tr th {\n",
       "        vertical-align: top;\n",
       "    }\n",
       "\n",
       "    .dataframe thead th {\n",
       "        text-align: right;\n",
       "    }\n",
       "</style>\n",
       "<table border=\"1\" class=\"dataframe\">\n",
       "  <thead>\n",
       "    <tr style=\"text-align: right;\">\n",
       "      <th></th>\n",
       "      <th>Europe</th>\n",
       "      <th>North_America</th>\n",
       "      <th>South_America</th>\n",
       "      <th>Asia</th>\n",
       "      <th>Africa</th>\n",
       "      <th>Other</th>\n",
       "      <th>Both_Americas</th>\n",
       "    </tr>\n",
       "  </thead>\n",
       "  <tbody>\n",
       "    <tr>\n",
       "      <th>Lapin AMK Tequila</th>\n",
       "      <td>57643</td>\n",
       "      <td>46518</td>\n",
       "      <td>71742</td>\n",
       "      <td>99722</td>\n",
       "      <td>48613</td>\n",
       "      <td>97335</td>\n",
       "      <td>118260</td>\n",
       "    </tr>\n",
       "  </tbody>\n",
       "</table>\n",
       "</div>"
      ],
      "text/plain": [
       "                   Europe  North_America  South_America   Asia  Africa  Other  \\\n",
       "Lapin AMK Tequila   57643          46518          71742  99722   48613  97335   \n",
       "\n",
       "                   Both_Americas  \n",
       "Lapin AMK Tequila         118260  "
      ]
     },
     "execution_count": 57,
     "metadata": {},
     "output_type": "execute_result"
    }
   ],
   "source": [
    "# two conditions at the same time\n",
    "test_condition = df[(df[\"Europe\"]>30000)&(df[\"Africa\"]>20000)]\n",
    "test_condition"
   ]
  },
  {
   "cell_type": "code",
   "execution_count": null,
   "id": "38d0d70a",
   "metadata": {},
   "outputs": [],
   "source": []
  }
 ],
 "metadata": {
  "kernelspec": {
   "display_name": "Python 3 (ipykernel)",
   "language": "python",
   "name": "python3"
  },
  "language_info": {
   "codemirror_mode": {
    "name": "ipython",
    "version": 3
   },
   "file_extension": ".py",
   "mimetype": "text/x-python",
   "name": "python",
   "nbconvert_exporter": "python",
   "pygments_lexer": "ipython3",
   "version": "3.9.13"
  }
 },
 "nbformat": 4,
 "nbformat_minor": 5
}
