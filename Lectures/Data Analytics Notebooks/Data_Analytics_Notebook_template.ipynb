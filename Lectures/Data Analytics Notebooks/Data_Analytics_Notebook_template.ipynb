{
 "cells": [
  {
   "cell_type": "markdown",
   "metadata": {},
   "source": [
    "<h2>Data Analytics- notebook template</h2>"
   ]
  },
  {
   "cell_type": "markdown",
   "metadata": {},
   "source": [
    "<b style=\"color: red;\">NOTE! Only creating seaborn visualizations etc. with your code is not sufficient for a Data Analytics notebook. You also have to explain (either by markdown or code comments) what is interesting in the data, charts or visualizations. The reader of this notebook should be quickly able to see the basic information about the data as well the most interesting findings in your analytics.</b>"
   ]
  },
  {
   "cell_type": "markdown",
   "metadata": {},
   "source": [
    "<h4><b>Dataset name / short description:</b></h4>"
   ]
  },
  {
   "cell_type": "markdown",
   "metadata": {},
   "source": [
    "Write here the name of your dataset (or datasets, if you use multiple datasets for your analysis) and write a short description of the data in each of the datasets. For example \"house price data in Chicago, US\".\n",
    "\n",
    "Note: using multiple datasets only refers to using multiple datasets about the same subject (for example, you could have one dataset about European markets and another about US markets). If you're making completely separate data analysis cases, where the datasets have nothing in common, just create another Data Analytics notebook altogether. \n",
    "\n",
    "You are allowed to return as many Data Analytics notebooks during this course as you want, each are rewarded for points."
   ]
  },
  {
   "cell_type": "markdown",
   "metadata": {},
   "source": [
    "<h4><b>Data source (url):</b></h4>"
   ]
  },
  {
   "cell_type": "markdown",
   "metadata": {},
   "source": [
    "Where is the original data located (kaggle.com, or something else?). Place also the original URL (or all URLs, if using many)"
   ]
  },
  {
   "cell_type": "markdown",
   "metadata": {},
   "source": [
    "<h4><b>Data format:</b></h4>"
   ]
  },
  {
   "cell_type": "markdown",
   "metadata": {},
   "source": [
    "What was the original data format: csv, json, webscraping or something else?"
   ]
  },
  {
   "cell_type": "markdown",
   "metadata": {},
   "source": [
    "<h3><b>Code: importing modules and loading the the data</b></h3>"
   ]
  },
  {
   "cell_type": "code",
   "execution_count": null,
   "metadata": {},
   "outputs": [],
   "source": [
    "# import all the modules you need here (numpy, pandas etc.)\n",
    "# load up your datasets into DataFrames (or something similar)\n",
    "# this code phase can be any number of code lines, it really depends\n",
    "# on the data you're working with"
   ]
  },
  {
   "cell_type": "markdown",
   "metadata": {},
   "source": [
    "<h3><b>Code: Data clean-up procedure</b></h3>"
   ]
  },
  {
   "cell_type": "code",
   "execution_count": null,
   "metadata": {},
   "outputs": [],
   "source": [
    "# clean-up your data with code in this part\n",
    "\n",
    "# provide also markdown/comments of why you decided to do something with your data\n",
    "# - what columns you dropped out and why?\n",
    "# - did you create an new helpful columns or computations?\n",
    "# - did you combine columns?\n",
    "# - did your filter or modify any column values and why?\n",
    "# - were there any missing data, and if there was, how did you handle the missing values? \n",
    "# -- also explain the reason on how you decided to handle the missing values in a certain way"
   ]
  },
  {
   "cell_type": "markdown",
   "metadata": {},
   "source": [
    "<h3><b>Code: Data analysis</b></h3>"
   ]
  },
  {
   "cell_type": "code",
   "execution_count": 1,
   "metadata": {},
   "outputs": [],
   "source": [
    "# this is the major part of this data analytics notebook\n",
    "\n",
    "# Add all helpful plots and statistics numbers in this section. \n",
    "# Explain also why you selected a certain plot or computation in your analysis, and what you wished to achieve with them. \n",
    "\n",
    "# Note: do not add every possible plot and number that there exists, the idea is to be concise. \n",
    "# In other words, only show plots and numbers that show something interesting.  \n",
    "# Try to find out interesting correlations, contradictions and potential causations. \n",
    "# Is there something that was surprising in the data, or is there something that does or does not make sense?\n",
    "# Support your findings with pandas statistics and seaborn plots. You can also use other plotting libraries if you wish.\n",
    "# This part of the report can have large amounts of code if the dataset is difficult.\n",
    "\n",
    "# You can also use quantitative analysis methods (chi-square, t-tests, ANOVA etc.) to support your findings, \n",
    "# but these are considered extra tasks/extra points only!\n",
    "\n",
    "# Tip: you can see many nice tricks for pandas and seaborn in the earlier exercise sets we have done during the\n",
    "# course. numpy/pandas/seaborn are just tools, it's okay to use all the tricks these modules have to offer\n",
    "# in order to find the interesting features of your data!\n"
   ]
  },
  {
   "cell_type": "markdown",
   "metadata": {},
   "source": [
    "<h3><b>Results and summary:</b></h3>"
   ]
  },
  {
   "cell_type": "markdown",
   "metadata": {},
   "source": [
    "Write a short summary about the dataset(s) and the data analytics, what was the most interesting findings in the data case? Was there something surprising?"
   ]
  },
  {
   "cell_type": "markdown",
   "metadata": {},
   "source": [
    "<h3><b>Ideas for further improvements:</b></h3>"
   ]
  },
  {
   "cell_type": "markdown",
   "metadata": {},
   "source": [
    "If you came up with ideas how these findings could be improved, write them here. \n",
    "\n",
    "For example, would you need data from another time period or a different country, or would there be other additions that could make this data analysis more interesting? For example, housing data + geolocation data etc."
   ]
  }
 ],
 "metadata": {
  "kernelspec": {
   "display_name": "Python 3 (ipykernel)",
   "language": "python",
   "name": "python3"
  },
  "language_info": {
   "codemirror_mode": {
    "name": "ipython",
    "version": 3
   },
   "file_extension": ".py",
   "mimetype": "text/x-python",
   "name": "python",
   "nbconvert_exporter": "python",
   "pygments_lexer": "ipython3",
   "version": "3.9.13"
  },
  "vscode": {
   "interpreter": {
    "hash": "7b393597a1a01400f99fd0b0bd7e53e32f7c09a6c4e3f1d7dcfe73f5e3a50c61"
   }
  }
 },
 "nbformat": 4,
 "nbformat_minor": 2
}
